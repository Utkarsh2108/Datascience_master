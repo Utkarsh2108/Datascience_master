{
  "cells": [
    {
      "cell_type": "markdown",
      "id": "14aab1aa",
      "metadata": {
        "id": "14aab1aa"
      },
      "source": [
        "#### `Q1`: What is the relationship between polynomial functions and kernel functions in machine learning algorithms?\n",
        "\n"
      ]
    },
    {
      "cell_type": "markdown",
      "source": [
        "* Polynomial functions and kernel functions are both used as mapping functions in machine learning algorithms, but they serve different purposes. \n",
        "* Polynomial functions are a type of mapping function used to transform the input data to a higher-dimensional feature space.\n",
        "* Kernel functions, on the other hand, are used to compute the similarity between data points in the original or transformed feature space. \n",
        "* In some cases, polynomial functions can be used as kernel functions, such as the polynomial kernel in support vector machines (SVMs). However, not all kernel functions are polynomial functions, as there are other types of kernel functions, such as radial basis function (RBF) kernels, which are commonly used in SVMs and other machine learning algorithms"
      ],
      "metadata": {
        "id": "xK7fB5dWXqWC"
      },
      "id": "xK7fB5dWXqWC"
    },
    {
      "cell_type": "markdown",
      "id": "0a9eaf10",
      "metadata": {
        "id": "0a9eaf10"
      },
      "source": [
        "#### `Q2`:How can we implement an SVM with a polynomial kernel in Python using Scikit-learn?\n"
      ]
    },
    {
      "cell_type": "code",
      "execution_count": null,
      "id": "a309389f",
      "metadata": {
        "id": "a309389f"
      },
      "outputs": [],
      "source": [
        "from sklearn import datasets\n",
        "from sklearn.model_selection import train_test_split\n",
        "from sklearn.svm import SVC\n",
        "from sklearn.metrics import accuracy_score"
      ]
    },
    {
      "cell_type": "code",
      "source": [
        "iris = datasets.load_iris()\n",
        "X = iris.data\n",
        "y = iris.target"
      ],
      "metadata": {
        "id": "F0tX8C5QXbOp"
      },
      "id": "F0tX8C5QXbOp",
      "execution_count": null,
      "outputs": []
    },
    {
      "cell_type": "code",
      "source": [
        "X_train, X_test, y_train, y_test = train_test_split(X, y, test_size=0.2)\n",
        "svm_poly = SVC(kernel='poly', degree=3, C=1000)\n",
        "\n",
        "svm_poly.fit(X_train, y_train)"
      ],
      "metadata": {
        "id": "0batzSteXdYF"
      },
      "id": "0batzSteXdYF",
      "execution_count": null,
      "outputs": []
    },
    {
      "cell_type": "code",
      "source": [
        "y_pred = svm_poly.predict(X_test)\n",
        "\n",
        "print(\"Accuracy:\", accuracy_score(y_test, y_pred))"
      ],
      "metadata": {
        "id": "XKVzG-vpXeVG"
      },
      "id": "XKVzG-vpXeVG",
      "execution_count": null,
      "outputs": []
    },
    {
      "cell_type": "markdown",
      "id": "822b4859",
      "metadata": {
        "id": "822b4859"
      },
      "source": [
        "#### `Q3`: How does increasing the value of epsilon affect the number of support vectors in SVR?\n"
      ]
    },
    {
      "cell_type": "markdown",
      "source": [
        "* In Support Vector Regression (SVR), epsilon is a hyperparameter that controls the width of the margin and the tolerance for errors in the training set. Specifically, epsilon determines the maximum distance between the predicted and actual output values of the training samples that are considered as errors.\n",
        "\n",
        "* Increasing the value of epsilon in SVR will typically result in an increase in the number of support vectors. This is because a larger value of epsilon allows more training samples to be within the margin, and hence more support vectors will be required to define the boundary."
      ],
      "metadata": {
        "id": "YlytgOSrX3iM"
      },
      "id": "YlytgOSrX3iM"
    },
    {
      "cell_type": "markdown",
      "id": "dbba86ea",
      "metadata": {
        "id": "dbba86ea"
      },
      "source": [
        "#### `Q4`: How does the choice of kernel function, C parameter, epsilon parameter, and gamma parameter affect the performance of Support Vector Regression (SVR)? Can you explain how each parameter works and provide examples of when you might want to increase or decrease its value?\n",
        "\n"
      ]
    },
    {
      "cell_type": "markdown",
      "source": [
        "* The choice of kernel function, C parameter, epsilon parameter, and gamma parameter can all significantly affect the performance of Support Vector Regression (SVR).\n",
        "\n",
        "  * **Kernel Function:** The kernel function determines how the input data is transformed into a high-dimensional feature space, where linear separation is possible. The choice of kernel function depends on the problem at hand and the characteristics of the data. For example, the linear kernel is suitable for linearly separable data, while the RBF kernel is more suitable for nonlinear data.\n",
        "\n",
        "  * **C Parameter:** The C parameter controls the trade-off between the complexity of the model and the degree to which errors are tolerated. A smaller value of C will result in a more flexible model, which allows more errors but may lead to overfitting. A larger value of C will result in a less flexible model, which tolerates fewer errors but may lead to underfitting. Increasing C makes the model more rigid and decreases the number of support vectors.\n",
        "\n",
        "  * **Epsilon Parameter:** The epsilon parameter determines the margin of error allowed for the predictions. A smaller value of epsilon will result in a smaller margin of error, which means the model will try to fit the training data more closely. A larger value of epsilon will result in a larger margin of error, which means the model will be less sensitive to noise and outliers.\n",
        "\n",
        "  * **Gamma Parameter:** The gamma parameter determines the shape of the decision boundary. A smaller value of gamma will result in a more linear decision boundary, while a larger value of gamma will result in a more complex decision boundary. A high value of gamma means that the model will only consider data points close to the support vectors, while a low value of gamma means that the model will consider data points farther away."
      ],
      "metadata": {
        "id": "A0pkkkpgYD7-"
      },
      "id": "A0pkkkpgYD7-"
    },
    {
      "cell_type": "markdown",
      "id": "e1e7cb87",
      "metadata": {
        "id": "e1e7cb87"
      },
      "source": [
        "### `Q5`:\n",
        "- Import the necessary libraries and load the dataset.\n",
        "- Split the dataset into training and testing sets.\n",
        "- Preprocess the data using any technique of your choice (e.g. scaling, normalization).\n",
        "- Create an instance of the SVC classifier and train it on the training data.\n",
        "- Use the trained classifier to predict the labels of the testing data.\n",
        "- Evaluate the performance of the classifier using any metric of your choice (e.g. accuracy, precision, recall, F1-score).\n",
        "- Tune the hyperparameters of the SVC classifier using GridSearchCV or RandomizedGridSearchCV to improve its performance.\n",
        "- Train the tuned classifier on the entire dataset.\n",
        "- Save the trained classifier to a file for future use."
      ]
    },
    {
      "cell_type": "code",
      "execution_count": null,
      "id": "8efa778d",
      "metadata": {
        "id": "8efa778d"
      },
      "outputs": [],
      "source": [
        "import pandas as pd\n",
        "from sklearn.svm import SVC\n",
        "from sklearn.preprocessing import StandardScaler\n",
        "from sklearn.model_selection import GridSearchCV\n",
        "from sklearn.metrics import accuracy_score"
      ]
    },
    {
      "cell_type": "code",
      "source": [
        "data = pd.read_csv('/content/collegePlace.csv')\n",
        "data.head()"
      ],
      "metadata": {
        "id": "UM2nk2KeaXXq"
      },
      "id": "UM2nk2KeaXXq",
      "execution_count": null,
      "outputs": []
    },
    {
      "cell_type": "code",
      "source": [
        "data=pd.get_dummies(data,columns=[\"Gender\",\"Stream\"])"
      ],
      "metadata": {
        "id": "g5I7sKXcats3"
      },
      "id": "g5I7sKXcats3",
      "execution_count": null,
      "outputs": []
    },
    {
      "cell_type": "code",
      "source": [
        "data[\"PlacedOrNot\"].value_counts()"
      ],
      "metadata": {
        "id": "1H900vYWav-1"
      },
      "id": "1H900vYWav-1",
      "execution_count": null,
      "outputs": []
    },
    {
      "cell_type": "code",
      "source": [
        "x_train,x_test,y_train,y_test=train_test_split(data.drop([\"PlacedOrNot\"],axis=1),data[\"PlacedOrNot\"],test_size=0.2,random_state=47,stratify=data[\"PlacedOrNot\"])"
      ],
      "metadata": {
        "id": "4sC5zU2Xawt5"
      },
      "id": "4sC5zU2Xawt5",
      "execution_count": null,
      "outputs": []
    },
    {
      "cell_type": "code",
      "source": [
        "scl=StandardScaler()\n",
        "x_train=scl.fit_transform(x_train)\n",
        "x_test=scl.transform(x_test)"
      ],
      "metadata": {
        "id": "EjloE8-ya2Ea"
      },
      "id": "EjloE8-ya2Ea",
      "execution_count": null,
      "outputs": []
    },
    {
      "cell_type": "code",
      "execution_count": null,
      "id": "1e1e7d7d",
      "metadata": {
        "id": "1e1e7d7d"
      },
      "outputs": [],
      "source": [
        "svc = SVC()\n",
        "svc.fit(x_train, y_train)"
      ]
    },
    {
      "cell_type": "code",
      "execution_count": null,
      "id": "9157102d",
      "metadata": {
        "id": "9157102d"
      },
      "outputs": [],
      "source": [
        "y_pred = svc.predict(x_test)"
      ]
    },
    {
      "cell_type": "code",
      "execution_count": null,
      "id": "4a51dab1",
      "metadata": {
        "id": "4a51dab1"
      },
      "outputs": [],
      "source": [
        "print(f\"Accuracy: {accuracy_score(y_test, y_pred)}\")"
      ]
    },
    {
      "cell_type": "code",
      "execution_count": null,
      "id": "a00470bb",
      "metadata": {
        "scrolled": false,
        "id": "a00470bb"
      },
      "outputs": [],
      "source": [
        "param_grid = {'C': [0.1, 1, 10, 100],\n",
        "              'gamma': [0.1, 1, 10], \n",
        "              'kernel': ['linear', 'rbf']}"
      ]
    },
    {
      "cell_type": "code",
      "source": [
        "grid = GridSearchCV(SVC(), param_grid)\n",
        "grid.fit(x_train, y_train)"
      ],
      "metadata": {
        "id": "kob7M8PhbREC"
      },
      "id": "kob7M8PhbREC",
      "execution_count": null,
      "outputs": []
    },
    {
      "cell_type": "code",
      "execution_count": null,
      "id": "796c9793",
      "metadata": {
        "id": "796c9793"
      },
      "outputs": [],
      "source": [
        "grid.best_params_"
      ]
    },
    {
      "cell_type": "code",
      "source": [
        "y_pred_n = grid.predict(x_test)\n",
        "print(f\"after hypertuning accuracy Accuracy: {accuracy_score(y_pred_n , y_test)}\")"
      ],
      "metadata": {
        "id": "Nwj6qV1mcU46"
      },
      "id": "Nwj6qV1mcU46",
      "execution_count": null,
      "outputs": []
    },
    {
      "cell_type": "code",
      "execution_count": null,
      "id": "4ce6473f",
      "metadata": {
        "id": "4ce6473f"
      },
      "outputs": [],
      "source": [
        "import pickle\n",
        "pickle.dump(grid, open('model.pkl', 'wb'))"
      ]
    }
  ],
  "metadata": {
    "kernelspec": {
      "display_name": "Python 3 (ipykernel)",
      "language": "python",
      "name": "python3"
    },
    "language_info": {
      "codemirror_mode": {
        "name": "ipython",
        "version": 3
      },
      "file_extension": ".py",
      "mimetype": "text/x-python",
      "name": "python",
      "nbconvert_exporter": "python",
      "pygments_lexer": "ipython3",
      "version": "3.9.13"
    },
    "colab": {
      "provenance": []
    }
  },
  "nbformat": 4,
  "nbformat_minor": 5
}