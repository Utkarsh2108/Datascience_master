{
 "cells": [
  {
   "cell_type": "markdown",
   "id": "571ee3e3",
   "metadata": {},
   "source": [
    "### Consider following code to answer further questions:"
   ]
  },
  {
   "cell_type": "code",
   "execution_count": 1,
   "id": "e25936b8",
   "metadata": {},
   "outputs": [
    {
     "data": {
      "text/html": [
       "<div>\n",
       "<style scoped>\n",
       "    .dataframe tbody tr th:only-of-type {\n",
       "        vertical-align: middle;\n",
       "    }\n",
       "\n",
       "    .dataframe tbody tr th {\n",
       "        vertical-align: top;\n",
       "    }\n",
       "\n",
       "    .dataframe thead th {\n",
       "        text-align: right;\n",
       "    }\n",
       "</style>\n",
       "<table border=\"1\" class=\"dataframe\">\n",
       "  <thead>\n",
       "    <tr style=\"text-align: right;\">\n",
       "      <th></th>\n",
       "      <th>course_name</th>\n",
       "      <th>duration</th>\n",
       "    </tr>\n",
       "  </thead>\n",
       "  <tbody>\n",
       "    <tr>\n",
       "      <th>0</th>\n",
       "      <td>Data Science</td>\n",
       "      <td>2</td>\n",
       "    </tr>\n",
       "    <tr>\n",
       "      <th>1</th>\n",
       "      <td>Machine Learning</td>\n",
       "      <td>3</td>\n",
       "    </tr>\n",
       "    <tr>\n",
       "      <th>2</th>\n",
       "      <td>Big Data</td>\n",
       "      <td>6</td>\n",
       "    </tr>\n",
       "    <tr>\n",
       "      <th>3</th>\n",
       "      <td>Data Engineer</td>\n",
       "      <td>4</td>\n",
       "    </tr>\n",
       "  </tbody>\n",
       "</table>\n",
       "</div>"
      ],
      "text/plain": [
       "        course_name  duration\n",
       "0      Data Science         2\n",
       "1  Machine Learning         3\n",
       "2          Big Data         6\n",
       "3     Data Engineer         4"
      ]
     },
     "execution_count": 1,
     "metadata": {},
     "output_type": "execute_result"
    }
   ],
   "source": [
    "import pandas as pd\n",
    "course_name = ['Data Science', 'Machine Learning', 'Big Data', 'Data Engineer']\n",
    "duration = [2,3,6,4]\n",
    "df = pd.DataFrame(data = {'course_name' : course_name, 'duration' : duration})\n",
    "df"
   ]
  },
  {
   "cell_type": "markdown",
   "id": "4ee03549",
   "metadata": {},
   "source": [
    "### `Q1`. Write a code to print the data present in the second row of the dataframe, df."
   ]
  },
  {
   "cell_type": "code",
   "execution_count": 2,
   "id": "3524887d",
   "metadata": {},
   "outputs": [
    {
     "data": {
      "text/plain": [
       "course_name    Machine Learning\n",
       "duration                      3\n",
       "Name: 1, dtype: object"
      ]
     },
     "execution_count": 2,
     "metadata": {},
     "output_type": "execute_result"
    }
   ],
   "source": [
    "df.iloc[1]"
   ]
  },
  {
   "cell_type": "markdown",
   "id": "d6a81cd0",
   "metadata": {},
   "source": [
    "### `Q2`. What is the difference between the functions loc and iloc in pandas.DataFrame?"
   ]
  },
  {
   "cell_type": "markdown",
   "id": "e522bdca",
   "metadata": {},
   "source": [
    "- `iloc` is used for integer-based indexing. It accepts integer indices for both rows and columns, starting from 0 for the first row/column. \n",
    "- For example,"
   ]
  },
  {
   "cell_type": "code",
   "execution_count": 3,
   "id": "4ee955e5",
   "metadata": {},
   "outputs": [
    {
     "data": {
      "text/plain": [
       "2"
      ]
     },
     "execution_count": 3,
     "metadata": {},
     "output_type": "execute_result"
    }
   ],
   "source": [
    "df.iloc[0, 1]  #will return the element in the first row and second column of the DataFrame df."
   ]
  },
  {
   "cell_type": "markdown",
   "id": "a4ea1b6b",
   "metadata": {},
   "source": [
    "- `loc` is used for label-based indexing. It accepts labels (i.e., row and column names) instead of integer indices. \n",
    "= For example"
   ]
  },
  {
   "cell_type": "code",
   "execution_count": 4,
   "id": "70339db9",
   "metadata": {},
   "outputs": [
    {
     "data": {
      "text/plain": [
       "2"
      ]
     },
     "execution_count": 4,
     "metadata": {},
     "output_type": "execute_result"
    }
   ],
   "source": [
    " df.loc[0, 'duration'] # will return the element in the row with label 0 and column with label duration"
   ]
  },
  {
   "cell_type": "markdown",
   "id": "511a2bd3",
   "metadata": {},
   "source": [
    "- In simple words , iloc uses integer positions to access data, while loc uses row and column labels."
   ]
  },
  {
   "cell_type": "markdown",
   "id": "d36e9838",
   "metadata": {},
   "source": [
    "### `Q3`. Reindex the given dataframe using a variable, reindex = [3,0,1,2] and store it in the variable, new_df then find the output for both new_df.loc[2] and new_df.iloc[2]."
   ]
  },
  {
   "cell_type": "code",
   "execution_count": 5,
   "id": "473fa839",
   "metadata": {},
   "outputs": [
    {
     "data": {
      "text/html": [
       "<div>\n",
       "<style scoped>\n",
       "    .dataframe tbody tr th:only-of-type {\n",
       "        vertical-align: middle;\n",
       "    }\n",
       "\n",
       "    .dataframe tbody tr th {\n",
       "        vertical-align: top;\n",
       "    }\n",
       "\n",
       "    .dataframe thead th {\n",
       "        text-align: right;\n",
       "    }\n",
       "</style>\n",
       "<table border=\"1\" class=\"dataframe\">\n",
       "  <thead>\n",
       "    <tr style=\"text-align: right;\">\n",
       "      <th></th>\n",
       "      <th>course_name</th>\n",
       "      <th>duration</th>\n",
       "    </tr>\n",
       "  </thead>\n",
       "  <tbody>\n",
       "    <tr>\n",
       "      <th>3</th>\n",
       "      <td>Data Engineer</td>\n",
       "      <td>4</td>\n",
       "    </tr>\n",
       "    <tr>\n",
       "      <th>0</th>\n",
       "      <td>Data Science</td>\n",
       "      <td>2</td>\n",
       "    </tr>\n",
       "    <tr>\n",
       "      <th>1</th>\n",
       "      <td>Machine Learning</td>\n",
       "      <td>3</td>\n",
       "    </tr>\n",
       "    <tr>\n",
       "      <th>2</th>\n",
       "      <td>Big Data</td>\n",
       "      <td>6</td>\n",
       "    </tr>\n",
       "  </tbody>\n",
       "</table>\n",
       "</div>"
      ],
      "text/plain": [
       "        course_name  duration\n",
       "3     Data Engineer         4\n",
       "0      Data Science         2\n",
       "1  Machine Learning         3\n",
       "2          Big Data         6"
      ]
     },
     "execution_count": 5,
     "metadata": {},
     "output_type": "execute_result"
    }
   ],
   "source": [
    "reindex = [3,0,1,2]\n",
    "new_df = df.reindex(index=reindex)\n",
    "new_df"
   ]
  },
  {
   "cell_type": "code",
   "execution_count": 6,
   "id": "97252391",
   "metadata": {},
   "outputs": [
    {
     "data": {
      "text/plain": [
       "course_name    Big Data\n",
       "duration              6\n",
       "Name: 2, dtype: object"
      ]
     },
     "execution_count": 6,
     "metadata": {},
     "output_type": "execute_result"
    }
   ],
   "source": [
    "new_df.loc[2] # uses the label  "
   ]
  },
  {
   "cell_type": "code",
   "execution_count": 7,
   "id": "d6be5207",
   "metadata": {},
   "outputs": [
    {
     "data": {
      "text/plain": [
       "course_name    Machine Learning\n",
       "duration                      3\n",
       "Name: 1, dtype: object"
      ]
     },
     "execution_count": 7,
     "metadata": {},
     "output_type": "execute_result"
    }
   ],
   "source": [
    "new_df.iloc[2] #uses index"
   ]
  },
  {
   "cell_type": "markdown",
   "id": "9af3f85a",
   "metadata": {},
   "source": [
    "- Yes, there is a difference in the outputs of `new_df.loc[2]` and `new_df.iloc[2]`.\n",
    "\n",
    "- `new_df.loc[2]` returns the row with label 2 in the DataFrame new_df, which is 'Big Data', 6. This is because loc uses the row labels to access the rows in a DataFrame.\n",
    "\n",
    "- `new_df.iloc[2]` returns the row with integer position 2 in the DataFrame new_df, which is 'Machine Learning', 3. This is because iloc uses the integer positions to access the rows in a DataFrame.\n",
    "\n"
   ]
  },
  {
   "cell_type": "markdown",
   "id": "3c6639ab",
   "metadata": {},
   "source": [
    "### Consider the below code to answer further questions:"
   ]
  },
  {
   "cell_type": "code",
   "execution_count": 8,
   "id": "0371262f",
   "metadata": {},
   "outputs": [
    {
     "data": {
      "text/html": [
       "<div>\n",
       "<style scoped>\n",
       "    .dataframe tbody tr th:only-of-type {\n",
       "        vertical-align: middle;\n",
       "    }\n",
       "\n",
       "    .dataframe tbody tr th {\n",
       "        vertical-align: top;\n",
       "    }\n",
       "\n",
       "    .dataframe thead th {\n",
       "        text-align: right;\n",
       "    }\n",
       "</style>\n",
       "<table border=\"1\" class=\"dataframe\">\n",
       "  <thead>\n",
       "    <tr style=\"text-align: right;\">\n",
       "      <th></th>\n",
       "      <th>column_1</th>\n",
       "      <th>column_2</th>\n",
       "      <th>column_3</th>\n",
       "      <th>column_4</th>\n",
       "      <th>column_5</th>\n",
       "      <th>column_6</th>\n",
       "    </tr>\n",
       "  </thead>\n",
       "  <tbody>\n",
       "    <tr>\n",
       "      <th>1</th>\n",
       "      <td>0.768533</td>\n",
       "      <td>0.015414</td>\n",
       "      <td>0.880340</td>\n",
       "      <td>0.602611</td>\n",
       "      <td>0.203905</td>\n",
       "      <td>0.891129</td>\n",
       "    </tr>\n",
       "    <tr>\n",
       "      <th>2</th>\n",
       "      <td>0.900740</td>\n",
       "      <td>0.729072</td>\n",
       "      <td>0.565078</td>\n",
       "      <td>0.177406</td>\n",
       "      <td>0.594639</td>\n",
       "      <td>0.015308</td>\n",
       "    </tr>\n",
       "    <tr>\n",
       "      <th>3</th>\n",
       "      <td>0.660049</td>\n",
       "      <td>0.434481</td>\n",
       "      <td>0.004286</td>\n",
       "      <td>0.385575</td>\n",
       "      <td>0.005340</td>\n",
       "      <td>0.855898</td>\n",
       "    </tr>\n",
       "    <tr>\n",
       "      <th>4</th>\n",
       "      <td>0.408587</td>\n",
       "      <td>0.423337</td>\n",
       "      <td>0.425527</td>\n",
       "      <td>0.497132</td>\n",
       "      <td>0.292168</td>\n",
       "      <td>0.967747</td>\n",
       "    </tr>\n",
       "    <tr>\n",
       "      <th>5</th>\n",
       "      <td>0.937506</td>\n",
       "      <td>0.167778</td>\n",
       "      <td>0.341635</td>\n",
       "      <td>0.197946</td>\n",
       "      <td>0.619626</td>\n",
       "      <td>0.208091</td>\n",
       "    </tr>\n",
       "    <tr>\n",
       "      <th>6</th>\n",
       "      <td>0.426175</td>\n",
       "      <td>0.407940</td>\n",
       "      <td>0.020703</td>\n",
       "      <td>0.806247</td>\n",
       "      <td>0.972909</td>\n",
       "      <td>0.684473</td>\n",
       "    </tr>\n",
       "  </tbody>\n",
       "</table>\n",
       "</div>"
      ],
      "text/plain": [
       "   column_1  column_2  column_3  column_4  column_5  column_6\n",
       "1  0.768533  0.015414  0.880340  0.602611  0.203905  0.891129\n",
       "2  0.900740  0.729072  0.565078  0.177406  0.594639  0.015308\n",
       "3  0.660049  0.434481  0.004286  0.385575  0.005340  0.855898\n",
       "4  0.408587  0.423337  0.425527  0.497132  0.292168  0.967747\n",
       "5  0.937506  0.167778  0.341635  0.197946  0.619626  0.208091\n",
       "6  0.426175  0.407940  0.020703  0.806247  0.972909  0.684473"
      ]
     },
     "execution_count": 8,
     "metadata": {},
     "output_type": "execute_result"
    }
   ],
   "source": [
    "import pandas as pd\n",
    "import numpy as np\n",
    "columns = ['column_1', 'column_2', 'column_3', 'column_4', 'column_5', 'column_6']\n",
    "indices = [1,2,3,4,5,6]\n",
    "#Creating a dataframe:\n",
    "df1 = pd.DataFrame(np.random.rand(6,6), columns = columns, index = indices)\n",
    "df1"
   ]
  },
  {
   "cell_type": "markdown",
   "id": "fed80988",
   "metadata": {},
   "source": [
    "### `Q4`. Write a code to find the following statistical measurements for the above dataframe df1:"
   ]
  },
  {
   "cell_type": "markdown",
   "id": "9a4367ef",
   "metadata": {},
   "source": [
    "#### 1. mean of each and every column present in the dataframe."
   ]
  },
  {
   "cell_type": "code",
   "execution_count": 9,
   "id": "bbb813dd",
   "metadata": {},
   "outputs": [
    {
     "name": "stdout",
     "output_type": "stream",
     "text": [
      "Mean of each column:\n",
      " column_1    0.683598\n",
      "column_2    0.363003\n",
      "column_3    0.372928\n",
      "column_4    0.444486\n",
      "column_5    0.448098\n",
      "column_6    0.603774\n",
      "dtype: float64\n"
     ]
    }
   ],
   "source": [
    "print(\"Mean of each column:\\n\", df1.mean())"
   ]
  },
  {
   "cell_type": "markdown",
   "id": "e6bb64a7",
   "metadata": {},
   "source": [
    "#### 2. standard deviation of column, ‘column_2’"
   ]
  },
  {
   "cell_type": "code",
   "execution_count": 10,
   "id": "607d2ccd",
   "metadata": {
    "scrolled": true
   },
   "outputs": [
    {
     "name": "stdout",
     "output_type": "stream",
     "text": [
      "Standard deviation of column 'column_2': 0.24645732497465758\n"
     ]
    }
   ],
   "source": [
    "print(\"Standard deviation of column 'column_2':\", df1['column_2'].std())"
   ]
  },
  {
   "cell_type": "markdown",
   "id": "09c221ef",
   "metadata": {},
   "source": [
    "### `Q5`. Replace the data present in the second row of column, ‘column_2’ by a string variable then find the mean of column, column_2."
   ]
  },
  {
   "cell_type": "code",
   "execution_count": null,
   "id": "27bc03c6",
   "metadata": {},
   "outputs": [],
   "source": [
    "df1.loc[2,'column_2'] = 'some string'\n",
    "print(\"Mean of column 'column_2':\", df1['column_2'].mean())    "
   ]
  },
  {
   "cell_type": "markdown",
   "id": "68fd276a",
   "metadata": {},
   "source": [
    "- The error occurs because the data type of column 'column_2' in the DataFrame is numeric, but we tried to replace one of the values with a string value 'some string'. Pandas does not allow mixing of data types within a single column, so we cannot replace a numeric value with a string value in this way.\n",
    "\n",
    "- To avoid this error, we need to ensure that the data types of all the values in the column are consistent before we replace any values. If we want to replace a value with a\n",
    "\n",
    "- string, we need to convert the entire column to a string data type first. We can do this using the astype method"
   ]
  },
  {
   "cell_type": "markdown",
   "id": "061ba042",
   "metadata": {},
   "source": [
    "### `Q6`. What do you understand about the windows function in pandas and list the types of windows functions?"
   ]
  },
  {
   "cell_type": "markdown",
   "id": "1aea3823",
   "metadata": {},
   "source": [
    "- In pandas, a window function is a way to perform calculations on a specified set of data points called a window. The window function allows us to operate on a subset of the data, rather than the entire dataset at once. \n",
    "- The different types of windows functions include rolling, expanding, and exponential moving windows.\n",
    "- Rolling windows operate on a fixed-size window and move it over the data, while expanding windows grow the window over time. Exponential moving windows give more weight to recent values in the window.\n",
    "- All these window functions can be used to perform various calculations such as mean, sum, standard deviation, etc. on a specified window of data."
   ]
  },
  {
   "cell_type": "markdown",
   "id": "09b79bfe",
   "metadata": {},
   "source": [
    "### `Q7`. Write a code to print only the current month and year at the time of answering this question."
   ]
  },
  {
   "cell_type": "code",
   "execution_count": null,
   "id": "2b5982c9",
   "metadata": {},
   "outputs": [],
   "source": [
    "import datetime \n",
    "\n",
    "now = datetime.datetime.now()\n",
    "\n",
    "print(\"Current month and year: \" + now.strftime(\"%B %Y\"))"
   ]
  },
  {
   "cell_type": "markdown",
   "id": "6e205450",
   "metadata": {},
   "source": [
    "### `Q8`. Write a Python program that takes in two dates as input (in the format YYYY-MM-DD) and calculates the difference between them in days, hours, and minutes using Pandas time delta. The program should prompt the user to enter the dates and display the result."
   ]
  },
  {
   "cell_type": "code",
   "execution_count": 11,
   "id": "36121c7c",
   "metadata": {},
   "outputs": [
    {
     "name": "stdout",
     "output_type": "stream",
     "text": [
      "Enter your fisrt date(YYYY-MM-DD):2003-08-21\n",
      "Enter your second date(YYYY-MM-DD):2022-08-21\n",
      "Difference between the two dates:\n",
      "6940 days, 0 hours, 0 minutes\n"
     ]
    }
   ],
   "source": [
    "date1_user = input('Enter your fisrt date(YYYY-MM-DD):')\n",
    "date1 =pd.to_datetime(date1_user)\n",
    "\n",
    "date2_user = input('Enter your second date(YYYY-MM-DD):')\n",
    "date2 =pd.to_datetime(date2_user)\n",
    "\n",
    "diff = date2 - date1\n",
    "\n",
    "print(\"Difference between the two dates:\")\n",
    "print(f\"{diff.days} days, {diff.seconds//3600} hours, {(diff.seconds//60)%60} minutes\")"
   ]
  },
  {
   "cell_type": "markdown",
   "id": "45530811",
   "metadata": {},
   "source": [
    "### `Q9`. Write a Python program that reads a CSV file containing categorical data and converts a specified column to a categorical data type. The program should prompt the user to enter the file path, column name, and category order, and then display the sorted data."
   ]
  },
  {
   "cell_type": "code",
   "execution_count": 12,
   "id": "765e30d9",
   "metadata": {},
   "outputs": [
    {
     "name": "stdout",
     "output_type": "stream",
     "text": [
      "Enter the file path: https://raw.githubusercontent.com/datasciencedojo/datasets/master/titanic.csv\n",
      "Enter the column name: Sex\n",
      "Enter the category order (comma-separated): female\n"
     ]
    },
    {
     "data": {
      "text/html": [
       "<div>\n",
       "<style scoped>\n",
       "    .dataframe tbody tr th:only-of-type {\n",
       "        vertical-align: middle;\n",
       "    }\n",
       "\n",
       "    .dataframe tbody tr th {\n",
       "        vertical-align: top;\n",
       "    }\n",
       "\n",
       "    .dataframe thead th {\n",
       "        text-align: right;\n",
       "    }\n",
       "</style>\n",
       "<table border=\"1\" class=\"dataframe\">\n",
       "  <thead>\n",
       "    <tr style=\"text-align: right;\">\n",
       "      <th></th>\n",
       "      <th>PassengerId</th>\n",
       "      <th>Survived</th>\n",
       "      <th>Pclass</th>\n",
       "      <th>Name</th>\n",
       "      <th>Sex</th>\n",
       "      <th>Age</th>\n",
       "      <th>SibSp</th>\n",
       "      <th>Parch</th>\n",
       "      <th>Ticket</th>\n",
       "      <th>Fare</th>\n",
       "      <th>Cabin</th>\n",
       "      <th>Embarked</th>\n",
       "    </tr>\n",
       "  </thead>\n",
       "  <tbody>\n",
       "    <tr>\n",
       "      <th>1</th>\n",
       "      <td>2</td>\n",
       "      <td>1</td>\n",
       "      <td>1</td>\n",
       "      <td>Cumings, Mrs. John Bradley (Florence Briggs Th...</td>\n",
       "      <td>female</td>\n",
       "      <td>38.0</td>\n",
       "      <td>1</td>\n",
       "      <td>0</td>\n",
       "      <td>PC 17599</td>\n",
       "      <td>71.2833</td>\n",
       "      <td>C85</td>\n",
       "      <td>C</td>\n",
       "    </tr>\n",
       "    <tr>\n",
       "      <th>571</th>\n",
       "      <td>572</td>\n",
       "      <td>1</td>\n",
       "      <td>1</td>\n",
       "      <td>Appleton, Mrs. Edward Dale (Charlotte Lamson)</td>\n",
       "      <td>female</td>\n",
       "      <td>53.0</td>\n",
       "      <td>2</td>\n",
       "      <td>0</td>\n",
       "      <td>11769</td>\n",
       "      <td>51.4792</td>\n",
       "      <td>C101</td>\n",
       "      <td>S</td>\n",
       "    </tr>\n",
       "    <tr>\n",
       "      <th>567</th>\n",
       "      <td>568</td>\n",
       "      <td>0</td>\n",
       "      <td>3</td>\n",
       "      <td>Palsson, Mrs. Nils (Alma Cornelia Berglund)</td>\n",
       "      <td>female</td>\n",
       "      <td>29.0</td>\n",
       "      <td>0</td>\n",
       "      <td>4</td>\n",
       "      <td>349909</td>\n",
       "      <td>21.0750</td>\n",
       "      <td>NaN</td>\n",
       "      <td>S</td>\n",
       "    </tr>\n",
       "    <tr>\n",
       "      <th>564</th>\n",
       "      <td>565</td>\n",
       "      <td>0</td>\n",
       "      <td>3</td>\n",
       "      <td>Meanwell, Miss. (Marion Ogden)</td>\n",
       "      <td>female</td>\n",
       "      <td>NaN</td>\n",
       "      <td>0</td>\n",
       "      <td>0</td>\n",
       "      <td>SOTON/O.Q. 392087</td>\n",
       "      <td>8.0500</td>\n",
       "      <td>NaN</td>\n",
       "      <td>S</td>\n",
       "    </tr>\n",
       "    <tr>\n",
       "      <th>559</th>\n",
       "      <td>560</td>\n",
       "      <td>1</td>\n",
       "      <td>3</td>\n",
       "      <td>de Messemaeker, Mrs. Guillaume Joseph (Emma)</td>\n",
       "      <td>female</td>\n",
       "      <td>36.0</td>\n",
       "      <td>1</td>\n",
       "      <td>0</td>\n",
       "      <td>345572</td>\n",
       "      <td>17.4000</td>\n",
       "      <td>NaN</td>\n",
       "      <td>S</td>\n",
       "    </tr>\n",
       "    <tr>\n",
       "      <th>...</th>\n",
       "      <td>...</td>\n",
       "      <td>...</td>\n",
       "      <td>...</td>\n",
       "      <td>...</td>\n",
       "      <td>...</td>\n",
       "      <td>...</td>\n",
       "      <td>...</td>\n",
       "      <td>...</td>\n",
       "      <td>...</td>\n",
       "      <td>...</td>\n",
       "      <td>...</td>\n",
       "      <td>...</td>\n",
       "    </tr>\n",
       "    <tr>\n",
       "      <th>883</th>\n",
       "      <td>884</td>\n",
       "      <td>0</td>\n",
       "      <td>2</td>\n",
       "      <td>Banfield, Mr. Frederick James</td>\n",
       "      <td>NaN</td>\n",
       "      <td>28.0</td>\n",
       "      <td>0</td>\n",
       "      <td>0</td>\n",
       "      <td>C.A./SOTON 34068</td>\n",
       "      <td>10.5000</td>\n",
       "      <td>NaN</td>\n",
       "      <td>S</td>\n",
       "    </tr>\n",
       "    <tr>\n",
       "      <th>884</th>\n",
       "      <td>885</td>\n",
       "      <td>0</td>\n",
       "      <td>3</td>\n",
       "      <td>Sutehall, Mr. Henry Jr</td>\n",
       "      <td>NaN</td>\n",
       "      <td>25.0</td>\n",
       "      <td>0</td>\n",
       "      <td>0</td>\n",
       "      <td>SOTON/OQ 392076</td>\n",
       "      <td>7.0500</td>\n",
       "      <td>NaN</td>\n",
       "      <td>S</td>\n",
       "    </tr>\n",
       "    <tr>\n",
       "      <th>886</th>\n",
       "      <td>887</td>\n",
       "      <td>0</td>\n",
       "      <td>2</td>\n",
       "      <td>Montvila, Rev. Juozas</td>\n",
       "      <td>NaN</td>\n",
       "      <td>27.0</td>\n",
       "      <td>0</td>\n",
       "      <td>0</td>\n",
       "      <td>211536</td>\n",
       "      <td>13.0000</td>\n",
       "      <td>NaN</td>\n",
       "      <td>S</td>\n",
       "    </tr>\n",
       "    <tr>\n",
       "      <th>889</th>\n",
       "      <td>890</td>\n",
       "      <td>1</td>\n",
       "      <td>1</td>\n",
       "      <td>Behr, Mr. Karl Howell</td>\n",
       "      <td>NaN</td>\n",
       "      <td>26.0</td>\n",
       "      <td>0</td>\n",
       "      <td>0</td>\n",
       "      <td>111369</td>\n",
       "      <td>30.0000</td>\n",
       "      <td>C148</td>\n",
       "      <td>C</td>\n",
       "    </tr>\n",
       "    <tr>\n",
       "      <th>890</th>\n",
       "      <td>891</td>\n",
       "      <td>0</td>\n",
       "      <td>3</td>\n",
       "      <td>Dooley, Mr. Patrick</td>\n",
       "      <td>NaN</td>\n",
       "      <td>32.0</td>\n",
       "      <td>0</td>\n",
       "      <td>0</td>\n",
       "      <td>370376</td>\n",
       "      <td>7.7500</td>\n",
       "      <td>NaN</td>\n",
       "      <td>Q</td>\n",
       "    </tr>\n",
       "  </tbody>\n",
       "</table>\n",
       "<p>891 rows × 12 columns</p>\n",
       "</div>"
      ],
      "text/plain": [
       "     PassengerId  Survived  Pclass  \\\n",
       "1              2         1       1   \n",
       "571          572         1       1   \n",
       "567          568         0       3   \n",
       "564          565         0       3   \n",
       "559          560         1       3   \n",
       "..           ...       ...     ...   \n",
       "883          884         0       2   \n",
       "884          885         0       3   \n",
       "886          887         0       2   \n",
       "889          890         1       1   \n",
       "890          891         0       3   \n",
       "\n",
       "                                                  Name     Sex   Age  SibSp  \\\n",
       "1    Cumings, Mrs. John Bradley (Florence Briggs Th...  female  38.0      1   \n",
       "571      Appleton, Mrs. Edward Dale (Charlotte Lamson)  female  53.0      2   \n",
       "567        Palsson, Mrs. Nils (Alma Cornelia Berglund)  female  29.0      0   \n",
       "564                     Meanwell, Miss. (Marion Ogden)  female   NaN      0   \n",
       "559       de Messemaeker, Mrs. Guillaume Joseph (Emma)  female  36.0      1   \n",
       "..                                                 ...     ...   ...    ...   \n",
       "883                      Banfield, Mr. Frederick James     NaN  28.0      0   \n",
       "884                             Sutehall, Mr. Henry Jr     NaN  25.0      0   \n",
       "886                              Montvila, Rev. Juozas     NaN  27.0      0   \n",
       "889                              Behr, Mr. Karl Howell     NaN  26.0      0   \n",
       "890                                Dooley, Mr. Patrick     NaN  32.0      0   \n",
       "\n",
       "     Parch             Ticket     Fare Cabin Embarked  \n",
       "1        0           PC 17599  71.2833   C85        C  \n",
       "571      0              11769  51.4792  C101        S  \n",
       "567      4             349909  21.0750   NaN        S  \n",
       "564      0  SOTON/O.Q. 392087   8.0500   NaN        S  \n",
       "559      0             345572  17.4000   NaN        S  \n",
       "..     ...                ...      ...   ...      ...  \n",
       "883      0   C.A./SOTON 34068  10.5000   NaN        S  \n",
       "884      0    SOTON/OQ 392076   7.0500   NaN        S  \n",
       "886      0             211536  13.0000   NaN        S  \n",
       "889      0             111369  30.0000  C148        C  \n",
       "890      0             370376   7.7500   NaN        Q  \n",
       "\n",
       "[891 rows x 12 columns]"
      ]
     },
     "execution_count": 12,
     "metadata": {},
     "output_type": "execute_result"
    }
   ],
   "source": [
    "file_path = input(\"Enter the file path: \")\n",
    "\n",
    "df = pd.read_csv(file_path)\n",
    "\n",
    "column_name = input(\"Enter the column name: \")\n",
    "category_order = input(\"Enter the category order (comma-separated): \").split(\",\")\n",
    "\n",
    "df[column_name] = pd.Categorical(df[column_name], categories=category_order)\n",
    "\n",
    "df = df.sort_values(by=column_name)\n",
    "df\n"
   ]
  },
  {
   "cell_type": "markdown",
   "id": "798636f5",
   "metadata": {},
   "source": [
    "### `Q10`. Write a Python program that reads a CSV file containing sales data for different products and visualizes the data using a stacked bar chart to show the sales of each product category over time. The program should prompt the user to enter the file path and display the chart."
   ]
  },
  {
   "cell_type": "code",
   "execution_count": 13,
   "id": "f548e93d",
   "metadata": {},
   "outputs": [
    {
     "name": "stdout",
     "output_type": "stream",
     "text": [
      "Enter the file path: sales.csv\n"
     ]
    },
    {
     "data": {
      "image/png": "[encoded data removed]",
      "text/plain": [
       "<Figure size 640x480 with 1 Axes>"
      ]
     },
     "metadata": {},
     "output_type": "display_data"
    }
   ],
   "source": [
    "import matplotlib.pyplot as plt\n",
    "file_path = input(\"Enter the file path: \")\n",
    " \n",
    "df = pd.read_csv(file_path)\n",
    "\n",
    "df['Date'] = pd.to_datetime(df['Date'])\n",
    "\n",
    "df = df.set_index('Date')\n",
    "\n",
    "sales_by_category = df.groupby('Product Category')['Sales'].resample('M').sum().unstack()\n",
    "sales_by_category.plot(kind='bar', stacked=True)\n",
    "\n",
    "plt.title('Sales by Product Category over Time')\n",
    "plt.xlabel('Date')\n",
    "plt.ylabel('Sales')\n",
    "plt.show()"
   ]
  },
  {
   "cell_type": "markdown",
   "id": "f95616f7",
   "metadata": {},
   "source": [
    "### `Q11`. You are given a CSV file containing student data that includes the student ID and their test score. Write a Python program that reads the CSV file, calculates the mean, median, and mode of the test scores, and displays the results in a table.\n",
    "\n",
    "#### The program should do the followingM\n",
    "    - Prompt the user to enter the file path of the CSV file containing the student dataR\n",
    "    - Read the CSV file into a Pandas DataFrameR\n",
    "    - Calculate the mean, median, and mode of the test scores using Pandas toolsR\n",
    "    - Display the mean, median, and mode in a table.\n",
    "#### Assume the CSV file contains the following columnsM\n",
    "    - Student ID: The ID of the studentR\n",
    "    - Test Score: The score of the student's test.\n",
    "#### Example usage of the program:\n",
    "#### Enter the file path of the CSV file containing the student data: student_data.csv\n",
    "      +-----------+--------+\n",
    "      | Statistic | Value |\n",
    "      +-----------+--------+\n",
    "      | Mean | 79.6 |\n",
    "      | Median | 82 |\n",
    "      | Mode | 85, 90 |\n",
    "      +-----------+--------+\n",
    "#### Assume that the CSV file student_data.csv contains the following data:\n",
    "#### Student ID,Test Score\n",
    "     1,85\n",
    "     2,90\n",
    "     3,80\n",
    "     4,75\n",
    "     5,85\n",
    "     6,82\n",
    "     7,78\n",
    "     8,85\n",
    "     9,90\n",
    "     10,85\n",
    "#### The program should calculate the mean, median, and mode of the test scores and display the results in a table."
   ]
  },
  {
   "cell_type": "code",
   "execution_count": 14,
   "id": "471a7d96",
   "metadata": {},
   "outputs": [
    {
     "name": "stdout",
     "output_type": "stream",
     "text": [
      "Enter the file path: students_data.csv\n"
     ]
    },
    {
     "data": {
      "text/html": [
       "<div>\n",
       "<style scoped>\n",
       "    .dataframe tbody tr th:only-of-type {\n",
       "        vertical-align: middle;\n",
       "    }\n",
       "\n",
       "    .dataframe tbody tr th {\n",
       "        vertical-align: top;\n",
       "    }\n",
       "\n",
       "    .dataframe thead th {\n",
       "        text-align: right;\n",
       "    }\n",
       "</style>\n",
       "<table border=\"1\" class=\"dataframe\">\n",
       "  <thead>\n",
       "    <tr style=\"text-align: right;\">\n",
       "      <th></th>\n",
       "      <th>Statistic</th>\n",
       "      <th>Value</th>\n",
       "    </tr>\n",
       "  </thead>\n",
       "  <tbody>\n",
       "    <tr>\n",
       "      <th>0</th>\n",
       "      <td>Mean</td>\n",
       "      <td>83.5</td>\n",
       "    </tr>\n",
       "    <tr>\n",
       "      <th>1</th>\n",
       "      <td>Median</td>\n",
       "      <td>85.0</td>\n",
       "    </tr>\n",
       "    <tr>\n",
       "      <th>2</th>\n",
       "      <td>Mode</td>\n",
       "      <td>[85]</td>\n",
       "    </tr>\n",
       "  </tbody>\n",
       "</table>\n",
       "</div>"
      ],
      "text/plain": [
       "  Statistic Value\n",
       "0      Mean  83.5\n",
       "1    Median  85.0\n",
       "2      Mode  [85]"
      ]
     },
     "execution_count": 14,
     "metadata": {},
     "output_type": "execute_result"
    }
   ],
   "source": [
    "file_path = input(\"Enter the file path: \")\n",
    " \n",
    "df = pd.read_csv(file_path)\n",
    "\n",
    "mean = df['Test_Score'].mean()\n",
    "median = df['Test_Score'].median()\n",
    "mode = df['Test_Score'].mode()\n",
    "\n",
    "table = pd.DataFrame({'Statistic': ['Mean', 'Median', 'Mode'], 'Value': [mean, median, mode.tolist()]})\n",
    "table"
   ]
  }
 ],
 "metadata": {
  "kernelspec": {
   "display_name": "Python 3 (ipykernel)",
   "language": "python",
   "name": "python3"
  },
  "language_info": {
   "codemirror_mode": {
    "name": "ipython",
    "version": 3
   },
   "file_extension": ".py",
   "mimetype": "text/x-python",
   "name": "python",
   "nbconvert_exporter": "python",
   "pygments_lexer": "ipython3",
   "version": "3.9.13"
  }
 },
 "nbformat": 4,
 "nbformat_minor": 5
}
