{
 "cells": [
  {
   "cell_type": "markdown",
   "id": "43621c6a",
   "metadata": {},
   "source": [
    "### `Q1`. Which function is used to open a file? What are the different modes of opening a file? Explain each mode of file opening."
   ]
  },
  {
   "cell_type": "markdown",
   "id": "163396d7",
   "metadata": {},
   "source": [
    "* The `open` function is used to open a file in Python. \n",
    "* The different modes of opening a file are as follows:\n",
    "\n",
    "#### 1.`'r' (Read Only)`:               \n",
    "   * This is the default mode and is used when you only want to read the file, not modify it."
   ]
  },
  {
   "cell_type": "code",
   "execution_count": null,
   "id": "6819a0ac",
   "metadata": {},
   "outputs": [],
   "source": [
    "file = open(\"file.txt\", \"r\") #open a file for reading "
   ]
  },
  {
   "cell_type": "markdown",
   "id": "77a00782",
   "metadata": {},
   "source": [
    "#### 2.`'w' (Write Only)`: \n",
    "*  This mode is used when you want to write to the file. If the file exists, its contents are overwritten. If the file does not exist, a new file is created."
   ]
  },
  {
   "cell_type": "code",
   "execution_count": null,
   "id": "6c451cf6",
   "metadata": {},
   "outputs": [],
   "source": [
    "file = open(\"file.text\",\"w\") # open a file for writing "
   ]
  },
  {
   "cell_type": "markdown",
   "id": "13ba8554",
   "metadata": {},
   "source": [
    "#### `3.'a' (Append Only)`: \n",
    "   * This mode is used when you want to append to the file. If the file exists, new data is added to the end of the file. If the file does not exist, a new file is created."
   ]
  },
  {
   "cell_type": "code",
   "execution_count": null,
   "id": "fd691b07",
   "metadata": {},
   "outputs": [],
   "source": [
    "f = open(\"file.txt\", \"a\") # Open a file for appending"
   ]
  },
  {
   "cell_type": "markdown",
   "id": "9e3379ba",
   "metadata": {},
   "source": [
    "#### `4.'x' (Exclusive Creation)`: \n",
    "- This mode is used when you want to create a new file but only if the file does not already exist. If the file exists, an error is raised.\n",
    "\n"
   ]
  },
  {
   "cell_type": "code",
   "execution_count": null,
   "id": "aa33e282",
   "metadata": {},
   "outputs": [],
   "source": [
    "f = open('file.txt', 'x') "
   ]
  },
  {
   "cell_type": "markdown",
   "id": "1d572858",
   "metadata": {},
   "source": [
    "#### `5.'b' (Binary)`:\n",
    "- This mode is used when you are working with binary files, such as images or audio files. It is often used in combination with one of the other modes, such as 'rb' for binary read-only mode, 'wb' for binary write-only mode, and so on."
   ]
  },
  {
   "cell_type": "code",
   "execution_count": null,
   "id": "119540a8",
   "metadata": {},
   "outputs": [],
   "source": [
    "f = open(\"file.bin\", \"rb\") # Open a binary file for reading"
   ]
  },
  {
   "cell_type": "markdown",
   "id": "f89eec9d",
   "metadata": {},
   "source": [
    "#### `6.'t' (Text)`: \n",
    "- This mode is used to open a text file, and it is the default mode if no mode is specified. It is used in conjunction with other modes, such as 'rt' (Read Text) or 'wt' (Write Text)."
   ]
  },
  {
   "cell_type": "code",
   "execution_count": null,
   "id": "4971a7c0",
   "metadata": {},
   "outputs": [],
   "source": [
    "f = open(\"file.txt\", \"wt\") # Open a text file for writing"
   ]
  },
  {
   "cell_type": "markdown",
   "id": "eabdfe58",
   "metadata": {},
   "source": [
    "### `Q2`. Why close() function is used? Why is it important to close a file?"
   ]
  },
  {
   "cell_type": "markdown",
   "id": "78dee2fc",
   "metadata": {},
   "source": [
    "* The close() function is used to close a file in Python. It is important to close a file after you are done with it because it frees up system resources that were being used by the file. When a file is open, the operating system reserves memory and other resources for it, so it is essential to release these resources when you are done with the file.\n",
    "\n",
    "* Closing a file also ensures that any changes made to the file are saved and persisted. If you don't close a file, the changes made to it may be lost if the system crashes or if the program terminates abruptly.\n",
    "\n",
    "* Additionally, if you have multiple programs or processes accessing the same file, closing the file ensures that other programs can access the file and that the file is in a consistent state\n",
    "\n",
    "* here the example :"
   ]
  },
  {
   "cell_type": "markdown",
   "id": "e2efe7b9",
   "metadata": {},
   "source": [
    "f = open(\"file.txt\", \"r\")\n",
    "#Read or write to the file\n",
    "....\n",
    "f.close()"
   ]
  },
  {
   "cell_type": "markdown",
   "id": "5c31c4ee",
   "metadata": {},
   "source": [
    "### `Q3`. Write a python program to create a text file. Write ‘I want to become a Data Scientist’ in that file. Then close the file. Open this file and read the content of the file."
   ]
  },
  {
   "cell_type": "code",
   "execution_count": 5,
   "id": "59eb1830",
   "metadata": {},
   "outputs": [
    {
     "data": {
      "text/plain": [
       "33"
      ]
     },
     "execution_count": 5,
     "metadata": {},
     "output_type": "execute_result"
    }
   ],
   "source": [
    "f = open(\"test.text\",\"w\")\n",
    "f.write(\"I want to become a Data Scientist\")"
   ]
  },
  {
   "cell_type": "code",
   "execution_count": 6,
   "id": "e18fba80",
   "metadata": {},
   "outputs": [],
   "source": [
    "f.close()"
   ]
  },
  {
   "cell_type": "code",
   "execution_count": 7,
   "id": "f4916bb3",
   "metadata": {},
   "outputs": [
    {
     "data": {
      "text/plain": [
       "'I want to become a Data Scientist'"
      ]
     },
     "execution_count": 7,
     "metadata": {},
     "output_type": "execute_result"
    }
   ],
   "source": [
    "f = open(\"test.text\",\"r\")\n",
    "f.read()"
   ]
  },
  {
   "cell_type": "code",
   "execution_count": 8,
   "id": "5027d7f7",
   "metadata": {},
   "outputs": [],
   "source": [
    "f.close()  # closing file"
   ]
  },
  {
   "cell_type": "markdown",
   "id": "1ad19b76",
   "metadata": {},
   "source": [
    "### `Q4`. Explain the following with python code: read(), readline() and readlines()."
   ]
  },
  {
   "cell_type": "code",
   "execution_count": 9,
   "id": "ef1c0218",
   "metadata": {},
   "outputs": [],
   "source": [
    "with open(\"test1.text \",\"w\") as f: #opening file in write mode\n",
    "    f.write('''Data Science Masters course is highly curated and uniquely designed according to the latest industry standards. \n",
    "This program instills students the skills essential to knowledge discovery efforts to identify standard, novel, \n",
    "and truly differentiated solutions and decision-making, including skills in managing, querying, analyzing, visualizing, \n",
    "and extracting meaning from extremely large data sets. This trending program provides students with the statistical, \n",
    "mathematical and computational skills needed to meet the large-scale data science challenges of today's professional world.\n",
    "You will learn all the stack required to work in data science industry including cloud infrastructure and real-time industry projects.\n",
    "This course will be taught in Hindi language''')"
   ]
  },
  {
   "cell_type": "markdown",
   "id": "0a36e3e8",
   "metadata": {},
   "source": [
    "#### `1.read()`: \n",
    "- This function reads the entire contents of the file and returns it as a single string."
   ]
  },
  {
   "cell_type": "code",
   "execution_count": 10,
   "id": "f335e8a4",
   "metadata": {},
   "outputs": [
    {
     "name": "stdout",
     "output_type": "stream",
     "text": [
      "Data Science Masters course is highly curated and uniquely designed according to the latest industry standards. \n",
      "This program instills students the skills essential to knowledge discovery efforts to identify standard, novel, \n",
      "and truly differentiated solutions and decision-making, including skills in managing, querying, analyzing, visualizing, \n",
      "and extracting meaning from extremely large data sets. This trending program provides students with the statistical, \n",
      "mathematical and computational skills needed to meet the large-scale data science challenges of today's professional world.\n",
      "You will learn all the stack required to work in data science industry including cloud infrastructure and real-time industry projects.\n",
      "This course will be taught in Hindi language\n"
     ]
    }
   ],
   "source": [
    "f = open(\"test1.text\",\"r\")\n",
    "print(f.read())"
   ]
  },
  {
   "cell_type": "markdown",
   "id": "8a717b9b",
   "metadata": {},
   "source": [
    "#### `2. readline()`: \n",
    "- This function reads a single line from the file and returns it as a string. "
   ]
  },
  {
   "cell_type": "code",
   "execution_count": 11,
   "id": "18948bae",
   "metadata": {},
   "outputs": [
    {
     "name": "stdout",
     "output_type": "stream",
     "text": [
      "Data Science Masters course is highly curated and uniquely designed according to the latest industry standards. \n",
      "\n"
     ]
    }
   ],
   "source": [
    "f = open(\"test1.text\",\"r\")\n",
    "print(f.readline())"
   ]
  },
  {
   "cell_type": "markdown",
   "id": "f79e944f",
   "metadata": {},
   "source": [
    "`3.readlines()`: \n",
    "* This function reads the entire contents of the file and returns it as a list of strings, where each element in the list represents a line in the file."
   ]
  },
  {
   "cell_type": "code",
   "execution_count": 12,
   "id": "9da63079",
   "metadata": {},
   "outputs": [
    {
     "name": "stdout",
     "output_type": "stream",
     "text": [
      "['Data Science Masters course is highly curated and uniquely designed according to the latest industry standards. \\n', 'This program instills students the skills essential to knowledge discovery efforts to identify standard, novel, \\n', 'and truly differentiated solutions and decision-making, including skills in managing, querying, analyzing, visualizing, \\n', 'and extracting meaning from extremely large data sets. This trending program provides students with the statistical, \\n', \"mathematical and computational skills needed to meet the large-scale data science challenges of today's professional world.\\n\", 'You will learn all the stack required to work in data science industry including cloud infrastructure and real-time industry projects.\\n', 'This course will be taught in Hindi language']\n"
     ]
    }
   ],
   "source": [
    "f = open('test1.text','r')\n",
    "print(f.readlines())"
   ]
  },
  {
   "cell_type": "markdown",
   "id": "f3a59fa4",
   "metadata": {},
   "source": [
    "###  `Q5`. Explain why with statement is used with open(). What is the advantage of using with statement and open() together?"
   ]
  },
  {
   "cell_type": "markdown",
   "id": "f1dd474f",
   "metadata": {},
   "source": [
    "When you use the `with` statement in combination with the `open()` function, the file is automatically closed when the block of code inside the with statement is finished. This eliminates the need to explicitly close the file using the `close()` method, which can be easy to forget or overlook."
   ]
  },
  {
   "cell_type": "code",
   "execution_count": null,
   "id": "e1e6cdd3",
   "metadata": {},
   "outputs": [],
   "source": [
    "#Without using the with statement\n",
    "f = open(\"test.txt\", \"r\")\n",
    "file = f.read()\n",
    "f.close()\n",
    "\n",
    "#Using the with statement\n",
    "with open(\"test.txt\", \"r\") as f:\n",
    "    file = f.read()"
   ]
  },
  {
   "cell_type": "markdown",
   "id": "58314b56",
   "metadata": {},
   "source": [
    "* The advantage of using the `with` statement and `open()` together is that it makes your code cleaner and more robust. If an error occurs while working with the file, the with statement will ensure that the file is properly closed, even if an error occurs. This can prevent file corruption or other problems that can occur if a file is left open.\n",
    "\n",
    "* Additionally, using the `with` statement can help simplify your code and make it easier to understand, especially if you are working with multiple files. By using the with statement, you can clearly define the scope of the file, making it easier to see when it is being used and when it is being closed."
   ]
  },
  {
   "cell_type": "markdown",
   "id": "7fc4f629",
   "metadata": {},
   "source": [
    "### `Q6`. Explain the write() and writelines() functions. Give a suitable example."
   ]
  },
  {
   "cell_type": "markdown",
   "id": "5cd55ed8",
   "metadata": {},
   "source": [
    "#### `1.write()`: \n",
    "- This function writes a string to the file. "
   ]
  },
  {
   "cell_type": "code",
   "execution_count": 13,
   "id": "954a724a",
   "metadata": {},
   "outputs": [],
   "source": [
    "with open(\"file.txt\", \"w\") as f:\n",
    "    f.write(\"data science\")"
   ]
  },
  {
   "cell_type": "code",
   "execution_count": 14,
   "id": "10e15523",
   "metadata": {},
   "outputs": [
    {
     "name": "stdout",
     "output_type": "stream",
     "text": [
      "data science\n"
     ]
    }
   ],
   "source": [
    "with open('file.txt','r') as f:\n",
    "    print(f.read())"
   ]
  },
  {
   "cell_type": "markdown",
   "id": "201fe5b3",
   "metadata": {},
   "source": [
    "#### `2.writelines()`:\n",
    "- This function writes a list of strings to the file. Each string in the list is treated as a separate line."
   ]
  },
  {
   "cell_type": "code",
   "execution_count": 15,
   "id": "23dbf515",
   "metadata": {},
   "outputs": [],
   "source": [
    "with open(\"file1.txt\", \"w\") as f:\n",
    "    lines = [\"data science\\n\", \"web dev\\n\"]\n",
    "    f.writelines(lines)"
   ]
  },
  {
   "cell_type": "code",
   "execution_count": 16,
   "id": "d2a972b0",
   "metadata": {},
   "outputs": [
    {
     "name": "stdout",
     "output_type": "stream",
     "text": [
      "data science\n",
      "web dev\n",
      "\n"
     ]
    }
   ],
   "source": [
    "with open('file1.txt','r') as f:\n",
    "    print(f.read())"
   ]
  }
 ],
 "metadata": {
  "kernelspec": {
   "display_name": "Python 3 (ipykernel)",
   "language": "python",
   "name": "python3"
  },
  "language_info": {
   "codemirror_mode": {
    "name": "ipython",
    "version": 3
   },
   "file_extension": ".py",
   "mimetype": "text/x-python",
   "name": "python",
   "nbconvert_exporter": "python",
   "pygments_lexer": "ipython3",
   "version": "3.9.13"
  }
 },
 "nbformat": 4,
 "nbformat_minor": 5
}
