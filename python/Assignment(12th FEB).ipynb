{
 "cells": [
  {
   "cell_type": "markdown",
   "id": "51d16c0e",
   "metadata": {},
   "source": [
    "### `Q1`. What is Exception in python ? what is defference between Exceptions and Syntax Error."
   ]
  },
  {
   "cell_type": "markdown",
   "id": "bd8de0ee",
   "metadata": {},
   "source": [
    "`1. Exceptions`: \n",
    "* an exception is an event that occurs during the execution of a program that disrupts the normal flow of the program's instructions. Exceptions are raised when a runtime error occurs, such as dividing by zero or accessing an undefined variable.\n",
    "* here the example of `try-expect` block using Exaception:"
   ]
  },
  {
   "cell_type": "code",
   "execution_count": 1,
   "id": "a912d33c",
   "metadata": {},
   "outputs": [
    {
     "name": "stdout",
     "output_type": "stream",
     "text": [
      "devision by zero division by zero\n"
     ]
    }
   ],
   "source": [
    "try:\n",
    "    r = 10/0\n",
    "except Exception as e:\n",
    "    print(\"devision by zero\",e)"
   ]
  },
  {
   "cell_type": "markdown",
   "id": "98277174",
   "metadata": {},
   "source": [
    "`2.Syntax error`:\n",
    "* syntax error occurs when the code is incorrect according to the rules of the Python language. Syntax errors are detected before the program starts running, and indicate that there is a problem in the code that needs to be fixed before the program can run correctly.\n",
    "* here the example:\n"
   ]
  },
  {
   "cell_type": "code",
   "execution_count": 2,
   "id": "fc0ce29e",
   "metadata": {},
   "outputs": [
    {
     "ename": "SyntaxError",
     "evalue": "invalid syntax (3669132062.py, line 2)",
     "output_type": "error",
     "traceback": [
      "\u001b[1;36m  File \u001b[1;32m\"C:\\Users\\utkar\\AppData\\Local\\Temp\\ipykernel_11860\\3669132062.py\"\u001b[1;36m, line \u001b[1;32m2\u001b[0m\n\u001b[1;33m    if (s != o:\u001b[0m\n\u001b[1;37m              ^\u001b[0m\n\u001b[1;31mSyntaxError\u001b[0m\u001b[1;31m:\u001b[0m invalid syntax\n"
     ]
    }
   ],
   "source": [
    "for s in string:  \n",
    "    if (s != o:  \n",
    "        print( s )  "
   ]
  },
  {
   "cell_type": "markdown",
   "id": "d1dee164",
   "metadata": {},
   "source": [
    "### `Q2`. What happens when an exception is not handled? Explain with an example."
   ]
  },
  {
   "cell_type": "markdown",
   "id": "74d9f47c",
   "metadata": {},
   "source": [
    "* When an exception is not handled, it propagates up the call stack until it is caught by an exception handler. If the exception is not caught by any handler, the program will terminate and an error message will be displayed to the user.\n",
    "* <b>here the unhandled exception example:\n"
   ]
  },
  {
   "cell_type": "code",
   "execution_count": 3,
   "id": "d5cac83b",
   "metadata": {},
   "outputs": [
    {
     "ename": "FileNotFoundError",
     "evalue": "[Errno 2] No such file or directory: 'test.txt'",
     "output_type": "error",
     "traceback": [
      "\u001b[1;31m---------------------------------------------------------------------------\u001b[0m",
      "\u001b[1;31mFileNotFoundError\u001b[0m                         Traceback (most recent call last)",
      "\u001b[1;32m~\\AppData\\Local\\Temp\\ipykernel_11860\\4239828405.py\u001b[0m in \u001b[0;36m<module>\u001b[1;34m\u001b[0m\n\u001b[1;32m----> 1\u001b[1;33m \u001b[0mf\u001b[0m \u001b[1;33m=\u001b[0m \u001b[0mopen\u001b[0m\u001b[1;33m(\u001b[0m\u001b[1;34m\"test.txt\"\u001b[0m\u001b[1;33m,\u001b[0m\u001b[1;34m\"r\"\u001b[0m\u001b[1;33m)\u001b[0m\u001b[1;33m\u001b[0m\u001b[1;33m\u001b[0m\u001b[0m\n\u001b[0m\u001b[0;32m      2\u001b[0m \u001b[0mprint\u001b[0m\u001b[1;33m(\u001b[0m\u001b[0mf\u001b[0m\u001b[1;33m.\u001b[0m\u001b[0mread\u001b[0m\u001b[1;33m(\u001b[0m\u001b[1;33m)\u001b[0m\u001b[1;33m)\u001b[0m\u001b[1;33m\u001b[0m\u001b[1;33m\u001b[0m\u001b[0m\n",
      "\u001b[1;31mFileNotFoundError\u001b[0m: [Errno 2] No such file or directory: 'test.txt'"
     ]
    }
   ],
   "source": [
    "f = open(\"test.txt\",\"r\")\n",
    "print(f.read())"
   ]
  },
  {
   "cell_type": "markdown",
   "id": "98e9ef9d",
   "metadata": {},
   "source": [
    "#### * here the handled exception example:"
   ]
  },
  {
   "cell_type": "code",
   "execution_count": 4,
   "id": "036ca151",
   "metadata": {},
   "outputs": [
    {
     "name": "stdout",
     "output_type": "stream",
     "text": [
      "file error\n"
     ]
    }
   ],
   "source": [
    "try:\n",
    "    f= open(\"test.txt\",\"r\")\n",
    "    print(f.read())\n",
    "except Exception as e:\n",
    "    print(\"file error\")"
   ]
  },
  {
   "cell_type": "markdown",
   "id": "ae4f4923",
   "metadata": {},
   "source": [
    "### `Q3`. Which Python statements are used to catch and handle exceptions? Explain with an example."
   ]
  },
  {
   "cell_type": "markdown",
   "id": "56e379fd",
   "metadata": {},
   "source": [
    "* the `try` and `except` statements are used to catch and handle exceptions. The basic structure of a try-except block looks like this:"
   ]
  },
  {
   "cell_type": "code",
   "execution_count": 5,
   "id": "4b2baee4",
   "metadata": {},
   "outputs": [
    {
     "name": "stdout",
     "output_type": "stream",
     "text": [
      "enter a number(or done to stop):40\n",
      "enter a number(or done to stop):493\n",
      "enter a number(or done to stop):403\n",
      "enter a number(or done to stop):done\n",
      "the number you entered are: [40, 493, 403]\n"
     ]
    }
   ],
   "source": [
    "try:\n",
    "    n = []\n",
    "    while True:\n",
    "        n1 = input(\"enter a number(or done to stop):\")\n",
    "        if n1 == \"done\":\n",
    "            break\n",
    "        n.append(int(n1))\n",
    "except ValueError:\n",
    "    print(\"Invalid input, only numbers are allowed.\")\n",
    "else:\n",
    "    print(f'the number you entered are: {n}')"
   ]
  },
  {
   "cell_type": "markdown",
   "id": "32eb919e",
   "metadata": {},
   "source": [
    "### `Q4`. Explain with an example:\n",
    "\n",
    "1. try and else \n",
    "2. finally\n",
    "3. raise "
   ]
  },
  {
   "cell_type": "code",
   "execution_count": 6,
   "id": "80554080",
   "metadata": {},
   "outputs": [],
   "source": [
    "f = open(\"example.txt\",'w')\n",
    "f.write(\"i want to become data scientists \")\n",
    "f.close()"
   ]
  },
  {
   "cell_type": "code",
   "execution_count": 7,
   "id": "bbbacba8",
   "metadata": {},
   "outputs": [
    {
     "name": "stdout",
     "output_type": "stream",
     "text": [
      "Finally: The function has finished execution.\n",
      "i want to become data scientists \n",
      "Finally: The function has finished execution.\n",
      "Error: missing.txt not found.\n"
     ]
    }
   ],
   "source": [
    "def read_file(filename):\n",
    "    try:\n",
    "        with open(filename, 'r') as file:\n",
    "            contents = file.read()\n",
    "    except Exception as e:\n",
    "        return f\"Error: {filename} not found.\"\n",
    "    else:\n",
    "        return contents\n",
    "    finally:\n",
    "        print(\"Finally: The function has finished execution.\")\n",
    "\n",
    "print(read_file(\"example.txt\")) # Output: The contents of example.txt\n",
    "print(read_file(\"missing.txt\")) # Output: Error: missing.txt not found."
   ]
  },
  {
   "cell_type": "markdown",
   "id": "7fd1f0f1",
   "metadata": {},
   "source": [
    "* above example explain : the `read_file` function takes a `filename` parameter, and returns the contents of the file. The `try` block opens the file using a `with` statement, and reads its contents. If the file doesn't exist, a `Exception` exception is raised. The `except` block catches the exception and returns an error message. The `else` block returns the contents of the file if no exceptions were raised. Finally, the code in the `finally` block is executed, regardless of any exceptions raised."
   ]
  },
  {
   "cell_type": "code",
   "execution_count": 8,
   "id": "6f1ff86a",
   "metadata": {},
   "outputs": [
    {
     "name": "stdout",
     "output_type": "stream",
     "text": [
      "Error: This is a custom error message\n"
     ]
    }
   ],
   "source": [
    "try:\n",
    "    raise ValueError(\"This is a custom error message\")\n",
    "except Exception as e:\n",
    "    print(f\"Error: {e}\")"
   ]
  },
  {
   "cell_type": "markdown",
   "id": "c8af5c7f",
   "metadata": {},
   "source": [
    "* In this example, the `raise` statement raises a `ValueError` exception with a custom error message. The `except` block catches the exception and prints the error message."
   ]
  },
  {
   "cell_type": "markdown",
   "id": "c503765c",
   "metadata": {},
   "source": [
    "### `Q5`. What are Custom Exceptions in python? Why do we need Custom Exceptions? Explain with an example"
   ]
  },
  {
   "cell_type": "markdown",
   "id": "469afc4b",
   "metadata": {},
   "source": [
    "* Custom exceptions in Python are user-defined exceptions that allow developers to handle specific error conditions in their code. They are created by creating a new class that inherits from the Exception class or one of its subclasses.\n",
    "* We need custom exceptions because in some cases, the built-in exceptions that Python provides may not accurately capture the error conditions that we want to handle in our code. Custom exceptions allow us to define new exceptions that are more specific to our needs, making it easier to write clean, maintainable, and more robust code.\n",
    "* here the example:"
   ]
  },
  {
   "cell_type": "code",
   "execution_count": 9,
   "id": "68a5f41e",
   "metadata": {},
   "outputs": [
    {
     "name": "stdout",
     "output_type": "stream",
     "text": [
      "enter your book name:The Great Gatsby\n",
      "Book title is valid.\n"
     ]
    }
   ],
   "source": [
    "class InvalidBookTitleError(Exception):\n",
    "    def __init__(self, title):\n",
    "        self.title = title\n",
    "        self.message = f\"Invalid book title: {title}\"\n",
    "\n",
    "def check_book_title(title):\n",
    "    if len(title) < 10:\n",
    "        raise InvalidBookTitleError(title)\n",
    "\n",
    "try:\n",
    "    check_book_title(input(\"enter your book name:\"))\n",
    "except InvalidBookTitleError as e:\n",
    "    print(f\"Error: {e.message}\")\n",
    "else:\n",
    "    print(\"Book title is valid.\")"
   ]
  },
  {
   "cell_type": "markdown",
   "id": "7664adef",
   "metadata": {},
   "source": [
    "### `Q6`. Create custom exception class. Use this class to handle an exception."
   ]
  },
  {
   "cell_type": "code",
   "execution_count": 11,
   "id": "1e80ac4d",
   "metadata": {},
   "outputs": [
    {
     "name": "stdout",
     "output_type": "stream",
     "text": [
      "enter the numerator:89\n",
      "enter the denominator:87\n",
      "Result:1.0229885057471264\n"
     ]
    }
   ],
   "source": [
    "class invalid_deno_error(Exception):\n",
    "    \n",
    "    def __init__(self,msg):\n",
    "        self.msg = msg \n",
    "\n",
    "def devide(num , deno):\n",
    "    if deno == 0:\n",
    "        raise invalid_demo_error(\"can't divide by zero\")\n",
    "    return num/deno\n",
    "    \n",
    "try:\n",
    "    num = float(input(\"enter the numerator:\"))\n",
    "    deno = float(input(\"enter the denominator:\"))\n",
    "    r = devide(num,deno)\n",
    "\n",
    "except invalid_deno_error as e:\n",
    "    print(f'Error:{e.msg}')\n",
    "else:\n",
    "    print(f'Result:{r}')"
   ]
  }
 ],
 "metadata": {
  "kernelspec": {
   "display_name": "Python 3 (ipykernel)",
   "language": "python",
   "name": "python3"
  },
  "language_info": {
   "codemirror_mode": {
    "name": "ipython",
    "version": 3
   },
   "file_extension": ".py",
   "mimetype": "text/x-python",
   "name": "python",
   "nbconvert_exporter": "python",
   "pygments_lexer": "ipython3",
   "version": "3.9.13"
  }
 },
 "nbformat": 4,
 "nbformat_minor": 5
}
