{
 "cells": [
  {
   "cell_type": "markdown",
   "id": "2d683efd",
   "metadata": {},
   "source": [
    "### `Q1`. What is a database? Differentiate between SQL and NoSQL databases."
   ]
  },
  {
   "cell_type": "markdown",
   "id": "761ffa3d",
   "metadata": {},
   "source": [
    "- A database is a collection of organized and structured data that can be accessed, managed, and updated by computer systems. \n",
    "- It can be used to store and retrieve large amounts of data quickly and efficiently. \n",
    "- A database typically consists of one or more tables, each of which contains a set of records or rows, and each record contains a set of fields or columns."
   ]
  },
  {
   "cell_type": "markdown",
   "id": "3136fbb0",
   "metadata": {},
   "source": [
    "#### 1. SQL (Structured Query Language) databases:\n",
    "\n",
    "- SQL databases use a structured data model and store data in tables, which consist of rows and columns.\n",
    "- SQL databases are relational, which means they store data in a structured way that allows for efficient querying and data analysis.\n",
    "- SQL databases use SQL, a language used for managing and manipulating data stored in the database.\n",
    "- SQL databases are best suited for complex queries, and they are often used in applications that require high levels of data consistency and reliability."
   ]
  },
  {
   "cell_type": "markdown",
   "id": "6b61eaa5",
   "metadata": {},
   "source": [
    "#### 2.  NoSQL (Not Only SQL) databases:\n",
    "\n",
    "- NoSQL databases use a non-structured data model and store data in different formats such as documents, key-value pairs, graphs, or column families.\n",
    "- NoSQL databases are non-relational, which means they don't enforce a strict schema, and can easily handle unstructured or semi-structured data.\n",
    "- NoSQL databases offer high scalability and performance as they can handle large amounts of data across distributed systems.\n",
    "- NoSQL databases are better suited for applications that require high levels of flexibility and scalability, such as those dealing with real-time data."
   ]
  },
  {
   "cell_type": "markdown",
   "id": "82b37eb5",
   "metadata": {},
   "source": [
    "### `Q2`. What is DDL? Explain why CREATE, DROP, ALTER, and TRUNCATE are used with an example."
   ]
  },
  {
   "cell_type": "markdown",
   "id": "b1405b75",
   "metadata": {},
   "source": [
    "- DDL stands for `Data Definition Language`, which is a subset of SQL (Structured Query Language) used to define and manage the structure of database objects, such as tables, views, indexes, and constraints.\n",
    "- DDL statements are used to create, modify, and delete database objects.\n",
    "- here the example :"
   ]
  },
  {
   "cell_type": "markdown",
   "id": "45e3a333",
   "metadata": {},
   "source": [
    "####  1.`CREATE` statement:\n",
    "- The `CREATE` statement is used to create new database objects. \n",
    "- For example, to create a new table in a database called \"employees\" with columns for the employee ID, name, and salary."
   ]
  },
  {
   "cell_type": "code",
   "execution_count": null,
   "id": "ddc80982",
   "metadata": {},
   "outputs": [],
   "source": [
    "CREAT TABLE employees(\n",
    "    employee_id INT,\n",
    "    name VARCHAR,\n",
    "    salary DECIMAL\n",
    ");"
   ]
  },
  {
   "cell_type": "markdown",
   "id": "31a5b3f5",
   "metadata": {},
   "source": [
    "#### 2. `DROP` statement:\n",
    "- The `DROP` statement is used to delete existing database objects. \n",
    "- For example, to delete the \"employees\" table that we created above."
   ]
  },
  {
   "cell_type": "code",
   "execution_count": null,
   "id": "49e55689",
   "metadata": {},
   "outputs": [],
   "source": [
    "DROP TABLE employees;"
   ]
  },
  {
   "cell_type": "markdown",
   "id": "68a2cb35",
   "metadata": {},
   "source": [
    "#### 3.`ALTER` statement:\n",
    "- The `ALTER` statement is used to modify the structure of existing database objects. \n",
    "- For example, to add a new column called \"age\" to the \"employees\" table."
   ]
  },
  {
   "cell_type": "code",
   "execution_count": null,
   "id": "0376d433",
   "metadata": {},
   "outputs": [],
   "source": [
    "ALTER TABLE employees ADD age INT;"
   ]
  },
  {
   "cell_type": "markdown",
   "id": "89e26e7f",
   "metadata": {},
   "source": [
    "#### 4.`TRUNCATE` statement:\n",
    "- The `TRUNCATE` statement is used to delete all data from a table without deleting the table structure itself.\n",
    "- For example, to delete all the data from the "
   ]
  },
  {
   "cell_type": "code",
   "execution_count": null,
   "id": "5f7f0439",
   "metadata": {},
   "outputs": [],
   "source": [
    "TRUNCATE TABLE employees;"
   ]
  },
  {
   "cell_type": "markdown",
   "id": "95838fbc",
   "metadata": {},
   "source": [
    "### `Q3`. What is DML? Explain INSERT, UPDATE, and DELETE with an example."
   ]
  },
  {
   "cell_type": "markdown",
   "id": "ad062341",
   "metadata": {},
   "source": [
    "- DML is stands for `Data Manipulation Language`, which is a subset of SQL that is used to manipulate data stored in a database.\n",
    "- The three primary DML statements are INSERT, UPDATE, and DELETE, which are used to insert, modify, and delete data, respectively.\n",
    "- Here are examples:"
   ]
  },
  {
   "cell_type": "markdown",
   "id": "ec833a9b",
   "metadata": {},
   "source": [
    "#### 1.`INSERT` statement:\n",
    "- The `INSERT` statement is used to insert new data into a table.\n",
    "- For example, let's say we have a table called \"employees\" with columns for the employee ID, name, and salary, and we want to add a new employee to the table."
   ]
  },
  {
   "cell_type": "code",
   "execution_count": null,
   "id": "97805f45",
   "metadata": {},
   "outputs": [],
   "source": [
    "INSERT INTO employees VALUES (1, 'utkarsh', 50000);"
   ]
  },
  {
   "cell_type": "markdown",
   "id": "7441e3d5",
   "metadata": {},
   "source": [
    "#### 2. `UPDATE` statement:\n",
    "- The UPDATE statement is used to modify existing data in a table.\n",
    "-  For example, let's say we want to update the salary of the employee with an employee ID of 1 to 60000"
   ]
  },
  {
   "cell_type": "code",
   "execution_count": null,
   "id": "f692adfc",
   "metadata": {},
   "outputs": [],
   "source": [
    "UPDATE employees SET salary = 60000 WHERE employee_id = 1;"
   ]
  },
  {
   "cell_type": "markdown",
   "id": "a58cb75f",
   "metadata": {},
   "source": [
    "#### 3. `DELETE` statement:\n",
    "- The DELETE statement is used to delete existing data from a table. \n",
    "- For example, let's say we want to delete the employee with an employee ID of 1 from the \"employees\" table. "
   ]
  },
  {
   "cell_type": "code",
   "execution_count": null,
   "id": "d19a0cf3",
   "metadata": {},
   "outputs": [],
   "source": [
    "DELETE FROM employees WHERE employee_id = 1;"
   ]
  },
  {
   "cell_type": "markdown",
   "id": "2ce948c2",
   "metadata": {},
   "source": [
    "### `Q4`. What is DQL? Explain SELECT with an example."
   ]
  },
  {
   "cell_type": "markdown",
   "id": "bea0481d",
   "metadata": {},
   "source": [
    "- DQL is `Data Query Language` , which is subset of SQL that is used to query or retrieve data from a database. \n",
    "- The primary DQL statement is SELECT, which is used to retrieve data from one or more tables in a database"
   ]
  },
  {
   "cell_type": "markdown",
   "id": "278c6aa8",
   "metadata": {},
   "source": [
    "####  `SELECT` statement :\n",
    "- for example ,Let's assume we have a table called \"employees\" with columns for the employee ID, name, department, and salary. and we want to call two columns employee_id and name "
   ]
  },
  {
   "cell_type": "code",
   "execution_count": null,
   "id": "9e9688e7",
   "metadata": {},
   "outputs": [],
   "source": [
    "SELECT name, salary FROM employees ;"
   ]
  },
  {
   "cell_type": "markdown",
   "id": "140093bf",
   "metadata": {},
   "source": [
    "### `Q5`. Explain Primary Key and Foreign Key."
   ]
  },
  {
   "cell_type": "markdown",
   "id": "2cb5f44d",
   "metadata": {},
   "source": [
    "- In a relational database, a primary key and a foreign key are used to define the relationships between tables.\n",
    "\n",
    "#### `Primary key` : \n",
    "- A primary key is a unique identifier for a row in a table.\n",
    "- It must be unique and not null for every row in the table. \n",
    "- It is used to enforce data integrity and ensure that there are no duplicate rows in the table.\n",
    "- example:"
   ]
  },
  {
   "cell_type": "code",
   "execution_count": null,
   "id": "83cd2664",
   "metadata": {},
   "outputs": [],
   "source": [
    "CREATE TABLE users (\n",
    "  user_id INT PRIMARY KEY,\n",
    "  username VARCHAR(50),\n",
    "  email VARCHAR(50),\n",
    "  password VARCHAR(50));"
   ]
  },
  {
   "cell_type": "markdown",
   "id": "5cff6d61",
   "metadata": {},
   "source": [
    "#### `Foreign key`:\n",
    "- A foreign key is a column in one table that references the primary key of another table. \n",
    "- It is used to enforce referential integrity and ensure that data is consistent across multiple tables. \n",
    "- A table can have multiple foreign keys.\n",
    "- example:\n"
   ]
  },
  {
   "cell_type": "code",
   "execution_count": null,
   "id": "c11d3d3b",
   "metadata": {},
   "outputs": [],
   "source": [
    "CREATE TABLE orders (\n",
    "  order_id INT PRIMARY KEY,\n",
    "  user_id INT,\n",
    "  product_name VARCHAR(50),\n",
    "  quantity INT,\n",
    "  FOREIGN KEY (user_id) REFERENCES users(user_id));"
   ]
  },
  {
   "cell_type": "markdown",
   "id": "d749413a",
   "metadata": {},
   "source": [
    "### `Q6`. Write a python code to connect MySQL to python. Explain the cursor() and execute() method."
   ]
  },
  {
   "cell_type": "code",
   "execution_count": null,
   "id": "49790fea",
   "metadata": {},
   "outputs": [],
   "source": [
    "import mysql.connector\n",
    "# import mysql.connector\n",
    "mydb = mysql.connector.connect(\n",
    "  host=\"localhost\",\n",
    "  user=\"abc\",\n",
    "  password=\"password\"\n",
    ")\n",
    "print(mydb)\n",
    "mycursor = mydb.cursor()\n",
    "mycursor.execute(\"SHOW DATABASES\")\n",
    "for x in mycursor:\n",
    "  print(x)"
   ]
  },
  {
   "cell_type": "markdown",
   "id": "e4c15513",
   "metadata": {},
   "source": [
    "- The `cursor()` method creates a new cursor object that allows you to execute SQL statements and fetch data from the database. The cursor is like a pointer or handle to a specific result set, and it provides methods for executing SQL statements, fetching data, and managing transactions.\n",
    "\n",
    "- The `execute()` method is used to execute an SQL query or command on the database. In the given code, mycursor.execute(\"SHOW DATABASES\") executes the SQL statement \"SHOW DATABASES\", which returns a list of all the databases in the MySQL server.\n",
    "\n",
    "- After executing the query, we use a for loop to iterate over the result set returned by the `execute()` method, and print each database name using the` print()` function"
   ]
  },
  {
   "cell_type": "markdown",
   "id": "48dae1c2",
   "metadata": {},
   "source": [
    "### `Q7`. Give the order of execution of SQL clauses in an SQL query."
   ]
  },
  {
   "cell_type": "markdown",
   "id": "8fb3d3e5",
   "metadata": {},
   "source": [
    "1. FROM: This clause specifies the table or tables from which the data is being retrieved.\n",
    "\n",
    "2. JOIN: This clause is used to join two or more tables based on a common column.\n",
    "\n",
    "3. WHERE: This clause is used to filter the data based on one or more conditions.\n",
    "\n",
    "4. GROUP BY: This clause is used to group the data based on one or more columns.\n",
    "\n",
    "5. HAVING: This clause is used to filter the grouped data based on one or more conditions.\n",
    "\n",
    "6. SELECT: This clause is used to specify the columns that should be retrieved from the table(s).\n",
    "\n",
    "7. DISTINCT: This clause is used to retrieve only unique values for the specified columns.\n",
    "\n",
    "8. ORDER BY: This clause is used to sort the data based on one or more columns.\n",
    "\n",
    "9. LIMIT: This clause is used to limit the number of rows that are retrieved from the table(s)."
   ]
  }
 ],
 "metadata": {
  "kernelspec": {
   "display_name": "Python 3 (ipykernel)",
   "language": "python",
   "name": "python3"
  },
  "language_info": {
   "codemirror_mode": {
    "name": "ipython",
    "version": 3
   },
   "file_extension": ".py",
   "mimetype": "text/x-python",
   "name": "python",
   "nbconvert_exporter": "python",
   "pygments_lexer": "ipython3",
   "version": "3.9.13"
  }
 },
 "nbformat": 4,
 "nbformat_minor": 5
}
