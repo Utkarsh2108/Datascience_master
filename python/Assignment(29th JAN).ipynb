{
 "cells": [
  {
   "cell_type": "markdown",
   "id": "2160f89a",
   "metadata": {},
   "source": [
    "### `1`. who developed the Python Programming Language?"
   ]
  },
  {
   "cell_type": "markdown",
   "id": "f50255f1",
   "metadata": {},
   "source": [
    "* The Python programming language was developed by `Guido van Rossum`.\n",
    "* The first version was released in `February 1991`.\n",
    "* The language was designed to be easy to learn, simple to use, and easy to read. It was also designed to be highly extensible and portable.\n",
    "* Python is one of the most popular programming languages in the world."
   ]
  },
  {
   "cell_type": "markdown",
   "id": "c47d7808",
   "metadata": {},
   "source": [
    "### `2`. which type of Programming does Python support ?"
   ]
  },
  {
   "cell_type": "markdown",
   "id": "ae290d42",
   "metadata": {},
   "source": [
    "* Python is a high-level.Python is a multi-paradigm programming language.it supports the following programming paradigms:\n",
    "1. `Structured Programming` - Python supports control structures like if-else, loops, and functions, making it a great language for procedural programming.\n",
    "\n",
    "2. `Functional Programming` - Python supports functional programming constructs such as anonymous functions, first-class functions, and higher-order functions.\n",
    "\n",
    "3.  `Object-Oriented Programming (OOP)` - Python supports classes, objects, inheritance, polymorphism, and encapsulation.\n",
    "\n",
    "4. `Scripting` - Python can be used as a scripting language, allowing developers to automate tasks and write scripts to perform specific functions.\n",
    "\n",
    "5. `Dynamic Programming` - Python is a dynamically-typed language, which allows for greater flexibility and ease of use, particularly for prototyping and experimenting with code. "
   ]
  },
  {
   "cell_type": "markdown",
   "id": "aba57fcf",
   "metadata": {},
   "source": [
    "### `3`. Is Python case sensitive when dealing with identifiers? "
   ]
  },
  {
   "cell_type": "markdown",
   "id": "04542e4a",
   "metadata": {},
   "source": [
    "* `Yes`, Python is case sensitive when dealing with identifiers, i.e., it treats uppercase and lowercase characters differently. This applies to identifiers too. You must avoid using the same name with different cases while naming identifiers. It is always good to use names that are more easily understood\n",
    "* For example: if you define a variable named \"Utkarsh\", you must reference it as \"Utkarsh\", not \"utKaRsh\" or \"UTKARSH\"."
   ]
  },
  {
   "cell_type": "markdown",
   "id": "1a85ce00",
   "metadata": {},
   "source": [
    "### `4`. what is correct extenstion of Python file? "
   ]
  },
  {
   "cell_type": "markdown",
   "id": "7aaa7376",
   "metadata": {},
   "source": [
    "* The correct extension for a Python file is .py. This extension is used to identify Python source code files.\n",
    "* When you save a Python file, Python is recommended to use the .py extension, so that others can easily identify it as a Python script.\n",
    "* For example, if you have a Python script that prints \"Hello World!\", you could save the file as \"hello_world.py\""
   ]
  },
  {
   "cell_type": "markdown",
   "id": "6de22936",
   "metadata": {},
   "source": [
    "### `5`. is Python code compiled or interpreted? "
   ]
  },
  {
   "cell_type": "markdown",
   "id": "3d416a7e",
   "metadata": {},
   "source": [
    "* Python is an interpreted language, which means that the code is executed line by line at runtime, without being compiled into machine code first.Unlike compiled languages, such as C or C++, where the code must be compiled into an executable binary before it can be run, Python code can be run directly without any intermediate steps.\n"
   ]
  },
  {
   "cell_type": "markdown",
   "id": "33c2b95d",
   "metadata": {},
   "source": [
    "### `6`. Name of few blocks of code used to define the Python Language."
   ]
  },
  {
   "cell_type": "markdown",
   "id": "0837306d",
   "metadata": {},
   "source": [
    "In Python, the following blocks of code are used to define the language:\n",
    "1. Loops - Loops are blocks of code that repeat a specified number of times. Python supports two types of loops: `for` loops and `while` loops. For loops are used to iterate over a sequence, such as a list or a range, while while loops repeat until a certain condition is met.\n",
    "\n",
    "2. If-Else Statements - If-else statements are blocks of code that conditionally execute different pieces of code based on the value of an expression. If-else statements are defined using the \"if\" keyword, followed by the expression to be evaluated, and the code block to be executed if the expression is true.\n",
    "\n",
    "3. Functions - Functions are blocks of code that can be executed repeatedly. Functions are defined using the `def` keyword, followed by the function name, input parameters, and the code block. Functions help to break down complex programs into smaller, reusable components.\n",
    "\n",
    "4. Classes - Classes are blocks of code that define objects and their properties and behaviors. Classes are defined using the `class` keyword, followed by the class name and the code block. Classes are a key component of object-oriented programming in Python.\n",
    "\n"
   ]
  },
  {
   "cell_type": "markdown",
   "id": "9f404a25",
   "metadata": {},
   "source": [
    "### `7`. State a character used to give single-line comments in Pyhton."
   ]
  },
  {
   "cell_type": "markdown",
   "id": "43d37877",
   "metadata": {},
   "source": [
    "In Python, the pound sign `#` is used to give single-line comments. A single-line comment starts with the pound sign and continues until the end of the line. Everything following the pound sign on that line is ignored by the interpreter. For example:"
   ]
  },
  {
   "cell_type": "code",
   "execution_count": 1,
   "id": "88db9597",
   "metadata": {},
   "outputs": [
    {
     "name": "stdout",
     "output_type": "stream",
     "text": [
      "Hello World!\n"
     ]
    }
   ],
   "source": [
    "# this is single-line in python\n",
    "print(\"Hello World!\") # This line of code will be executed"
   ]
  },
  {
   "cell_type": "markdown",
   "id": "bcf80341",
   "metadata": {},
   "source": [
    "### `8`. Mention functions which can helps us to find the version of Python that we are current working on?"
   ]
  },
  {
   "cell_type": "markdown",
   "id": "d8c54c12",
   "metadata": {},
   "source": [
    "* There are two functions in Python that can help us find the version of Python that we are currently working on:\n",
    "\n",
    "1. sys.version - The sys module is part of the standard library and provides information about the Python runtime. The sys.version attribute returns a string that contains information about the Python version number, build date, and other details.\n"
   ]
  },
  {
   "cell_type": "code",
   "execution_count": 2,
   "id": "43c279d6",
   "metadata": {},
   "outputs": [
    {
     "name": "stdout",
     "output_type": "stream",
     "text": [
      "3.9.13 (main, Aug 25 2022, 23:51:50) [MSC v.1916 64 bit (AMD64)]\n"
     ]
    }
   ],
   "source": [
    "# Example:\n",
    "import sys\n",
    "print(sys.version)"
   ]
  },
  {
   "cell_type": "markdown",
   "id": "90682b06",
   "metadata": {},
   "source": [
    "2. platform.python_version() - The platform module is part of the standard library and provides information about the underlying platform. The platform.python_version() function returns a string that contains the version of Python that is currently in use.\n",
    "Example:\n",
    "\n"
   ]
  },
  {
   "cell_type": "code",
   "execution_count": 3,
   "id": "a34cb0ba",
   "metadata": {},
   "outputs": [
    {
     "name": "stdout",
     "output_type": "stream",
     "text": [
      "3.9.13\n"
     ]
    }
   ],
   "source": [
    "import platform\n",
    "print(platform.python_version())"
   ]
  },
  {
   "cell_type": "markdown",
   "id": "0192abc0",
   "metadata": {},
   "source": [
    "### `9`. Python support the creation of anonymous fucntions at runtime using a contruct called_____"
   ]
  },
  {
   "cell_type": "markdown",
   "id": "44544c21",
   "metadata": {},
   "source": [
    "* In Python, anonymous functions, also known as `lambda functions`, can be created at runtime using a construct called a `lambda expression`. A lambda expression is a small, anonymous function that can be used wherever a function object is required."
   ]
  },
  {
   "cell_type": "code",
   "execution_count": 4,
   "id": "90e36fc4",
   "metadata": {},
   "outputs": [
    {
     "name": "stdout",
     "output_type": "stream",
     "text": [
      "12\n"
     ]
    }
   ],
   "source": [
    "#example\n",
    "multi = lambda a,b : a*b\n",
    "result = multi(3,4)\n",
    "print(result)"
   ]
  },
  {
   "cell_type": "markdown",
   "id": "dc7eb107",
   "metadata": {},
   "source": [
    "### `10`. what does pip stand for Python?"
   ]
  },
  {
   "cell_type": "markdown",
   "id": "04d9d2b7",
   "metadata": {},
   "source": [
    "* PIP stands for `Preferred Installer Program`\n",
    "* With pip, you can search for packages, install packages, upgrade packages, and remove packages, all from the command line and it is an essential tool for managing your Python environment.\n",
    "* To use pip, type `pip install` followed by the name of the package you want to install. For example, to install the NumPy package, you would type:"
   ]
  },
  {
   "cell_type": "code",
   "execution_count": 5,
   "id": "9ee4cc10",
   "metadata": {},
   "outputs": [
    {
     "name": "stdout",
     "output_type": "stream",
     "text": [
      "Defaulting to user installation because normal site-packages is not writeable\n",
      "Requirement already satisfied: numpy in c:\\programdata\\anaconda3\\lib\\site-packages (1.21.5)\n",
      "Note: you may need to restart the kernel to use updated packages.\n"
     ]
    }
   ],
   "source": [
    "pip install numpy #this line download and install letest version of numpy package"
   ]
  },
  {
   "cell_type": "markdown",
   "id": "05b53a94",
   "metadata": {},
   "source": [
    "### `11`. Mention a few buit-in functions in Pyhton"
   ]
  },
  {
   "cell_type": "markdown",
   "id": "dc7f2cbf",
   "metadata": {},
   "source": [
    "* there are many buit-in fuction in python but few function given below:\n",
    "1. print() - prints a string or other data type to the console\n",
    "2. len() - returns the length of a string, list, or other data type\n",
    "3. type() - returns the type of an object\n",
    "4. int() - converts a string or other data type to an integer\n",
    "5. str() - converts a number or other data type to a string\n",
    "6. abs() - returns the absolute value of a number\n",
    "7. round() - rounds a number to a specified number of decimal places\n",
    "8. sum() - calculates the sum of a list of numbers\n",
    "9. max() - returns the maximum value from a list of numbers\n",
    "10. min() - returns the minimum value from a list of numbers"
   ]
  },
  {
   "cell_type": "markdown",
   "id": "cbe0aea1",
   "metadata": {},
   "source": [
    "### `12`. what is maximum possible length of an identifies in Python?"
   ]
  },
  {
   "cell_type": "markdown",
   "id": "8acba134",
   "metadata": {},
   "source": [
    "In Python, there is no maximum length for identifiers (variable names, function names, class names, etc.). but, it is a good  to keep them short and descriptive."
   ]
  },
  {
   "cell_type": "markdown",
   "id": "aa11407d",
   "metadata": {},
   "source": [
    "### `13`. what are benifits of Python?"
   ]
  },
  {
   "cell_type": "markdown",
   "id": "60a2aaa6",
   "metadata": {},
   "source": [
    "* Extensive support libraries\n",
    "* Open source and large active community base \n",
    "* Easy to read, learn and write\n",
    "* High-level language \n",
    "* Dynamically typed language(No need to mention data type based on the value assigned, it takes data type) \n",
    "* Object-Oriented and Procedural  Programming language\n",
    "* Portable and Interactive\n",
    "* Ideal for prototypes – provide more functionality with less coding\n",
    "* Highly Efficient(Python’s clean object-oriented design provides enhanced process control, and the language is equipped with excellent text processing and integration capabilities, as well as its own unit testing framework, which makes it more efficient.)\n",
    "* Interpreted Language\n",
    "* Portable across Operating systems (using in macos,window,linux)"
   ]
  },
  {
   "cell_type": "markdown",
   "id": "090b04ac",
   "metadata": {},
   "source": [
    "### `14`. How is memory manages in Python?"
   ]
  },
  {
   "cell_type": "markdown",
   "id": "202823ad",
   "metadata": {},
   "source": [
    "* Memory management in Python is handled automatically by the Python interpreter, using a memory management system known as reference counting. Reference counting is a technique for keeping track of the number of references to an object in memory.\n",
    "* In Python, when an object is created, the Python interpreter increments its reference count. When a reference to the object is deleted or goes out of scope, the reference count is decremented. When the reference count reaches zero, the object is no longer being used and its memory is freed."
   ]
  },
  {
   "cell_type": "markdown",
   "id": "186fcb9e",
   "metadata": {},
   "source": [
    "### `15`. How to install Python on Windows and set path variable?"
   ]
  },
  {
   "cell_type": "markdown",
   "id": "5c203b57",
   "metadata": {},
   "source": [
    "* step-1 : Download the Python installer (go to `python.org` and download that latest python version)\n",
    "* step-2 : Run the installer (double-click on downloaded file python.exe then execute and install python)\n",
    "* step-3 : Check the installation (open command prompt then type `python -version` check the python installed successfully or not)\n",
    "* step-4 : Set the PATH variable (\n",
    "              1. Right-click on the Start button, and select \"System\".\n",
    "              2. Click on \"Advanced system settings\".\n",
    "              3. Click on the \"Environment Variables\" button.\n",
    "              4. Under \"System Variables\", scroll down and find the \"Path\" variable, then click \"Edit\".\n",
    "              5. Click \"New\" and add the location of the Python executable, for example \"C:\\Python38\".\n",
    "              6. Click \"OK\" to close all windows and save the changes)\n",
    "* above steps the process for install Python"
   ]
  },
  {
   "cell_type": "markdown",
   "id": "53dddf11",
   "metadata": {},
   "source": [
    "### `16`. Is Indentation required in Python?"
   ]
  },
  {
   "cell_type": "markdown",
   "id": "5b013499",
   "metadata": {},
   "source": [
    "Yes, indentation is required in Python. In Python, indentation is used to define blocks of code, such as loops, functions, and conditional statements. Indentation serves as a visual cue to the programmer, indicating the beginning and end of a block of code."
   ]
  },
  {
   "cell_type": "code",
   "execution_count": 6,
   "id": "bd8b68e8",
   "metadata": {},
   "outputs": [
    {
     "ename": "IndentationError",
     "evalue": "expected an indented block (2290951416.py, line 3)",
     "output_type": "error",
     "traceback": [
      "\u001b[1;36m  File \u001b[1;32m\"C:\\Users\\utkar\\AppData\\Local\\Temp\\ipykernel_6708\\2290951416.py\"\u001b[1;36m, line \u001b[1;32m3\u001b[0m\n\u001b[1;33m    print(i)\u001b[0m\n\u001b[1;37m    ^\u001b[0m\n\u001b[1;31mIndentationError\u001b[0m\u001b[1;31m:\u001b[0m expected an indented block\n"
     ]
    }
   ],
   "source": [
    "# For example, without indentation gives error\n",
    "for i in range(10):\n",
    "print(i) "
   ]
  },
  {
   "cell_type": "code",
   "execution_count": 7,
   "id": "526f7049",
   "metadata": {},
   "outputs": [
    {
     "name": "stdout",
     "output_type": "stream",
     "text": [
      "0\n",
      "1\n",
      "2\n",
      "3\n",
      "4\n",
      "5\n",
      "6\n",
      "7\n",
      "8\n",
      "9\n"
     ]
    }
   ],
   "source": [
    "# For example, with indentation \n",
    "for i in range(10):\n",
    "    print(i) "
   ]
  }
 ],
 "metadata": {
  "kernelspec": {
   "display_name": "Python 3 (ipykernel)",
   "language": "python",
   "name": "python3"
  },
  "language_info": {
   "codemirror_mode": {
    "name": "ipython",
    "version": 3
   },
   "file_extension": ".py",
   "mimetype": "text/x-python",
   "name": "python",
   "nbconvert_exporter": "python",
   "pygments_lexer": "ipython3",
   "version": "3.9.13"
  }
 },
 "nbformat": 4,
 "nbformat_minor": 5
}
