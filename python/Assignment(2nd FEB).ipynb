{
 "cells": [
  {
   "cell_type": "markdown",
   "id": "789a76a1",
   "metadata": {},
   "source": [
    "#### `Q1`. Explain with an example each when to use a for loop and a while loop."
   ]
  },
  {
   "cell_type": "markdown",
   "id": "60d36e89",
   "metadata": {},
   "source": [
    "* `for` loop is used when you know beforehand the number of times you want to iterate through a block of code.for example:"
   ]
  },
  {
   "cell_type": "code",
   "execution_count": 1,
   "id": "9ecd5522",
   "metadata": {},
   "outputs": [
    {
     "name": "stdout",
     "output_type": "stream",
     "text": [
      "1\n",
      "2\n",
      "3\n",
      "4\n",
      "5\n",
      "6\n",
      "7\n",
      "8\n",
      "9\n"
     ]
    }
   ],
   "source": [
    "for i in range(1,10):\n",
    "    print(i)"
   ]
  },
  {
   "cell_type": "markdown",
   "id": "125e7a4a",
   "metadata": {},
   "source": [
    "* `while` loop is used when you want to keep executing a block of code as long as a certain condition is true.for example:"
   ]
  },
  {
   "cell_type": "code",
   "execution_count": 2,
   "id": "37e71358",
   "metadata": {},
   "outputs": [
    {
     "name": "stdout",
     "output_type": "stream",
     "text": [
      "enter password: lanfa\n",
      "enter password: secret\n",
      "access granted\n"
     ]
    }
   ],
   "source": [
    "password = \"secret\"\n",
    "input_password = \"\"\n",
    "while input_password != password:\n",
    "    input_password = input(\"enter password: \")\n",
    "print('access granted')"
   ]
  },
  {
   "cell_type": "markdown",
   "id": "aa7041ef",
   "metadata": {},
   "source": [
    "#### `Q2`. Write a python program to print the sum and product of the first 10 natural numbers using for and while loop."
   ]
  },
  {
   "cell_type": "code",
   "execution_count": 3,
   "id": "1a32e764",
   "metadata": {},
   "outputs": [
    {
     "name": "stdout",
     "output_type": "stream",
     "text": [
      "sum of fist 10 natural number:55\n",
      "product of fist 10 natural number:3628800\n"
     ]
    }
   ],
   "source": [
    "# using for loop\n",
    "s = 0\n",
    "p = 1\n",
    "for i in range(1,11):\n",
    "    s += i\n",
    "    p *= i\n",
    "print(f\"sum of fist 10 natural number:{s}\")\n",
    "print(f\"product of fist 10 natural number:{p}\")"
   ]
  },
  {
   "cell_type": "code",
   "execution_count": null,
   "id": "1b5b8629",
   "metadata": {},
   "outputs": [],
   "source": [
    "# using while loop\n",
    "sum = 0\n",
    "product = 1\n",
    "i = 1\n",
    "while i <= 10:\n",
    "    sum += i\n",
    "    product *= i\n",
    "print(f\"sum of fist 10 natural number:{sum}\")\n",
    "print(f\"product of fist 10 natural number:{product}\")"
   ]
  },
  {
   "cell_type": "markdown",
   "id": "5ce995ae",
   "metadata": {},
   "source": [
    "#### `Q3` Create a python program to compute the electricity bill for a household.The per-unit charges in rupees are as follows: For the first 100 units, the user will be charged Rs. 4.5 perunit, for the next 100 units, the user will be charged Rs. 6 per unit, and for the next 100 units, the user willbe charged Rs. 10 per unit, After 300 units and above the user will be charged Rs. 20 per unit."
   ]
  },
  {
   "cell_type": "code",
   "execution_count": 5,
   "id": "07f86be3",
   "metadata": {},
   "outputs": [
    {
     "name": "stdout",
     "output_type": "stream",
     "text": [
      "Enter your units: 310\n",
      "The total electricity_bill is Rs.2250.0\n"
     ]
    }
   ],
   "source": [
    "units = int(input(\"Enter your units: \")) \n",
    "if units <= 100:\n",
    "    electricity_bill = unit * 4.5\n",
    "elif units <= 200:\n",
    "    electricity_bill = 100 * 4.5 + (units - 100) * 6\n",
    "elif units <= 300:\n",
    "    electricity_bill = 100 * 4.5 + 100 * 6 + (units - 200) * 10\n",
    "else:\n",
    "    electricity_bill = 100 * 4.5 + 100 * 6 + 100 * 10 + (units - 300) * 20\n",
    "print(f\"The total electricity_bill is Rs.{electricity_bill}\")"
   ]
  },
  {
   "cell_type": "markdown",
   "id": "a5f06514",
   "metadata": {},
   "source": [
    "#### `Q4`. Create a list of numbers from 1 to 100. Use for loop and while loop to calculate the cube of eachnumber and if the cube of that number is divisible by 4 or 5 then append that number in a list and print that list."
   ]
  },
  {
   "cell_type": "code",
   "execution_count": 6,
   "id": "8e2a3148",
   "metadata": {},
   "outputs": [
    {
     "name": "stdout",
     "output_type": "stream",
     "text": [
      "Numbers whose cube is divisible by 4 or 5 using for loop:\n",
      "[2, 4, 5, 6, 8, 10, 12, 14, 15, 16, 18, 20, 22, 24, 25, 26, 28, 30, 32, 34, 35, 36, 38, 40, 42, 44, 45, 46, 48, 50, 52, 54, 55, 56, 58, 60, 62, 64, 65, 66, 68, 70, 72, 74, 75, 76, 78, 80, 82, 84, 85, 86, 88, 90, 92, 94, 95, 96, 98, 100]\n"
     ]
    }
   ],
   "source": [
    "# using 'for' loop\n",
    "cubes = []\n",
    "for i in range(1, 101):\n",
    "    cube = i**3\n",
    "    if cube % 4 == 0 or cube % 5 == 0:\n",
    "        cubes.append(i)\n",
    "\n",
    "print(f\"Numbers whose cube is divisible by 4 or 5 using for loop:\\n{cubes}\")"
   ]
  },
  {
   "cell_type": "code",
   "execution_count": 7,
   "id": "cf36047b",
   "metadata": {},
   "outputs": [
    {
     "name": "stdout",
     "output_type": "stream",
     "text": [
      "Numbers whose cube is divisible by 4 or 5 using while loop:\n",
      "[2, 4, 5, 6, 8, 10, 12, 14, 15, 16, 18, 20, 22, 24, 25, 26, 28, 30, 32, 34, 35, 36, 38, 40, 42, 44, 45, 46, 48, 50, 52, 54, 55, 56, 58, 60, 62, 64, 65, 66, 68, 70, 72, 74, 75, 76, 78, 80, 82, 84, 85, 86, 88, 90, 92, 94, 95, 96, 98, 100]\n"
     ]
    }
   ],
   "source": [
    "# using \"while\" loop\n",
    "cubes = []\n",
    "i = 1\n",
    "while i <= 100:\n",
    "    cube = i**3\n",
    "    if cube % 4 == 0 or cube % 5 == 0:\n",
    "        cubes.append(i)\n",
    "    i += 1\n",
    "\n",
    "print(f\"Numbers whose cube is divisible by 4 or 5 using while loop:\\n{cubes}\")"
   ]
  },
  {
   "cell_type": "markdown",
   "id": "f6718756",
   "metadata": {},
   "source": [
    "#### `Q5`. Write a program to filter count vowels in the below-given string.\n",
    "* string = \"i want to become a data scientist\""
   ]
  },
  {
   "cell_type": "code",
   "execution_count": 8,
   "id": "a33bbc7a",
   "metadata": {},
   "outputs": [
    {
     "name": "stdout",
     "output_type": "stream",
     "text": [
      "The number of vowels in string: 12\n"
     ]
    }
   ],
   "source": [
    "string = \"i want to become a data scientist\"\n",
    "v = \"aeiou\"\n",
    "count_vowels = 0\n",
    "for a in string :\n",
    "    if a in v:\n",
    "        count_vowels += 1\n",
    "print(f\"The number of vowels in string: {count_vowels}\")   "
   ]
  }
 ],
 "metadata": {
  "kernelspec": {
   "display_name": "Python 3 (ipykernel)",
   "language": "python",
   "name": "python3"
  },
  "language_info": {
   "codemirror_mode": {
    "name": "ipython",
    "version": 3
   },
   "file_extension": ".py",
   "mimetype": "text/x-python",
   "name": "python",
   "nbconvert_exporter": "python",
   "pygments_lexer": "ipython3",
   "version": "3.9.13"
  }
 },
 "nbformat": 4,
 "nbformat_minor": 5
}
