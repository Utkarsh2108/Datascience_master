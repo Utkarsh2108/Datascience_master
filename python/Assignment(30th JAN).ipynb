{
 "cells": [
  {
   "cell_type": "markdown",
   "id": "e8547ade",
   "metadata": {},
   "source": [
    "#### `Question-1`. Write program to accept percentage from the user and display the grade follwing criteria:"
   ]
  },
  {
   "cell_type": "code",
   "execution_count": 1,
   "id": "7d30b931",
   "metadata": {},
   "outputs": [
    {
     "name": "stdout",
     "output_type": "stream",
     "text": [
      "enter your marks:91\n",
      "Grade-A\n"
     ]
    }
   ],
   "source": [
    "#input marks here\n",
    "marks = int(input(\"enter your marks:\"))\n",
    "# checking for criteria \n",
    "if marks > 90:\n",
    "    print(\"Grade-A\")\n",
    "elif marks > 80 and marks <= 90:\n",
    "    print(\"Grade-B\")\n",
    "elif marks <= 80 and marks >= 60:\n",
    "    print(\"Grade-C\")\n",
    "else:\n",
    "    print(\"Grade-D\")"
   ]
  },
  {
   "cell_type": "markdown",
   "id": "8d6d2c58",
   "metadata": {},
   "source": [
    "#### `Question-2`. Write program to accept the cost price of a bike and display the road tax to be paid according to following criteria:"
   ]
  },
  {
   "cell_type": "code",
   "execution_count": 2,
   "id": "52071386",
   "metadata": {},
   "outputs": [
    {
     "name": "stdout",
     "output_type": "stream",
     "text": [
      "enter your price:2000000\n",
      "15%\n"
     ]
    }
   ],
   "source": [
    "# enter the costprice\n",
    "costprice = float(input(\"enter your price:\"))\n",
    "# criteria for road tex\n",
    "if costprice >= 100000:\n",
    "    print(\"15%\")\n",
    "elif costprice >= 50000 and costprice < 100000:\n",
    "    print(\"10%\")\n",
    "else:\n",
    "    print(\"5%\")"
   ]
  },
  {
   "cell_type": "markdown",
   "id": "26bc8afd",
   "metadata": {},
   "source": [
    "#### `Question-3`.Accept any city from the user and display monuments of that city"
   ]
  },
  {
   "cell_type": "code",
   "execution_count": 3,
   "id": "5983be6a",
   "metadata": {},
   "outputs": [
    {
     "name": "stdout",
     "output_type": "stream",
     "text": [
      "enter city : agra\n",
      "TAJ MAHAL\n"
     ]
    }
   ],
   "source": [
    "#input the city from user\n",
    "city= input(\"enter city : \") \n",
    "# criteria\n",
    "if city.upper() == \"DELHI\":\n",
    "      print (\"RED FORT\") \n",
    "elif city.upper() == \"AGRA\":\n",
    "       print(\"TAJ MAHAL\") \n",
    "elif city.upper() == \"JAIPUR\":\n",
    "    print(\"JAI MAHAL\")\n",
    "else: \n",
    "    print(\"enter valid city\")"
   ]
  },
  {
   "cell_type": "markdown",
   "id": "4bb0a342",
   "metadata": {},
   "source": [
    "#### `Question-4`.check how many times a given number can be devided by 3 before it is less then or equal to 10"
   ]
  },
  {
   "cell_type": "code",
   "execution_count": 4,
   "id": "c513aa6f",
   "metadata": {},
   "outputs": [
    {
     "name": "stdout",
     "output_type": "stream",
     "text": [
      "enter the number:900\n",
      "The number can be divided by 3 is 5 times before it is less than or equal to 10.\n"
     ]
    }
   ],
   "source": [
    "# user input\n",
    "num = int(input(\"enter the number:\"))\n",
    "# initialize the variables\n",
    "count = 0\n",
    "while num > 10:\n",
    "    num = num / 3  # check number devide by 3\n",
    "    count += 1     #increament count\n",
    "print(\"The number can be divided by 3 is\", count, \"times before it is less than or equal to 10.\") #printing the count"
   ]
  },
  {
   "cell_type": "markdown",
   "id": "12d9a21b",
   "metadata": {},
   "source": [
    "#### `Question-5`. why and when to use while loop in python give in detail discription with example"
   ]
  },
  {
   "cell_type": "markdown",
   "id": "5fc03c73",
   "metadata": {},
   "source": [
    "* The while loop in Python is used to repeatedly execute a block of code as long as a certain condition is met.\n",
    "* The condition is evaluated before each iteration of the loop, and if it's True, the loop continues to run. Once the condition is False, the loop terminates and the program continues with the next line of code after the loop.\n",
    "* example given below :"
   ]
  },
  {
   "cell_type": "code",
   "execution_count": 5,
   "id": "e890bd2e",
   "metadata": {},
   "outputs": [
    {
     "name": "stdout",
     "output_type": "stream",
     "text": [
      "10\n",
      "9\n",
      "8\n",
      "7\n",
      "6\n",
      "5\n",
      "4\n",
      "3\n",
      "2\n",
      "1\n"
     ]
    }
   ],
   "source": [
    "count = 10\n",
    "while count>0:\n",
    "    print(count)\n",
    "    count -= 1 # decrement by 1"
   ]
  },
  {
   "cell_type": "markdown",
   "id": "b8e85125",
   "metadata": {},
   "source": [
    "* another example of while loop : the while loop will keep asking the user to enter a password until the user enters the correct password. When the user enters the correct password, the loop terminates and the message \"Access granted.\" is displayed."
   ]
  },
  {
   "cell_type": "code",
   "execution_count": 6,
   "id": "e1eef236",
   "metadata": {},
   "outputs": [
    {
     "name": "stdout",
     "output_type": "stream",
     "text": [
      "enter password: secret\n",
      "access granted\n"
     ]
    }
   ],
   "source": [
    "password = \"secret\"\n",
    "input_password = \"\"\n",
    "while input_password != password:\n",
    "    input_password = input(\"enter password: \")\n",
    "print('access granted')"
   ]
  },
  {
   "cell_type": "markdown",
   "id": "4854a467",
   "metadata": {},
   "source": [
    "#### `Question-6`. Use nested while loop to print 3 different pattern "
   ]
  },
  {
   "cell_type": "code",
   "execution_count": 7,
   "id": "c54fb0be",
   "metadata": {},
   "outputs": [
    {
     "name": "stdout",
     "output_type": "stream",
     "text": [
      "Pattern-1:\n",
      "*\n",
      "**\n",
      "***\n",
      "****\n",
      "*****\n"
     ]
    }
   ],
   "source": [
    "print(\"Pattern-1:\")\n",
    "rows = 5  #initialize variable\n",
    "for i in range(rows): # for loop\n",
    "    j = 0 \n",
    "    while j <= i: # while loop\n",
    "        print(\"*\", end=\"\") # printing * without space\n",
    "        j += 1 #increment by 1\n",
    "    print(\"\") "
   ]
  },
  {
   "cell_type": "code",
   "execution_count": 8,
   "id": "25db0fed",
   "metadata": {},
   "outputs": [
    {
     "name": "stdout",
     "output_type": "stream",
     "text": [
      "Pattern-2:\n",
      "*****\n",
      "****\n",
      "***\n",
      "**\n",
      "*\n"
     ]
    }
   ],
   "source": [
    "print(\"Pattern-2:\")\n",
    "rows = 5  #initialize variable\n",
    "for i in range(rows, 0, -1):  # for loop \n",
    "    j = 0\n",
    "    while j < i:  # while loop\n",
    "        print(\"*\", end=\"\") # printing * without space\n",
    "        j += 1 #increment by 1\n",
    "    print(\"\")"
   ]
  },
  {
   "cell_type": "code",
   "execution_count": 9,
   "id": "39c6e8ed",
   "metadata": {},
   "outputs": [
    {
     "name": "stdout",
     "output_type": "stream",
     "text": [
      "Pattern-3:\n",
      "\n",
      "*\n",
      "**\n",
      "***\n",
      "****\n",
      "*****\n",
      "****\n",
      "***\n",
      "**\n",
      "*\n"
     ]
    }
   ],
   "source": [
    "print(\"Pattern-3:\")\n",
    "rows = 5\n",
    "for i in range(-rows, rows):\n",
    "    j = abs(i)\n",
    "    while j < rows:\n",
    "        print(\"*\", end=\"\")\n",
    "        j += 1\n",
    "    print(\"\")"
   ]
  },
  {
   "cell_type": "markdown",
   "id": "d7750a78",
   "metadata": {},
   "source": [
    "#### `Question-7`. reverse a while loop to display number from 10 to 1"
   ]
  },
  {
   "cell_type": "code",
   "execution_count": 10,
   "id": "19691eb7",
   "metadata": {},
   "outputs": [
    {
     "name": "stdout",
     "output_type": "stream",
     "text": [
      "10\n",
      "9\n",
      "8\n",
      "7\n",
      "6\n",
      "5\n",
      "4\n",
      "3\n",
      "2\n",
      "1\n"
     ]
    }
   ],
   "source": [
    "count = 10\n",
    "while count > 0:\n",
    "    print(count)\n",
    "    count = count - 1 # decrement by 1"
   ]
  },
  {
   "cell_type": "markdown",
   "id": "1bb6ed41",
   "metadata": {},
   "source": [
    "#### `Question-8`. reverse a while loop to display number from 1 to 10"
   ]
  },
  {
   "cell_type": "code",
   "execution_count": 11,
   "id": "a59833bf",
   "metadata": {},
   "outputs": [
    {
     "name": "stdout",
     "output_type": "stream",
     "text": [
      "1\n",
      "2\n",
      "3\n",
      "4\n",
      "5\n",
      "6\n",
      "7\n",
      "8\n",
      "9\n",
      "10\n"
     ]
    }
   ],
   "source": [
    "count = 1\n",
    "while count <= 10:\n",
    "    print(count)\n",
    "    count = count + 1 # increment by 1"
   ]
  }
 ],
 "metadata": {
  "kernelspec": {
   "display_name": "Python 3 (ipykernel)",
   "language": "python",
   "name": "python3"
  },
  "language_info": {
   "codemirror_mode": {
    "name": "ipython",
    "version": 3
   },
   "file_extension": ".py",
   "mimetype": "text/x-python",
   "name": "python",
   "nbconvert_exporter": "python",
   "pygments_lexer": "ipython3",
   "version": "3.9.13"
  }
 },
 "nbformat": 4,
 "nbformat_minor": 5
}
