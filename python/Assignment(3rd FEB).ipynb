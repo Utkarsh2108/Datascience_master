{
 "cells": [
  {
   "cell_type": "markdown",
   "id": "ea6ab86d",
   "metadata": {},
   "source": [
    "#### `Q1`. Which keyword is used to create a function? Create a function to return a list of odd numbers in the range of 1 to 25."
   ]
  },
  {
   "cell_type": "markdown",
   "id": "e52467c8",
   "metadata": {},
   "source": [
    "* The keyword used to create function is `def`. \n",
    "* List of odd number in the range of 1 to 25:"
   ]
  },
  {
   "cell_type": "code",
   "execution_count": 1,
   "id": "23413bb9",
   "metadata": {},
   "outputs": [
    {
     "data": {
      "text/plain": [
       "[1, 3, 5, 7, 9, 11, 13, 15, 17, 19, 21, 23, 25]"
      ]
     },
     "execution_count": 1,
     "metadata": {},
     "output_type": "execute_result"
    }
   ],
   "source": [
    "def odd_numbers(first,last):\n",
    "    odd_n = []\n",
    "    for i in range(first,last+1):\n",
    "        if i%2 != 0:\n",
    "            odd_n.append(i)\n",
    "    return odd_n\n",
    "odd_numbers(1,25)"
   ]
  },
  {
   "cell_type": "markdown",
   "id": "4e9871a4",
   "metadata": {},
   "source": [
    "#### `Q2`. Why *args and **kwargs is used in some functions? Create a function each for *args and **kwargs to demonstrate their use."
   ]
  },
  {
   "cell_type": "markdown",
   "id": "7be03679",
   "metadata": {},
   "source": [
    "* `*args` and `**kwargs` are used in function definitions to allow a variable number of arguments to be passed to the function.\n",
    "* `*args` is used to send a non-keyworded variable length argument list to the function , example of `*args`:\n",
    "\n"
   ]
  },
  {
   "cell_type": "code",
   "execution_count": 2,
   "id": "929feb1a",
   "metadata": {},
   "outputs": [
    {
     "name": "stdout",
     "output_type": "stream",
     "text": [
      "1\n",
      "2\n",
      "3\n",
      "4\n"
     ]
    }
   ],
   "source": [
    "def test(*args):\n",
    "    for i in args:\n",
    "        print(i)\n",
    "test(1,2,3,4)"
   ]
  },
  {
   "cell_type": "markdown",
   "id": "d3c05e90",
   "metadata": {},
   "source": [
    "`**kwargs` allows us to pass keyworded variable length of arguments to a function. It allows us to pass a keyworded, variable length argument list. For example:"
   ]
  },
  {
   "cell_type": "code",
   "execution_count": 3,
   "id": "d2df6b5a",
   "metadata": {},
   "outputs": [
    {
     "name": "stdout",
     "output_type": "stream",
     "text": [
      "name:utkarsh\n",
      "course:Datascience master\n"
     ]
    }
   ],
   "source": [
    "def test2(**kwargs):\n",
    "    for k,v in kwargs.items():\n",
    "        print(f'{k}:{v}')\n",
    "test2(name=\"utkarsh\",course=\"Datascience master\")"
   ]
  },
  {
   "cell_type": "markdown",
   "id": "6f334cc1",
   "metadata": {},
   "source": [
    "#### `Q3`. What is an iterator in python? Name the method used to initialise the iterator object and the method used for iteration. Use these methods to print the first five elements of the given list [2, 4, 6, 8, 10, 12, 14,16, 18, 20]."
   ]
  },
  {
   "cell_type": "markdown",
   "id": "89bc2a95",
   "metadata": {},
   "source": [
    "* An iterator is an object that implements the iterator protocol,this method`__iter__()` and` __next__()`. The` __iter__()` returns the iterator object itself, and the `__next__()` method returns the next value from the iterator, raising `StopIteration` when there are no more items."
   ]
  },
  {
   "cell_type": "code",
   "execution_count": 4,
   "id": "7108b5ef",
   "metadata": {},
   "outputs": [
    {
     "name": "stdout",
     "output_type": "stream",
     "text": [
      "2\n",
      "4\n",
      "6\n",
      "8\n",
      "10\n"
     ]
    }
   ],
   "source": [
    "list = [2, 4, 6, 8, 10, 12, 14,16, 18, 20]\n",
    "# initialize the ite object\n",
    "list_iter = iter(list)\n",
    "\n",
    "#us the iter object and print first five element of list\n",
    "for i in range(5):\n",
    "    print(next(list_iter))"
   ]
  },
  {
   "cell_type": "markdown",
   "id": "27408480",
   "metadata": {},
   "source": [
    "#### `Q4` What is a generator function in python? Why yield keyword is used? Give an example of a generator function."
   ]
  },
  {
   "cell_type": "markdown",
   "id": "bf2ad77e",
   "metadata": {},
   "source": [
    "* A generator function in Python is a special type of function that allows you to iterate over a potentially infinite sequence of values, one at a time. \n",
    "* The yield keyword is used in a generator function to return a value, but unlike a regular function that terminates when return is executed, a generator function can be resumed from where it left off, the next time it is called\n",
    "* here the example of generator function:"
   ]
  },
  {
   "cell_type": "code",
   "execution_count": 5,
   "id": "8f1e17c6",
   "metadata": {},
   "outputs": [
    {
     "name": "stdout",
     "output_type": "stream",
     "text": [
      "The original list is : [1, 4, 5, 6, 7]\n",
      "The even numbers in list are :  4 6 "
     ]
    }
   ],
   "source": [
    "# generator to print even numbers\n",
    "def print_even(test_list):\n",
    "    for i in test_list:\n",
    "        if i % 2 == 0:\n",
    "            yield i\n",
    "\n",
    "test_list = [1, 4, 5, 6, 7]\n",
    "\n",
    "print(\"The original list is : \" + str(test_list))\n",
    "\n",
    "print(\"The even numbers in list are : \", end=\" \")\n",
    "for j in print_even(test_list):\n",
    "    print(j, end=\" \")"
   ]
  },
  {
   "cell_type": "markdown",
   "id": "6b0b19e1",
   "metadata": {},
   "source": [
    "#### `Q5`. Create a generator function for prime numbers less than 1000. Use the next() method to print the first 20 prime numbers."
   ]
  },
  {
   "cell_type": "code",
   "execution_count": 6,
   "id": "d0ea7a41",
   "metadata": {},
   "outputs": [
    {
     "name": "stdout",
     "output_type": "stream",
     "text": [
      "2\n",
      "3\n",
      "5\n",
      "7\n",
      "11\n",
      "13\n",
      "17\n",
      "19\n",
      "23\n",
      "29\n",
      "31\n",
      "37\n",
      "41\n",
      "43\n",
      "47\n",
      "53\n",
      "59\n",
      "61\n",
      "67\n",
      "71\n"
     ]
    }
   ],
   "source": [
    "def prime_number():\n",
    "    i_prime = []\n",
    "    for k in range(2,1000):\n",
    "        for p in i_prime:\n",
    "            if k % p == 0:\n",
    "                break\n",
    "        else:\n",
    "            i_prime.append(k)\n",
    "            yield k\n",
    "            \n",
    "n = prime_number()\n",
    "for i in range(20):\n",
    "    print(next(n))"
   ]
  },
  {
   "cell_type": "markdown",
   "id": "2643f442",
   "metadata": {},
   "source": [
    "##### `Q6`.Write a python program to print the first 10 Fibonacci numbers using a while loop"
   ]
  },
  {
   "cell_type": "code",
   "execution_count": 7,
   "id": "9816bb6e",
   "metadata": {},
   "outputs": [
    {
     "name": "stdout",
     "output_type": "stream",
     "text": [
      "0\n",
      "1\n",
      "1\n",
      "2\n",
      "3\n",
      "5\n",
      "8\n",
      "13\n",
      "21\n",
      "34\n",
      "55\n"
     ]
    }
   ],
   "source": [
    "a,b = 0,1\n",
    "counter = 0\n",
    "while counter <= 10 :\n",
    "    print(a)\n",
    "    c = a+b\n",
    "    a = b\n",
    "    b = c\n",
    "    counter += 1"
   ]
  },
  {
   "cell_type": "markdown",
   "id": "2aaeb777",
   "metadata": {},
   "source": [
    "#### `Q7`. Write a List Comprehension to iterate through the given string: ‘pwskills’.\n",
    "* Expected output: ['p', 'w', 's', 'k', 'i', 'l', 'l', 's']"
   ]
  },
  {
   "cell_type": "code",
   "execution_count": 8,
   "id": "d04f95aa",
   "metadata": {},
   "outputs": [
    {
     "data": {
      "text/plain": [
       "['p', 'w', 's', 'k', 'i', 'l', 'l', 's']"
      ]
     },
     "execution_count": 8,
     "metadata": {},
     "output_type": "execute_result"
    }
   ],
   "source": [
    "[i for i in \"pwskills\"]"
   ]
  },
  {
   "cell_type": "markdown",
   "id": "71c2f86a",
   "metadata": {},
   "source": [
    "#### `Q8`. Write a python program to check whether a given number is Palindrome or not using a while loop."
   ]
  },
  {
   "cell_type": "code",
   "execution_count": 9,
   "id": "f47605d9",
   "metadata": {},
   "outputs": [
    {
     "name": "stdout",
     "output_type": "stream",
     "text": [
      "Enter a number:12321\n",
      "12321 is palindrome\n"
     ]
    }
   ],
   "source": [
    "number =input((\"Enter a number:\"))\n",
    "if(number==number[::-1]):\n",
    "      print(f\"{number} is palindrome\")\n",
    "else:\n",
    "      print(f\"{number} is not palindrome\")"
   ]
  },
  {
   "cell_type": "markdown",
   "id": "fa6df327",
   "metadata": {},
   "source": [
    "\n",
    "#### `Q9`. Write a code to print odd numbers from 1 to 100 using list comprehension.\n",
    "* Note: Use a list comprehension to create a list from 1 to 100 and use another List comprehension to filter out odd numbers."
   ]
  },
  {
   "cell_type": "code",
   "execution_count": 10,
   "id": "28017afd",
   "metadata": {},
   "outputs": [
    {
     "name": "stdout",
     "output_type": "stream",
     "text": [
      "[1, 3, 5, 7, 9, 11, 13, 15, 17, 19, 21, 23, 25, 27, 29, 31, 33, 35, 37, 39, 41, 43, 45, 47, 49, 51, 53, 55, 57, 59, 61, 63, 65, 67, 69, 71, 73, 75, 77, 79, 81, 83, 85, 87, 89, 91, 93, 95, 97, 99]\n"
     ]
    }
   ],
   "source": [
    "numbers = [num for num in range(1,101)]\n",
    "odd_numbers = [num for num in numbers if num % 2 != 0]\n",
    "print(odd_numbers)"
   ]
  }
 ],
 "metadata": {
  "kernelspec": {
   "display_name": "Python 3 (ipykernel)",
   "language": "python",
   "name": "python3"
  },
  "language_info": {
   "codemirror_mode": {
    "name": "ipython",
    "version": 3
   },
   "file_extension": ".py",
   "mimetype": "text/x-python",
   "name": "python",
   "nbconvert_exporter": "python",
   "pygments_lexer": "ipython3",
   "version": "3.9.13"
  }
 },
 "nbformat": 4,
 "nbformat_minor": 5
}
