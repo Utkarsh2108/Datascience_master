{
 "cells": [
  {
   "cell_type": "markdown",
   "id": "dc9ce6ab",
   "metadata": {},
   "source": [
    "### `Q1`. Explain Class and Object with respect to Object-Oriented Programming. Give a suitable example."
   ]
  },
  {
   "cell_type": "markdown",
   "id": "4917adb4",
   "metadata": {},
   "source": [
    "* Class : a blueprint or a template for creating objects , a class defines a set of attributes and methods that describe the properties and behaviors of objects.\n",
    "\n",
    "* Object : An object is an instance of a class and represents a real-world entity with its state and behavior. Each object has its own unique set of attribute values and can execute the methods defined in the class.\n",
    "* Example:"
   ]
  },
  {
   "cell_type": "code",
   "execution_count": 1,
   "id": "8a219cd5",
   "metadata": {},
   "outputs": [],
   "source": [
    "class student_Detail: # here created a class\n",
    "    \n",
    "    def __init__(self , roll_no , name, course_name):\n",
    "        self.roll_no = roll_no\n",
    "        self.name = name\n",
    "        self.course_name = course_name\n",
    "        \n",
    "    def return_student_details(self):\n",
    "        print(f'My name is {self.name}, roll number = {self.roll_no}, course name = {self.course_name}')"
   ]
  },
  {
   "cell_type": "code",
   "execution_count": 2,
   "id": "62a39708",
   "metadata": {},
   "outputs": [],
   "source": [
    "student1 = student_Detail('utkarsh`1`',33,'AI&Ml') # using class creating a objects \n",
    "student2 = student_Detail('kanhay',31,'Data science')"
   ]
  },
  {
   "cell_type": "code",
   "execution_count": 3,
   "id": "fd723f68",
   "metadata": {},
   "outputs": [
    {
     "name": "stdout",
     "output_type": "stream",
     "text": [
      "My name is 33, roll number = utkarsh`1`, course name = AI&Ml\n",
      "My name is 31, roll number = kanhay, course name = Data science\n"
     ]
    }
   ],
   "source": [
    "student1.return_student_details() # calling the method for printing all detail\n",
    "student2.return_student_details() "
   ]
  },
  {
   "cell_type": "markdown",
   "id": "fb9fced8",
   "metadata": {},
   "source": [
    "### `Q2`. Name the four pillars of OOPs.\n",
    "\n",
    "\n"
   ]
  },
  {
   "cell_type": "markdown",
   "id": "f4a9771b",
   "metadata": {},
   "source": [
    "1. Abstraction: Hides the implementation details and shows only the necessary information to the users. It helps to simplify complex systems and make them easier to understand.\n",
    "\n",
    "2. Inheritance: Enables a new class to inherit properties and behaviors from an existing class, making it possible to create new classes that are built upon existing ones.\n",
    "\n",
    "3. Encapsulation: Binds together code and the data it manipulates, making the code more robust and less prone to errors. Encapsulation also helps in hiding the internal state of an object from the outside world, promoting a secure and stable system.\n",
    "\n",
    "4. Polymorphism: Refers to the ability of objects to take on many forms. In OOP, polymorphism allows different objects to respond to the same method call in different ways, depending on their implementation. This enables the creation of reusable and flexible code"
   ]
  },
  {
   "cell_type": "markdown",
   "id": "60184d28",
   "metadata": {},
   "source": [
    "### `Q3`. Explain why the __init__() function is used. Give a suitable example."
   ]
  },
  {
   "cell_type": "markdown",
   "id": "6237ce24",
   "metadata": {},
   "source": [
    "* The `__init__` function is used to initialize the attributes of an object. It is a special method in Python classes that gets automatically called when an object of that class is created. The `__init__` method allows you to specify the initial values for the attributes of the object when it is created."
   ]
  },
  {
   "cell_type": "code",
   "execution_count": 4,
   "id": "18da0048",
   "metadata": {},
   "outputs": [
    {
     "name": "stdout",
     "output_type": "stream",
     "text": [
      "Hello, my name is Utkarsh\n"
     ]
    }
   ],
   "source": [
    "class Person:\n",
    "    # init method or constructor\n",
    "    def __init__(self, name):\n",
    "        self.name = name\n",
    "        \n",
    "    # Sample Method\n",
    "    def say_hi(self):\n",
    "        print('Hello, my name is', self.name)\n",
    "\n",
    "p = Person('Utkarsh')\n",
    "p.say_hi()\n"
   ]
  },
  {
   "cell_type": "markdown",
   "id": "024b23ee",
   "metadata": {},
   "source": [
    "### `Q4`. Why self is used in OOPs?"
   ]
  },
  {
   "cell_type": "markdown",
   "id": "ed7277fd",
   "metadata": {},
   "source": [
    "* self is a reference to the current object of the class.\n",
    "\n",
    "* When you define a method in a class, you use self as the first parameter to refer to the instance of the class that is calling the method. The reason for using self is to give each instance of the class its own copy of the instance variables."
   ]
  },
  {
   "cell_type": "markdown",
   "id": "ea481bdf",
   "metadata": {},
   "source": [
    "### `Q5`. What is inheritance? Give an example for each type of inheritance."
   ]
  },
  {
   "cell_type": "markdown",
   "id": "3dcca206",
   "metadata": {},
   "source": [
    "* Inheritance is defined as the mechanism of inheriting the properties of the base class to the child class.\n",
    "* Types of Inheritance depend upon the number of child and parent classes involved. There are four types of inheritance in Python:"
   ]
  },
  {
   "cell_type": "markdown",
   "id": "b31264c7",
   "metadata": {},
   "source": [
    "#### 1 .Single Inheritance: \n",
    "* Single inheritance enables a derived class to inherit properties from a single parent class, thus enabling code reusability and the addition of new features to existing code."
   ]
  },
  {
   "cell_type": "code",
   "execution_count": 5,
   "id": "a308dbfa",
   "metadata": {},
   "outputs": [
    {
     "name": "stdout",
     "output_type": "stream",
     "text": [
      "This function is in parent class.\n",
      "This function is in child class.\n"
     ]
    }
   ],
   "source": [
    "class Parent:         #base class\n",
    "    def func1(self):\n",
    "        print(\"This function is in parent class.\")\n",
    "        \n",
    "class Child(Parent):  #derive class\n",
    "    def func2(self):\n",
    "        print(\"This function is in child class.\")\n",
    "object = Child()\n",
    "object.func1()\n",
    "object.func2()"
   ]
  },
  {
   "cell_type": "markdown",
   "id": "b71af7ec",
   "metadata": {},
   "source": [
    "#### 2. Multiple Inheritance: \n",
    "* When a class can be derived from more than one base class this type of inheritance is called multiple inheritances. In multiple inheritances, all the features of the base classes are inherited into the derived class. "
   ]
  },
  {
   "cell_type": "code",
   "execution_count": 6,
   "id": "e457232b",
   "metadata": {},
   "outputs": [
    {
     "name": "stdout",
     "output_type": "stream",
     "text": [
      "Father : mom\n",
      "Mother : dad\n"
     ]
    }
   ],
   "source": [
    "class Mother:              # base class\n",
    "    mothername = \"\"\n",
    "    def mother(self):\n",
    "        print(self.mothername)\n",
    "class Father:              # base class\n",
    "    fathername = \"\"\n",
    "    def father(self):\n",
    "        print(self.fathername)\n",
    "        \n",
    "class Son(Mother, Father): # derive class\n",
    "    def parents(self):\n",
    "        print(\"Father :\", self.fathername)\n",
    "        print(\"Mother :\", self.mothername)\n",
    "s1 = Son()\n",
    "s1.fathername = \"mom\"\n",
    "s1.mothername = \"dad\"\n",
    "s1.parents()"
   ]
  },
  {
   "cell_type": "markdown",
   "id": "ee11090f",
   "metadata": {},
   "source": [
    "#### 3. Multilevel Inheritance :\n",
    "* In multilevel inheritance, features of the base class and the derived class are further inherited into the new derived class. This is similar to a relationship representing a child and a grandfather. "
   ]
  },
  {
   "cell_type": "code",
   "execution_count": 7,
   "id": "c295d5ee",
   "metadata": {},
   "outputs": [
    {
     "name": "stdout",
     "output_type": "stream",
     "text": [
      "grand father\n",
      "Grandfather name : grand father\n",
      "Father name : father\n",
      "Son name : son\n"
     ]
    }
   ],
   "source": [
    "class Grandfather:           # base class \n",
    "    def __init__(self, grandfathername):\n",
    "        self.grandfathername = grandfathername\n",
    "        \n",
    "class Father(Grandfather):  # middle class\n",
    "    def __init__(self, fathername, grandfathername):\n",
    "        self.fathername = fathername\n",
    "        Grandfather.__init__(self, grandfathername)\n",
    "\n",
    "class Son(Father):          # derive class  \n",
    "    def __init__(self, sonname, fathername, grandfathername):\n",
    "        self.sonname = sonname\n",
    "        Father.__init__(self, fathername, grandfathername)\n",
    "    \n",
    "    def print_name(self):\n",
    "        print('Grandfather name :', self.grandfathername)\n",
    "        print(\"Father name :\", self.fathername)\n",
    "        print(\"Son name :\", self.sonname)\n",
    "\n",
    "s1 = Son('son', 'father', 'grand father')\n",
    "print(s1.grandfathername)\n",
    "s1.print_name()"
   ]
  },
  {
   "cell_type": "markdown",
   "id": "b7c6196c",
   "metadata": {},
   "source": [
    "#### 4.Hierarchical Inheritance: \n",
    "* When more than one derived class are created from a single base this type of inheritance is called hierarchical inheritance. In this program, we have a parent (base) class and two child (derived) classes."
   ]
  },
  {
   "cell_type": "code",
   "execution_count": 8,
   "id": "ff017450",
   "metadata": {},
   "outputs": [
    {
     "name": "stdout",
     "output_type": "stream",
     "text": [
      "This function is in parent class.\n",
      "This function is in child 1.\n",
      "This function is in parent class.\n",
      "This function is in child 2.\n"
     ]
    }
   ],
   "source": [
    "class Parent:           # base class\n",
    "    def func1(self):\n",
    "        print(\"This function is in parent class.\")\n",
    "\n",
    "class Child1(Parent):   # derived class\n",
    "    def func2(self):\n",
    "        print(\"This function is in child 1.\")\n",
    "\n",
    "class Child2(Parent):   # derived class\n",
    "    def func3(self):\n",
    "        print(\"This function is in child 2.\")\n",
    "\n",
    "object1 = Child1()\n",
    "object2 = Child2()\n",
    "object1.func1()\n",
    "object1.func2()\n",
    "object2.func1()\n",
    "object2.func3()"
   ]
  }
 ],
 "metadata": {
  "kernelspec": {
   "display_name": "Python 3 (ipykernel)",
   "language": "python",
   "name": "python3"
  },
  "language_info": {
   "codemirror_mode": {
    "name": "ipython",
    "version": 3
   },
   "file_extension": ".py",
   "mimetype": "text/x-python",
   "name": "python",
   "nbconvert_exporter": "python",
   "pygments_lexer": "ipython3",
   "version": "3.9.13"
  }
 },
 "nbformat": 4,
 "nbformat_minor": 5
}
