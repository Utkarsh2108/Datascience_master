{
 "cells": [
  {
   "cell_type": "markdown",
   "id": "e63969fc",
   "metadata": {},
   "source": [
    "#### `Q1` Create a function which will take a list as an argument and return the product of all the numbersafter creating a flat list. Use the below-given list as an argument for your function.\n",
    "* list1 = [1,2,3,4, [44,55,66, True], False, (34,56,78,89,34), {1,2,3,3,2,1}, {1:34, \"key2\": [55, 67, 78, 89], 4: (45,22, 61, 34)}, [56, 'data science'], 'Machine Learning']\n",
    "* Note: you must extract numeric keys and values of the dictionary also."
   ]
  },
  {
   "cell_type": "code",
   "execution_count": 1,
   "id": "26987d6d",
   "metadata": {},
   "outputs": [],
   "source": [
    "list1 = [1,2,3,4, [44,55,66, True], False, (34,56,78,89,34), {1,2,3,3,2,1},\n",
    "         {1:34, \"key2\": [55, 67, 78, 89], 4: (45,22, 61, 34)}, [56, 'data science'], 'Machine Learning']"
   ]
  },
  {
   "cell_type": "code",
   "execution_count": 2,
   "id": "dea7b541",
   "metadata": {},
   "outputs": [
    {
     "name": "stdout",
     "output_type": "stream",
     "text": [
      "extracted list : [1, 2, 3, 4, 44, 55, 66, 34, 56, 78, 89, 34, 1, 34, 55, 67, 78, 89, 4, 45, 22, 61, 34, 56]\n",
      "product of the numerical values in list : 689118639831180913138973540352000\n"
     ]
    }
   ],
   "source": [
    "def product(lst):\n",
    "    new_list = []\n",
    "\n",
    "    def extract(a):\n",
    "        for i in a:\n",
    "            if type(i) == int:\n",
    "                new_list.append(i)\n",
    "            elif type(i) == float:\n",
    "                new_list.append(i)\n",
    "            elif type(i) == tuple:\n",
    "                extract(i)\n",
    "            elif type(i) == list:\n",
    "                extract(i)\n",
    "            elif type(i) == dict:\n",
    "                for k, v in i.items():\n",
    "                    if type(k) in [int, float]:\n",
    "                        new_list.append(k)\n",
    "                    if type(v) in [int, float]:\n",
    "                        new_list.append(v)\n",
    "                    elif type(v) in [list, tuple]:\n",
    "                        extract(v) \n",
    "    extract(lst)\n",
    "    print(f'extracted list : {new_list}')\n",
    "    product = 1\n",
    "    for i in new_list:\n",
    "        product *= i\n",
    "    return product\n",
    "print(f'product of the numerical values in list : {product(list1)}')"
   ]
  },
  {
   "cell_type": "markdown",
   "id": "a20e38bb",
   "metadata": {},
   "source": [
    "#### `Q2`. Write a python program for encrypting a message sent to you by your friend. The logic of encryption should be such that, for a the output should be z. For b, the output should be y. For c, the output shouldbe x respectively. Also, the whitespace should be replaced with a dollar sign. Keep the punctuationmarks unchanged.\n",
    "* Input Sentence: I want to become a Data Scientist.\n",
    "* Encrypt the above input sentence using the program you just created.\n",
    "* Note: Convert the given input sentence into lowercase before encrypting. The final output should be lowercase."
   ]
  },
  {
   "cell_type": "code",
   "execution_count": 3,
   "id": "5c1f9a15",
   "metadata": {},
   "outputs": [
    {
     "name": "stdout",
     "output_type": "stream",
     "text": [
      "Enter your massage:I want to become a Data Scientist.\n",
      "encrypted massage:r$dzmg$gl$yvxlnv$z$wzgz$hxrvmgrhg.\n"
     ]
    }
   ],
   "source": [
    "sentence = input(\"Enter your massage:\").lower()\n",
    "e_dict = {'a':'z', 'b':'y', 'c':'x', 'd':'w', 'e':'v', 'f':'u', \n",
    "          'g':'t', 'h':'s', 'i':'r', 'j':'q', 'k':'p', 'l':'o', \n",
    "          'm':'n', 'n':'m', 'o':'l', 'p':'k', 'q':'j', 'r':'i', \n",
    "          's':'h', 't':'g', 'u':'f', 'v':'e', 'w':'d', 'x':'c', 'y':'b', 'z':'a', \n",
    "          ' ':'$'}\n",
    "e_sentence = \"\"\n",
    "for i in sentence:\n",
    "    if i in e_dict:\n",
    "        e_sentence += e_dict[i]\n",
    "    else:\n",
    "        e_sentence += i       \n",
    "print(f'encrypted massage:{e_sentence}')"
   ]
  }
 ],
 "metadata": {
  "kernelspec": {
   "display_name": "Python 3 (ipykernel)",
   "language": "python",
   "name": "python3"
  },
  "language_info": {
   "codemirror_mode": {
    "name": "ipython",
    "version": 3
   },
   "file_extension": ".py",
   "mimetype": "text/x-python",
   "name": "python",
   "nbconvert_exporter": "python",
   "pygments_lexer": "ipython3",
   "version": "3.9.13"
  }
 },
 "nbformat": 4,
 "nbformat_minor": 5
}
