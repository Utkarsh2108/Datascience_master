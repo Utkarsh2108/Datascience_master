{
 "cells": [
  {
   "cell_type": "markdown",
   "id": "c2a865c4",
   "metadata": {},
   "source": [
    "### `Q1`. You are writing code for a company. The requirement of the company is that you create a pythonfunction that will check whether the password entered by the user is correct or not. The function shouldtake the password as input and return the string “Valid Password” if the entered password follows thebelow-given password guidelines else it should return “Invalid Password”.\n",
    "* Note: \n",
    "1. The Password should contain at least two uppercase letters and at least two lowercase letters.\n",
    "2. The Password should contain at least a number and three special characters.\n",
    "3. The length of the password should be 10 characters long."
   ]
  },
  {
   "cell_type": "code",
   "execution_count": 1,
   "id": "72b568bc",
   "metadata": {},
   "outputs": [
    {
     "name": "stdout",
     "output_type": "stream",
     "text": [
      "Enter password: IUHhei234@#$\n",
      "Valid Password\n"
     ]
    }
   ],
   "source": [
    "def check_password(password):\n",
    "    upper_count = 0\n",
    "    lower_count = 0\n",
    "    num_count = 0\n",
    "    special_count = 0\n",
    "    for char in password:\n",
    "        if char.isupper():\n",
    "            upper_count += 1\n",
    "        elif char.islower():\n",
    "            lower_count += 1\n",
    "        elif char.isdigit():\n",
    "            num_count += 1\n",
    "        elif char in \"!@#$%^&*\":\n",
    "            special_count += 1\n",
    "  \n",
    "    while upper_count < 2 or lower_count < 2 or num_count < 1 or special_count < 3:\n",
    "        return \"Invalid Password\"\n",
    "    if len(password) != 10:\n",
    "        return \"Valid Password\"\n",
    "    else:\n",
    "        return \"Invalid Password\"\n",
    "\n",
    "password = input(\"Enter password: \")\n",
    "result = check_password(password)\n",
    "print(result)\n"
   ]
  },
  {
   "cell_type": "markdown",
   "id": "98a494da",
   "metadata": {},
   "source": [
    "### `Q2`. Solve the below-given questions using at least one of the following:\n",
    "1. Lambda function\n",
    "2. Filter function\n",
    "3. Map function\n",
    "4. List Comprehension\n",
    "* Check if the string starts with a particular letter\n",
    "* Check if the string is numeric\n",
    "* Sort a list of tuples having fruit names and their quantity. [(\"mango\",99),(\"orange\",80), (\"grapes\", 1000)\n",
    "* Find the squares of numbers from 1 to 10\n",
    "* Find the cube root of numbers from 1 to 10\n",
    "* Check if a given number is even\n",
    "* Filter odd numbers from the given list.  [1,2,3,4,5,6,7,8,9,10]\n",
    "*  Sort a list of integers into positive and negative integers lists.  [1,2,3,4,5,6,-1,-2,-3,-4,-5,0]"
   ]
  },
  {
   "cell_type": "markdown",
   "id": "69d1eafc",
   "metadata": {},
   "source": [
    "####  1. Check if the string starts with a particular letter"
   ]
  },
  {
   "cell_type": "code",
   "execution_count": 2,
   "id": "899bed60",
   "metadata": {},
   "outputs": [
    {
     "name": "stdout",
     "output_type": "stream",
     "text": [
      "Data scince Starts with D : True\n"
     ]
    }
   ],
   "source": [
    "# using lambda function\n",
    "s = \"Data science\"\n",
    "l = \"D\"\n",
    "using_lambda_fun = lambda x:True if x.startswith(l) else False\n",
    "print(f\"Data scince Starts with D : {using_lambda_fun(s)}\")"
   ]
  },
  {
   "cell_type": "markdown",
   "id": "8dac1f26",
   "metadata": {},
   "source": [
    "#### 2.Check if the string is numeric"
   ]
  },
  {
   "cell_type": "code",
   "execution_count": 3,
   "id": "6a46ee59",
   "metadata": {},
   "outputs": [
    {
     "name": "stdout",
     "output_type": "stream",
     "text": [
      "S string is numeric : True\n"
     ]
    }
   ],
   "source": [
    "# using lambda function\n",
    "s = \"12345\"\n",
    "check_numeric = lambda x:x.isdigit()\n",
    "print(f\"S string is numeric : {check_numeric(s)}\")"
   ]
  },
  {
   "cell_type": "code",
   "execution_count": 4,
   "id": "1470dc03",
   "metadata": {
    "scrolled": true
   },
   "outputs": [
    {
     "name": "stdout",
     "output_type": "stream",
     "text": [
      "['12345', '12345a', '67890'] is string numeric : [True, False, True]\n"
     ]
    }
   ],
   "source": [
    "# using map function\n",
    "result = map(lambda x:x.isdigit(), ['12345', '12345a', '67890'])\n",
    "print(f\"['12345', '12345a', '67890'] is string numeric : {list(result)}\") "
   ]
  },
  {
   "cell_type": "code",
   "execution_count": 5,
   "id": "31142874",
   "metadata": {},
   "outputs": [
    {
     "name": "stdout",
     "output_type": "stream",
     "text": [
      "['12345', '12345a', '67890'] is string numeric : [True, False, True]\n"
     ]
    }
   ],
   "source": [
    "# using liat comprehension\n",
    "result = [x.isdigit() for x in ['12345', '12345a', '67890']]\n",
    "print(f\"['12345', '12345a', '67890'] is string numeric : {result}\")"
   ]
  },
  {
   "cell_type": "markdown",
   "id": "87d36e63",
   "metadata": {},
   "source": [
    "#### 3.Sort a list of tuples having fruit names and their quantity. [(\"mango\",99),(\"orange\",80), (\"grapes\", 1000)]"
   ]
  },
  {
   "cell_type": "code",
   "execution_count": 6,
   "id": "44cf6dec",
   "metadata": {},
   "outputs": [
    {
     "data": {
      "text/plain": [
       "[('orange', 80), ('mango', 99), ('grapes', 1000)]"
      ]
     },
     "execution_count": 6,
     "metadata": {},
     "output_type": "execute_result"
    }
   ],
   "source": [
    "# using lambda function\n",
    "f = [(\"mango\",99),(\"orange\",80), (\"grapes\", 1000)]\n",
    "sorted(f, key=lambda x:x[1])"
   ]
  },
  {
   "cell_type": "code",
   "execution_count": 7,
   "id": "fcbfcde5",
   "metadata": {},
   "outputs": [
    {
     "name": "stdout",
     "output_type": "stream",
     "text": [
      "[('orange', 80), ('mango', 99), ('grapes', 1000)]\n"
     ]
    }
   ],
   "source": [
    "# using liat comprehension \n",
    "fruit = [f for f in sorted(f, key=lambda x: x[1])]\n",
    "print(fruit)"
   ]
  },
  {
   "cell_type": "markdown",
   "id": "21283ae5",
   "metadata": {},
   "source": [
    "#### 4.Find the squares of numbers from 1 to 10"
   ]
  },
  {
   "cell_type": "code",
   "execution_count": 8,
   "id": "f185b50a",
   "metadata": {},
   "outputs": [
    {
     "name": "stdout",
     "output_type": "stream",
     "text": [
      "[1, 4, 9, 16, 25, 36, 49, 64, 81, 100]\n"
     ]
    }
   ],
   "source": [
    "# using map and lambda function\n",
    "square = map(lambda x: x**2, range(1,11))\n",
    "print(list(square))"
   ]
  },
  {
   "cell_type": "code",
   "execution_count": 9,
   "id": "2eca4815",
   "metadata": {},
   "outputs": [
    {
     "name": "stdout",
     "output_type": "stream",
     "text": [
      "[1, 4, 9, 16, 25, 36, 49, 64, 81, 100]\n"
     ]
    }
   ],
   "source": [
    "# using list comprehension \n",
    "square = [x**2 for x in range(1, 11)]\n",
    "print(square)"
   ]
  },
  {
   "cell_type": "markdown",
   "id": "80d979d4",
   "metadata": {},
   "source": [
    "#### 5.Find the cube root of numbers from 1 to 10"
   ]
  },
  {
   "cell_type": "code",
   "execution_count": 10,
   "id": "9e27e1ab",
   "metadata": {},
   "outputs": [],
   "source": [
    "import math"
   ]
  },
  {
   "cell_type": "code",
   "execution_count": 11,
   "id": "8ef10bb4",
   "metadata": {},
   "outputs": [
    {
     "name": "stdout",
     "output_type": "stream",
     "text": [
      "[1.0, 1.2599210498948732, 1.4422495703074083, 1.5874010519681994, 1.7099759466766968, 1.8171205928321397, 1.912931182772389, 2.0, 2.080083823051904, 2.154434690031884]\n"
     ]
    }
   ],
   "source": [
    "# using map function\n",
    "cube_root = map(lambda x: math.pow(x,1/3), range(1,11))\n",
    "print(list(cube_root))"
   ]
  },
  {
   "cell_type": "code",
   "execution_count": 12,
   "id": "3872a650",
   "metadata": {},
   "outputs": [
    {
     "name": "stdout",
     "output_type": "stream",
     "text": [
      "[1.0, 1.2599210498948732, 1.4422495703074083, 1.5874010519681994, 1.7099759466766968, 1.8171205928321397, 1.912931182772389, 2.0, 2.080083823051904, 2.154434690031884]\n"
     ]
    }
   ],
   "source": [
    "# using list comprehension \n",
    "c_root = [math.pow(x,1/3) for x in range(1,11)]\n",
    "print(c_root) "
   ]
  },
  {
   "cell_type": "markdown",
   "id": "d0ec4042",
   "metadata": {},
   "source": [
    "#### 6.Check if a given number is even"
   ]
  },
  {
   "cell_type": "code",
   "execution_count": 13,
   "id": "cdb27639",
   "metadata": {},
   "outputs": [
    {
     "name": "stdout",
     "output_type": "stream",
     "text": [
      "True\n",
      "False\n"
     ]
    }
   ],
   "source": [
    "# using lamda function\n",
    "check_even = lambda x: x%2 == 0\n",
    "print(check_even(2)) \n",
    "print(check_even(3))  "
   ]
  },
  {
   "cell_type": "code",
   "execution_count": 14,
   "id": "7be859c9",
   "metadata": {},
   "outputs": [
    {
     "name": "stdout",
     "output_type": "stream",
     "text": [
      "[1, 2, 3, 4, 5, 6, 7, 8, 9, 10] is even number : [False, True, False, True, False, True, False, True, False, True]\n"
     ]
    }
   ],
   "source": [
    "# using map fucntion\n",
    "even = map(lambda x: x%2==0, range(1,11))\n",
    "print(f\"{list(range(1,11))} is even number : {list(even)}\")"
   ]
  },
  {
   "cell_type": "code",
   "execution_count": 15,
   "id": "61600fa6",
   "metadata": {},
   "outputs": [
    {
     "name": "stdout",
     "output_type": "stream",
     "text": [
      "[2, 4, 6, 8, 10]\n"
     ]
    }
   ],
   "source": [
    "# using fliter function\n",
    "result = filter(lambda x: x%2==0, range(1,11))\n",
    "print(list(result)) "
   ]
  },
  {
   "cell_type": "code",
   "execution_count": 16,
   "id": "fd19b1ad",
   "metadata": {},
   "outputs": [
    {
     "name": "stdout",
     "output_type": "stream",
     "text": [
      "[1, 2, 3, 4, 5, 6, 7, 8, 9, 10] is even number : [False, True, False, True, False, True, False, True, False, True]\n"
     ]
    }
   ],
   "source": [
    "# using list comprehension \n",
    "e_even = [ x%2==0 for x in range(1,11)]\n",
    "print(f\"{list(range(1,11))} is even number : {list(e_even)}\")"
   ]
  },
  {
   "cell_type": "markdown",
   "id": "ade8ec3b",
   "metadata": {},
   "source": [
    "#### 7.Filter odd numbers from the given list. [1,2,3,4,5,6,7,8,9,10]"
   ]
  },
  {
   "cell_type": "code",
   "execution_count": 17,
   "id": "ce0d09f4",
   "metadata": {},
   "outputs": [
    {
     "name": "stdout",
     "output_type": "stream",
     "text": [
      "[1, 3, 5, 7, 9]\n"
     ]
    }
   ],
   "source": [
    "# using filter function \n",
    "result = filter(lambda x: x%2!=0, range(1,11))\n",
    "print(list(result))"
   ]
  },
  {
   "cell_type": "markdown",
   "id": "e366020c",
   "metadata": {},
   "source": [
    "#### 8.Sort a list of integers into positive and negative integers lists. [1,2,3,4,5,6,-1,-2,-3,-4,-5,0]"
   ]
  },
  {
   "cell_type": "code",
   "execution_count": 18,
   "id": "7774d718",
   "metadata": {},
   "outputs": [
    {
     "name": "stdout",
     "output_type": "stream",
     "text": [
      "The original list is : [1, 2, 3, 4, 5, 6, -1, -2, -3, -4, -5, 0]\n",
      "Result after performing sort operation : [1, 2, 3, 4, 5, 6, 0, -5, -4, -3, -2, -1]\n",
      "Positive numebrs : [1, 2, 3, 4, 5, 6]\n",
      "Negetive numebrs : [-1, -2, -3, -4, -5]\n"
     ]
    }
   ],
   "source": [
    "# using list comprehension \n",
    "list =[1,2,3,4,5,6,-1,-2,-3,-4,-5,0]\n",
    "print(\"The original list is : \" + str(list))\n",
    "\n",
    "res = sorted(list, key = lambda i: 0 if i == 0 else -1 / i)\n",
    "print(\"Result after performing sort operation : \" + str(res))\n",
    "\n",
    "p_numbers = [x for x in list if x > 0]\n",
    "n_numbers = [x for x in list if x < 0]\n",
    "print(f\"Positive numebrs : {p_numbers}\")\n",
    "print(f\"Negetive numebrs : {n_numbers}\")"
   ]
  }
 ],
 "metadata": {
  "kernelspec": {
   "display_name": "Python 3 (ipykernel)",
   "language": "python",
   "name": "python3"
  },
  "language_info": {
   "codemirror_mode": {
    "name": "ipython",
    "version": 3
   },
   "file_extension": ".py",
   "mimetype": "text/x-python",
   "name": "python",
   "nbconvert_exporter": "python",
   "pygments_lexer": "ipython3",
   "version": "3.9.13"
  }
 },
 "nbformat": 4,
 "nbformat_minor": 5
}
