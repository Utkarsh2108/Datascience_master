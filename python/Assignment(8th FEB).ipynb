{
 "cells": [
  {
   "cell_type": "markdown",
   "id": "0a2f5805",
   "metadata": {},
   "source": [
    "### `Q1`. What is Abstraction in OOps? Explain with an example."
   ]
  },
  {
   "cell_type": "markdown",
   "id": "36bfbdea",
   "metadata": {},
   "source": [
    "* Abstraction is refers to the process of hiding the implementation details of an object and exposing only the necessary information to the outside world. The idea behind abstraction is to provide a higher-level interface to a complex system, making it easier to use and understand.\n",
    "* example : abstraction could be a class that represents a bank account. The class might have methods for deposit and withdrawal, but the implementation details of how these actions are performed (such as updates to a database) are hidden from the user. The user only sees the interface to the bank account, which allows them to perform transactions without having to worry about the underlying implementation."
   ]
  },
  {
   "cell_type": "code",
   "execution_count": 13,
   "id": "9b35cf7b",
   "metadata": {},
   "outputs": [],
   "source": [
    "class BankAccount:\n",
    "    def __init__(self, balance): # hide from the user \n",
    "        self.__balance = balance\n",
    "    \n",
    "    def deposit(self, amount):   # user can deposite amount \n",
    "        self.__balance += amount\n",
    "        \n",
    "    def withdraw(self, amount):  # user can withdrow amount\n",
    "        if amount > self.__balance:\n",
    "            return \"Insufficient balance\"\n",
    "        self.__balance -= amount\n",
    "        \n",
    "    def get_balance(self):       # user can check balance in account\n",
    "        return self.__balance"
   ]
  },
  {
   "cell_type": "code",
   "execution_count": 14,
   "id": "66e3813d",
   "metadata": {},
   "outputs": [
    {
     "data": {
      "text/plain": [
       "1100"
      ]
     },
     "execution_count": 14,
     "metadata": {},
     "output_type": "execute_result"
    }
   ],
   "source": [
    "utkarsh = BankAccount(1000)\n",
    "utkarsh.deposit(100) #deposide in account\n",
    "utkarsh.get_balance()"
   ]
  },
  {
   "cell_type": "code",
   "execution_count": 15,
   "id": "d08352e6",
   "metadata": {},
   "outputs": [
    {
     "data": {
      "text/plain": [
       "1000"
      ]
     },
     "execution_count": 15,
     "metadata": {},
     "output_type": "execute_result"
    }
   ],
   "source": [
    "utkarsh.withdraw(100) #withdraw in account\n",
    "utkarsh.get_balance()"
   ]
  },
  {
   "cell_type": "markdown",
   "id": "eeb1222a",
   "metadata": {},
   "source": [
    "* in simple words, the user is only aware of the `deposit`, `withdraw`, and `get_balance` methods. The implementation details, such as the variable that holds the account balance, are hidden from the user and only accessible through the methods provided."
   ]
  },
  {
   "cell_type": "markdown",
   "id": "4a3e7320",
   "metadata": {},
   "source": [
    "### `Q2`. Differentiate between Abstraction and Encapsulation. Explain with an example."
   ]
  },
  {
   "cell_type": "markdown",
   "id": "9bb00014",
   "metadata": {},
   "source": [
    "* Abstraction and encapsulation are two fundamental concepts in object-oriented programming (OOP) that are often used together to create well-structured, maintainable software systems.\n",
    "\n",
    "* Abstraction refers to the process of hiding the complexity of a system and presenting a simplified interface to the user. The goal of abstraction is to reduce the amount of information that the user needs to understand in order to use a particular object or system, making it easier to use and understand.\n",
    "\n",
    "* Encapsulation is the process of wrapping data and functions into a single unit or object, such that the internal state of the object can only be manipulated through its public interface. Encapsulation provides a way to protect the data of an object from accidental modification or corruption, and also enables the implementation of an object to change without affecting the code that uses the object.\n",
    "\n",
    "* <b> Example of Abraction and Encapsulation :"
   ]
  },
  {
   "cell_type": "code",
   "execution_count": 8,
   "id": "fdb5c462",
   "metadata": {},
   "outputs": [],
   "source": [
    "class Television:\n",
    "    def __init__(self, channel, volume):\n",
    "        self.__channel = channel\n",
    "        self.__volume = volume\n",
    "\n",
    "    def change_channel(self, channel):\n",
    "        if 0 < channel < 100:\n",
    "            self.__channel = channel\n",
    "        else:\n",
    "            print(\"Invalid channel\")\n",
    "\n",
    "    def increase_volume(self, volume):\n",
    "        if 0 <= self.__volume + volume <= 100:\n",
    "            self.__volume += volume\n",
    "        else:\n",
    "            print(\"Volume out of range\")\n",
    "\n",
    "    def decrease_volume(self, volume):\n",
    "        if 0 <= self.__volume - volume <= 100:\n",
    "            self.__volume -= volume\n",
    "        else:\n",
    "            print(\"Volume out of range\")\n",
    "\n",
    "    def get_channel(self):\n",
    "        return self.__channel\n",
    "\n",
    "    def get_volume(self):\n",
    "        return self.__volume"
   ]
  },
  {
   "cell_type": "markdown",
   "id": "d288ded6",
   "metadata": {},
   "source": [
    "* This is an example of abstraction and encapsulation\n",
    "* The Television class hidden methods for changing the channel and adjusting the volume, The user of the class doesn't need to know how these methods are implemented, they just need to know what they do this called a abraction\n",
    "* The implementation details of the Television class, such as the channel and volume attributes, are hidden from the outside world , They can only be accessed and modified through the provided methods is called encapsulation "
   ]
  },
  {
   "cell_type": "markdown",
   "id": "e0b36e33",
   "metadata": {},
   "source": [
    "#### `Q3`. What is abc module in python? Why is it used?"
   ]
  },
  {
   "cell_type": "markdown",
   "id": "588acede",
   "metadata": {},
   "source": [
    "* The abc module in Python is the Abstract Base Class module. It provides a way to define abstract base classes in Python, which are classes that cannot be instantiated but can be used as a base class for other classes.\n",
    "\n",
    "* It is used to ensure that a certain set of methods and properties are defined in any concrete class that inherits from the abstract base class. This is useful for creating a common interface for a group of related classes, and for making sure that these classes have certain methods or properties that are required for their intended use."
   ]
  },
  {
   "cell_type": "markdown",
   "id": "f3bf3cdb",
   "metadata": {},
   "source": [
    "#### `Q4`. How can we achieve data abstraction?"
   ]
  },
  {
   "cell_type": "markdown",
   "id": "b01f55d7",
   "metadata": {},
   "source": [
    "* Data abstraction can be achieved in several ways, including the following:\n",
    "\n",
    "* Abstraction through Encapsulation: Wrapping data and the operations that can be performed on the data inside an object or class, thus hiding the implementation details.\n",
    "\n",
    "* Abstraction through Interfaces: Defining a set of methods that an object or class must implement, without specifying the implementation details.\n",
    "\n",
    "* Abstraction through Abstract Classes: A class that can't be instantiated and must be subclassed, providing a base implementation for subclasses to build upon.\n",
    "\n",
    "* Abstraction through Modules: Dividing a large system into smaller, more manageable components that can be abstracted behind a well-defined interface.\n",
    "\n",
    "* These techniques allow to define the essential characteristics of data structures and algorithms, and hide the details that are not essential for users of these structures and algorithms."
   ]
  },
  {
   "cell_type": "markdown",
   "id": "40bb06cf",
   "metadata": {},
   "source": [
    "#### `Q5`. Can we create an instance of an abstract class? Explain your answer."
   ]
  },
  {
   "cell_type": "markdown",
   "id": "b50f7034",
   "metadata": {},
   "source": [
    "* No, we cannot create an instance of an abstract class. An abstract class is a class that contains abstract methods, which are methods without an implementation. These methods are meant to be implemented by subclasses. The purpose of an abstract class is to provide a common interface for its subclasses, but it cannot be instantiated on its own."
   ]
  },
  {
   "cell_type": "code",
   "execution_count": null,
   "id": "8efa4068",
   "metadata": {},
   "outputs": [],
   "source": [
    "from abc import ABC, abstractmethod\n",
    "\n",
    "class Vehicle(ABC):\n",
    "    @abstractmethod\n",
    "    def num_wheels(self):\n",
    "        pass\n",
    "\n",
    "class Car(Vehicle):\n",
    "    def num_wheels(self):\n",
    "        return 4\n",
    "\n",
    "# create an instance of class (a subclass of an abstract class)\n",
    "car = Car()\n",
    "print(car.num_wheels()) # Output: 4\n",
    "\n",
    "# can NOT create an instance of an abstract class\n",
    "vehicle = Vehicle() # Raises TypeError: Can't instantiate abstract class Vehicle with abstract methods num_wheels"
   ]
  }
 ],
 "metadata": {
  "kernelspec": {
   "display_name": "Python 3 (ipykernel)",
   "language": "python",
   "name": "python3"
  },
  "language_info": {
   "codemirror_mode": {
    "name": "ipython",
    "version": 3
   },
   "file_extension": ".py",
   "mimetype": "text/x-python",
   "name": "python",
   "nbconvert_exporter": "python",
   "pygments_lexer": "ipython3",
   "version": "3.9.13"
  }
 },
 "nbformat": 4,
 "nbformat_minor": 5
}
