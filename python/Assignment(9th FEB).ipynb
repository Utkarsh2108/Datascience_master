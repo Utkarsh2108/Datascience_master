{
 "cells": [
  {
   "cell_type": "markdown",
   "id": "213724ad",
   "metadata": {},
   "source": [
    "### `Q1`.Create a vehicle class with an init method having instance variables as name_of_vehicle, max_speed and average_of_vehicle.\n"
   ]
  },
  {
   "cell_type": "markdown",
   "id": "0f442745",
   "metadata": {},
   "source": [
    "* here the creating class `vehicle` using  `__init__`:"
   ]
  },
  {
   "cell_type": "code",
   "execution_count": 1,
   "id": "b987db71",
   "metadata": {},
   "outputs": [
    {
     "name": "stdout",
     "output_type": "stream",
     "text": [
      "Name of the car :BMW\n",
      "car speed :200\n",
      "avarage of the car :20\n"
     ]
    }
   ],
   "source": [
    "class vehicle:\n",
    "    def __init__(self, name_of_vehicle, max_speed, average_of_vehicle):\n",
    "        self.name_of_vehicle = name_of_vehicle\n",
    "        self.max_speed = max_speed\n",
    "        self.average_of_vehicle = average_of_vehicle\n",
    "car = vehicle(\"BMW\",200,20)\n",
    "print(f\"Name of the car :{car.name_of_vehicle}\")\n",
    "print(f\"car speed :{car.max_speed}\")\n",
    "print(f\"avarage of the car :{car.average_of_vehicle}\")"
   ]
  },
  {
   "cell_type": "markdown",
   "id": "08773731",
   "metadata": {},
   "source": [
    "### `Q2`. Create a child class car from the vehicle class created in Que 1, which will inherit the vehicle class.Create a method named seating_capacity which takes capacity as an argument and returns the name of the vehicle and its seating capacity.\n"
   ]
  },
  {
   "cell_type": "code",
   "execution_count": 2,
   "id": "bc5889c0",
   "metadata": {},
   "outputs": [
    {
     "name": "stdout",
     "output_type": "stream",
     "text": [
      "The vehicle BMW has a seating capacity of 4.\n"
     ]
    }
   ],
   "source": [
    "class car(vehicle):\n",
    "    def seating_capacity(self, capacity):\n",
    "        return f\"The vehicle {self.name_of_vehicle} has a seating capacity of {capacity}.\"\n",
    "car = car(\"BMW\",200,20)\n",
    "print(car.seating_capacity(4))"
   ]
  },
  {
   "cell_type": "markdown",
   "id": "fcd83915",
   "metadata": {},
   "source": [
    "### `Q3`. What is multiple inheritance? Write a python code to demonstrate multiple inheritance."
   ]
  },
  {
   "cell_type": "markdown",
   "id": "b6c93e30",
   "metadata": {},
   "source": [
    "* Multiple inheritance is a feature in object-oriented programming where a class can inherit characteristics and behaviors from multiple parent classes. Instead of inheriting from just one base class, a class can inherit from multiple base classes.\n",
    "\n",
    "* in simple words, When a class can be derived from more than one base class this type of inheritance is called multiple inheritances. In multiple inheritances, all the features of the base classes are inherited into the derived class.\n",
    "\n",
    "* example of multiple inheritance :"
   ]
  },
  {
   "cell_type": "code",
   "execution_count": 3,
   "id": "da76edf3",
   "metadata": {},
   "outputs": [
    {
     "name": "stdout",
     "output_type": "stream",
     "text": [
      "Father : mom\n",
      "Mother : dad\n"
     ]
    }
   ],
   "source": [
    "class Mother:              # base class\n",
    "    mothername = \"\"\n",
    "    def mother(self):\n",
    "        print(self.mothername)\n",
    "class Father:              # base class\n",
    "    fathername = \"\"\n",
    "    def father(self):\n",
    "        print(self.fathername)\n",
    "        \n",
    "class Son(Mother, Father): # derive class\n",
    "    def parents(self):\n",
    "        print(\"Father :\", self.fathername)\n",
    "        print(\"Mother :\", self.mothername)\n",
    "s1 = Son()\n",
    "s1.fathername = \"mom\"\n",
    "s1.mothername = \"dad\"\n",
    "s1.parents()"
   ]
  },
  {
   "cell_type": "markdown",
   "id": "8e363d6b",
   "metadata": {},
   "source": [
    "### `Q4`.What are getter and setter in python? Create a class and create a getter and a setter method in this class."
   ]
  },
  {
   "cell_type": "markdown",
   "id": "0d1c07fb",
   "metadata": {},
   "source": [
    "* Basically, the main purpose of using getters and setters in oops is to ensure data encapsulation. Private variables in python are not actually hidden fields like in other object oriented languages. Getters and Setters in python are often used when:\n",
    "     * We use getters & setters to add validation logic around getting and setting a value.\n",
    "     * To avoid direct access of a class field i.e. private variables cannot be accessed directly or modified by external user.\n",
    "* <B> Using normal function to achieve getters and setters behaviour :"
   ]
  },
  {
   "cell_type": "code",
   "execution_count": 4,
   "id": "4a4d5652",
   "metadata": {},
   "outputs": [
    {
     "name": "stdout",
     "output_type": "stream",
     "text": [
      "21\n",
      "21\n"
     ]
    }
   ],
   "source": [
    "class Age:\n",
    "    def __init__(self, age = 0):\n",
    "        self._age = age\n",
    "        \n",
    "    def get_age(self):       # getter method\n",
    "        return self._age\n",
    "    \n",
    "    def set_age(self, x):    # setter method\n",
    "        self._age = x\n",
    "\n",
    "utkarsh = Age() \n",
    "utkarsh.set_age(21)  # setting the age using setter\n",
    "\n",
    "print(utkarsh.get_age()) # retrieving age using getter\n",
    "print(utkarsh._age)"
   ]
  },
  {
   "cell_type": "markdown",
   "id": "fc752709",
   "metadata": {},
   "source": [
    "* <b> Using property() function to achieve getters and setters behaviour:</b>\n",
    "* property() : \n",
    "     *  a built-in function that creates and returns a property object\n",
    "     *   this function has four arguments property(fget, fset, fdel, doc),\n",
    "     *   fget is a function for retrieving an attribute value.\n",
    "     *   fset is a function for setting an attribute value. \n",
    "     *   fdel is a function for deleting an attribute value. \n",
    "     *   doc creates a docstring for attribute. \n",
    "              "
   ]
  },
  {
   "cell_type": "code",
   "execution_count": 5,
   "id": "560d5fd4",
   "metadata": {},
   "outputs": [
    {
     "name": "stdout",
     "output_type": "stream",
     "text": [
      "setter method called\n",
      "getter method called\n",
      "10\n"
     ]
    }
   ],
   "source": [
    "class Age1:\n",
    "    def __init__(self):\n",
    "        self._age = 0\n",
    "\n",
    "    def get_age(self):    # getter method\n",
    "        print(\"getter method called\")\n",
    "        return self._age\n",
    "\n",
    "    def set_age(self, a): # setter method\n",
    "        print(\"setter method called\")\n",
    "        self._age = a\n",
    "        \n",
    "    def del_age(self):   # function to delete _age attribute\n",
    "        del self._age\n",
    "\n",
    "    age = property(get_age, set_age, del_age)\n",
    "\n",
    "mark = Age1()\n",
    "\n",
    "mark.age = 10\n",
    "print(mark.age)"
   ]
  },
  {
   "cell_type": "markdown",
   "id": "15fe7479",
   "metadata": {},
   "source": [
    "### `Q5`.What is method overriding in python? Write a python code to demonstrate method overriding."
   ]
  },
  {
   "cell_type": "markdown",
   "id": "f5a4ecaa",
   "metadata": {},
   "source": [
    "* Method overriding is a feature of Object-oriented programming that enables you to change the behavior of inherited methods as per our specific needs. Here, the method in a derived class has the same name and the same number of arguments as the base class.\n",
    "\n",
    "* Base class's method is called overridden method and the derived class method is called overriding method.\n"
   ]
  },
  {
   "cell_type": "code",
   "execution_count": 6,
   "id": "279bfbe5",
   "metadata": {},
   "outputs": [
    {
     "name": "stdout",
     "output_type": "stream",
     "text": [
      "Bark\n",
      "Meow\n"
     ]
    }
   ],
   "source": [
    "class animal:\n",
    "    def sound(self):\n",
    "        print(\"Animal makes a sound\")\n",
    "\n",
    "class dog(animal):\n",
    "    def sound(self):\n",
    "        print(\"Bark\")\n",
    "\n",
    "class cat(animal):     #here the method overriding \n",
    "    def sound(self):\n",
    "        print(\"Meow\")\n",
    "\n",
    "dog = dog()\n",
    "dog.sound()\n",
    "\n",
    "cat = cat()\n",
    "cat.sound()"
   ]
  }
 ],
 "metadata": {
  "kernelspec": {
   "display_name": "Python 3 (ipykernel)",
   "language": "python",
   "name": "python3"
  },
  "language_info": {
   "codemirror_mode": {
    "name": "ipython",
    "version": 3
   },
   "file_extension": ".py",
   "mimetype": "text/x-python",
   "name": "python",
   "nbconvert_exporter": "python",
   "pygments_lexer": "ipython3",
   "version": "3.9.13"
  }
 },
 "nbformat": 4,
 "nbformat_minor": 5
}
