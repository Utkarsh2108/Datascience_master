{
 "cells": [
  {
   "cell_type": "markdown",
   "id": "077e727b",
   "metadata": {},
   "source": [
    "### `Q1`. what is multithreading in python? why is it used? Name the module used to handle threads in python."
   ]
  },
  {
   "cell_type": "markdown",
   "id": "6fddc3aa",
   "metadata": {},
   "source": [
    "- Multithreading in Python is a technique used to execute multiple threads or parts of a program simultaneously to improve performance and increase efficiency. In other words, multithreading allows different parts of a program to be executed independently, which can make it faster and more responsive.\n",
    "- Multithreading is used in Python for a variety of tasks, such as processing large amounts of data, performing multiple tasks simultaneously, and handling network connections. It can be particularly useful for tasks that require a lot of processing power, such as data analysis or machine learning.\n",
    "- The threading module is used to handle threads in Python. It provides a simple way to create and manage threads in a program. With this module, you can create new threads, start and stop them, and manage communication between them. It also provides tools for synchronization, such as locks and semaphores, which can be used to prevent threads from accessing the same data simultaneously.\n",
    "- The module used to handle threads in Python is called `threading`. It provides a way to create and manage threads, as well as tools for synchronization and communication between threads."
   ]
  },
  {
   "cell_type": "markdown",
   "id": "8fc563f7",
   "metadata": {},
   "source": [
    "### `Q2`.why threading module used? rite the use of the following functions\n",
    "1. activeCount()\n",
    "2. currentThread()\n",
    "3. enumerate()"
   ]
  },
  {
   "cell_type": "markdown",
   "id": "e916414a",
   "metadata": {},
   "source": [
    "- The threading module is used in Python to create and manage threads in a program. It provides a simple way to create and manage threads, allowing different parts of the program to be executed independently, which can improve performance and increase efficiency. The threading module provides tools for synchronization, such as locks and semaphores, which can be used to prevent threads from accessing the same data simultaneously.\n",
    "\n",
    "  `1. activeCount()` \n",
    "   - This function is used to get the number of active threads in a program. It returns the number of thread objects that are currently alive. This function can be useful for debugging and monitoring purposes.\n",
    "\n",
    "  `2. currentThread()`\n",
    "  - This function is used to get a reference to the current thread object. It returns a Thread object representing the current thread of execution. This function can be used to access and manipulate the properties of the current thread.\n",
    "\n",
    "  `3. enumerate()`\n",
    "  - This function is used to get a list of all thread objects in the current program. It returns a list of all Thread objects that are currently alive. This function can be useful for debugging and monitoring purposes, as well as for managing and controlling the execution of multiple threads.\n",
    "\n",
    "\n",
    "\n",
    "\n"
   ]
  },
  {
   "cell_type": "markdown",
   "id": "5896da5a",
   "metadata": {},
   "source": [
    "### `Q3`.Explain the following functions\n",
    "1. run()\n",
    "2. start()\n",
    "3. join()\n",
    "4. isAlive()"
   ]
  },
  {
   "cell_type": "markdown",
   "id": "33948b89",
   "metadata": {},
   "source": [
    "#### `1.run()`:\n",
    "- The run() function is used to define the behavior of a thread when it is started. This function is called when the thread's start() function is called. The run() function should be overridden in a custom thread class to define the behavior of the thread.\n",
    "\n",
    "#### `2.start()`:\n",
    "- The start() function is used to start a new thread. When the start() function is called, the run() function of the thread is executed in a separate thread. If the thread has already been started, calling start() again will have no effect.\n",
    "\n",
    "#### `3.join()`:\n",
    "- The join() function is used to wait for a thread to complete before continuing with the rest of the program. When the join() function is called, the program will block until the thread has finished executing. If a timeout value is provided, the program will wait for the thread to finish for the specified amount of time before continuing.\n",
    "\n",
    "#### `4.isAlive()`:\n",
    "- The isAlive() function is used to check if a thread is still running. This function returns True if the thread is still running and False otherwise."
   ]
  },
  {
   "cell_type": "code",
   "execution_count": 1,
   "id": "64ebd4a8",
   "metadata": {},
   "outputs": [
    {
     "name": "stdout",
     "output_type": "stream",
     "text": [
      "Starting Thread-5\n",
      "Starting Thread-6\n",
      "Starting Thread-7\n",
      "Starting Thread-8\n",
      "Starting Thread-9\n",
      "ExitingExiting Thread-8\n",
      "Exiting Thread-5\n",
      "Exiting Thread-7\n",
      " Thread-9\n",
      "Exiting Thread-6\n",
      "All threads have finished\n"
     ]
    }
   ],
   "source": [
    "import threading\n",
    "import time\n",
    "\n",
    "class MyThread(threading.Thread):\n",
    "    def run(self):\n",
    "        print(\"Starting\", self.name)\n",
    "        time.sleep(2)\n",
    "        print(\"Exiting\", self.name)\n",
    "\n",
    "def main():\n",
    "    threads = []\n",
    "    for i in range(5):\n",
    "        t = MyThread()\n",
    "        threads.append(t)\n",
    "        t.start()\n",
    "\n",
    "    for t in threads:\n",
    "        t.join()\n",
    "\n",
    "    print(\"All threads have finished\")\n",
    "\n",
    "if __name__ == '__main__':\n",
    "    main()\n"
   ]
  },
  {
   "cell_type": "markdown",
   "id": "67c3bdfd",
   "metadata": {},
   "source": [
    "- custom thread class MyThread that defines the behavior of the thread in the `run()` function. We then create 5 instances of this class, start them, and wait for them to finish using the `join()` function. Finally, we print a message indicating that all threads have finished."
   ]
  },
  {
   "cell_type": "markdown",
   "id": "9bd23b23",
   "metadata": {},
   "source": [
    "### `Q4`.Write a python program to create two threads. Thread one must print the list of squares and thread two must print the list of cubes"
   ]
  },
  {
   "cell_type": "code",
   "execution_count": 2,
   "id": "c7198c4e",
   "metadata": {
    "scrolled": false
   },
   "outputs": [
    {
     "name": "stdout",
     "output_type": "stream",
     "text": [
      "Square of 1 is 1\n",
      "Square of 2 is 4\n",
      "Square of 3 is 9\n",
      "Square of 4 is 16\n",
      "Square of 5 is 25\n",
      "Square of 6 is 36\n",
      "Square of 7 is 49\n",
      "Square of 8 is 64\n",
      "Square of 9 is 81\n",
      "Square of 10 is 100\n",
      "Cube of 1 is 1\n",
      "Cube of 2 is 8\n",
      "Cube of 3 is 27\n",
      "Cube of 4 is 64\n",
      "Cube of 5 is 125\n",
      "Cube of 6 is 216\n",
      "Cube of 7 is 343\n",
      "Cube of 8 is 512\n",
      "Cube of 9 is 729\n",
      "Cube of 10 is 1000\n",
      "Finished\n"
     ]
    }
   ],
   "source": [
    "import threading\n",
    "\n",
    "def squares():\n",
    "    for i in range(1, 11):\n",
    "        print(f\"Square of {i} is {i**2}\")\n",
    "\n",
    "def cubes():\n",
    "    for i in range(1, 11):\n",
    "        print(f\"Cube of {i} is {i**3}\")\n",
    "\n",
    "if __name__ == '__main__':\n",
    "    t1 = threading.Thread(target=squares)\n",
    "    t2 = threading.Thread(target=cubes)\n",
    "\n",
    "    t1.start()\n",
    "    t2.start()\n",
    "\n",
    "    t1.join()\n",
    "    t2.join()\n",
    "\n",
    "    print(\"Finished\")"
   ]
  },
  {
   "cell_type": "markdown",
   "id": "718fb48d",
   "metadata": {},
   "source": [
    "### `Q5`. State advantages and disadvantages of multithreading"
   ]
  },
  {
   "cell_type": "markdown",
   "id": "2dfe1c29",
   "metadata": {},
   "source": [
    "#### Advantages of multithreading:\n",
    "\n",
    "- Improved performance by allowing multiple tasks to be executed simultaneously on different threads.\n",
    "- Better resource utilization by allowing idle threads to execute other tasks while waiting for I/O or other blocking operations.\n",
    "- Easier to implement and manage complex applications by breaking down tasks into smaller units and executing them in parallel.\n",
    "\n",
    "#### Disadvantages of multithreading:\n",
    "\n",
    "- Increased complexity in programming and debugging due to potential race conditions and synchronization issues.\n",
    "- Difficulty in managing shared resources, leading to potential deadlocks and other issues.\n",
    "- Increased memory usage and potential for resource contention due to multiple threads competing for shared resources.\n",
    "- Difficulty in predicting and controlling thread execution, leading to potential performance issues and instability."
   ]
  },
  {
   "cell_type": "markdown",
   "id": "7159421a",
   "metadata": {},
   "source": [
    "### `Q6`. Explain deadlocks and race conditions."
   ]
  },
  {
   "cell_type": "markdown",
   "id": "dfcd5eca",
   "metadata": {},
   "source": [
    "- Deadlocks and race conditions are two common problems that can occur in concurrent programming.\n",
    "\n",
    "#### `Deadlocks` : \n",
    "* A deadlock occurs when two or more processes or threads are waiting for each other to release resources they need to complete their tasks. \n",
    "* this results in a situation where none of the processes can continue and the system becomes stuck. \n",
    "* Deadlocks can occur when resources are not properly managed, when locking mechanisms are not properly implemented, or when there are programming errors that prevent the release of resources.\n",
    "\n",
    "#### `Race condition ` :\n",
    "- A race condition occurs when two or more processes or threads access a shared resource at the same time and the order of execution affects the outcome of the program. \n",
    "- This can lead to unpredictable behavior and errors in the program. \n",
    "- Race conditions can occur when shared resources are not properly protected, when different processes or threads are not synchronized properly, or when there are programming errors that cause the order of execution to be unpredictable.\n",
    "\n",
    "\n",
    "  - Both deadlocks and race conditions can be difficult to diagnose and fix, and they can lead to serious problems in the functioning of the system. Proper design, testing, and implementation can help prevent these issues from occurring. "
   ]
  }
 ],
 "metadata": {
  "kernelspec": {
   "display_name": "Python 3 (ipykernel)",
   "language": "python",
   "name": "python3"
  },
  "language_info": {
   "codemirror_mode": {
    "name": "ipython",
    "version": 3
   },
   "file_extension": ".py",
   "mimetype": "text/x-python",
   "name": "python",
   "nbconvert_exporter": "python",
   "pygments_lexer": "ipython3",
   "version": "3.9.13"
  }
 },
 "nbformat": 4,
 "nbformat_minor": 5
}
