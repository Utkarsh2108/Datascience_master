{
  "nbformat": 4,
  "nbformat_minor": 0,
  "metadata": {
    "colab": {
      "provenance": []
    },
    "kernelspec": {
      "name": "python3",
      "display_name": "Python 3"
    },
    "language_info": {
      "name": "python"
    }
  },
  "cells": [
    {
      "cell_type": "markdown",
      "source": [
        "###`Q1`: What are the Probability Mass Function (PMF) and Probability Density Function (PDF)? Explain with an example.\n",
        "\n",
        "\n"
      ],
      "metadata": {
        "id": "uaobBm0qrnod"
      }
    },
    {
      "cell_type": "markdown",
      "source": [
        "1. Probability Mass Function (PMF):\n",
        "* The PMF is a function that maps each possible value of a discrete random variable to its probability of occurrence. It represents the probability that a random variable takes a certain value. The sum of probabilities of all possible values of the random variable is equal to 1. The PMF is defined as:\n",
        "\n",
        "> PMF(x) = P(X = x)\n",
        "\n",
        "* where X is a random variable, x is a possible value that X can take, and P(X = x) is the probability that X takes the value x.\n",
        "\n",
        "* Example: Consider the roll of a fair six-sided die. The possible values that the die can take are 1, 2, 3, 4, 5, and 6, each with a probability of 1/6. The PMF of the random variable X, which represents the number on the top face of the die, is:\n",
        "\n",
        "> PMF(1) = 1/6, PMF(2) = 1/6, PMF(3) = 1/6, PMF(4) = 1/6, PMF(5) = 1/6, PMF(6) = 1/6\n",
        "\n",
        "2. Probability Density Function (PDF):\n",
        "* PDF is a function that describes the probability density of a continuous random variable. It represents the probability that a random variable falls within a certain range of values. The area under the curve of the PDF between any two points represents the probability that the random variable falls within that range. The integral of the PDF over the entire domain is equal to 1. The PDF is defined as:\n",
        "\n",
        "> PDF(x) = dF(x)/dx\n",
        "\n",
        "* Example: Consider a normal distribution with a mean of 0 and a standard deviation of 1. The PDF of the random variable X, which represents the values that X can take, is:\n",
        "\n",
        "> PDF(x) = 1/(sqrt(2pi)) exp(-(x^2)/2)"
      ],
      "metadata": {
        "id": "_TaiyIlY7TwF"
      }
    },
    {
      "cell_type": "markdown",
      "source": [
        "###`Q2`: What is Cumulative Density Function (CDF)? Explain with an example. Why CDF is used?\n"
      ],
      "metadata": {
        "id": "GNc81k7urrk1"
      }
    },
    {
      "cell_type": "markdown",
      "source": [
        "* Cumulative Density Function (CDF) is a mathematical function that provides the probability of a random variable X taking a value less than or equal to a given value x. It is defined as the integral of the Probability Density Function (PDF) of X from negative infinity to x, for continuous random variables or the sum of PMF of X from negative infinity to x for discrete random variables.\n",
        "\n",
        "* In other words, the CDF gives us the probability of X being less than or equal to x, which is a cumulative probability.\n",
        "\n",
        "* For example, let's consider a random variable X that follows a uniform distribution between 0 and 1. The PDF of X is a constant value of 1 between 0 and 1 and 0 elsewhere. The CDF of X is obtained by integrating the PDF of X:\n",
        "\n",
        "> F(x) = ∫(0 to x) 1 dx = x, for 0<=x<=1\n",
        "\n",
        "> For x<0, F(x) = 0, and for x>1, F(x) = 1.\n",
        "\n",
        "* This means that the probability of X being less than or equal to 0.5 is F(0.5) = 0.5, and the probability of X being less than or equal to 0.8 is F(0.8) = 0.8.\n",
        "\n",
        "* CDF is used to answer questions like \"what is the probability of X being less than or equal to a specific value?\" It is also used to calculate other important quantities, such as percentiles, which can be used to describe the distribution of the random variable. Additionally, CDF is useful in hypothesis testing and confidence interval estimation."
      ],
      "metadata": {
        "id": "qNrIAszR7UTm"
      }
    },
    {
      "cell_type": "markdown",
      "source": [
        "###`Q3`: What are some examples of situations where the normal distribution might be used as a model?Explain how the parameters of the normal distribution relate to the shape of the distribution.\n"
      ],
      "metadata": {
        "id": "SY7SPC9yr29X"
      }
    },
    {
      "cell_type": "markdown",
      "source": [
        "* The normal distribution is a probability distribution that is commonly used to model continuous random variables that have a symmetrical bell-shaped distribution. Here are some examples of situations where the normal distribution might be used as a model:\n",
        "\n",
        "1. Height of people: The height of people in a population is a continuous variable that often follows a normal distribution.\n",
        "\n",
        "2. Test scores: The scores on standardized tests such as the SAT or GRE often follow a normal distribution.\n",
        "\n",
        "3. Errors in measurements: Errors in measurements often follow a normal distribution, which is why the normal distribution is commonly used in statistical process control.\n",
        "\n",
        "* The normal distribution is characterized by two parameters: **mean (μ)** and **standard deviation (σ)**. The mean is the central point of the distribution and represents the expected value of the variable.\n",
        "\n",
        "* The mean μ determines the center of the distribution, while the standard deviation σ determines the width of the distribution. A smaller standard deviation indicates a narrow distribution, while a larger standard deviation indicates a wider distribution. The shape of the normal distribution is symmetrical around the mean, with 68% of the data falling within one standard deviation of the mean, 95% falling within two standard deviations, and 99.7% falling within three standard deviations"
      ],
      "metadata": {
        "id": "E9afXu89AztW"
      }
    },
    {
      "cell_type": "markdown",
      "source": [
        "### `Q4`: Explain the importance of Normal Distribution. Give a few real-life examples of NormalDistribution.\n"
      ],
      "metadata": {
        "id": "3Gr5c-Mor4tz"
      }
    },
    {
      "cell_type": "markdown",
      "source": [
        "* The importance of the normal distribution can be explained as follows:\n",
        "\n",
        "1. **Many natural phenomena follow a normal distribution:** The normal distribution is observed in many natural phenomena, such as the heights and weights of a population, the measurement errors in laboratory experiments, the test scores of students, the time taken to complete a task, and many more.\n",
        "\n",
        "2. **Statistical inference:** The normal distribution is used extensively in statistical inference, which involves drawing conclusions about a population based on a sample of data. Many statistical tests, such as the t-test and ANOVA, assume that the data follow a normal distribution.\n",
        "\n",
        "3. **Central limit theorem:** The central limit theorem states that the sum of a large number of independent and identically distributed random variables will tend to a normal distribution, regardless of the distribution of the individual variables. This property makes the normal distribution a fundamental concept in probability theory and statistics.\n",
        "\n",
        "* Some real-life examples of the normal distribution are:\n",
        "\n",
        "* Heights of adults: The heights of adults in a population follow a normal distribution, with a mean of around 5 feet 7 inches and a standard deviation of around 3 inches.\n",
        "* *Test scores: The scores on a standardized test, such as the SAT or GRE, follow a normal distribution, with a mean of around 500-600 and a standard deviation of around 100-200.\n",
        "* Body temperature: The body temperature of a healthy human follows a normal distribution, with a mean of around 98.6 degrees Fahrenheit and a standard deviation of around 0.5 degrees.\n",
        "* IQ scores: The IQ scores of a population follow a normal distribution, with a mean of 100 and a standard deviation of 15.\n",
        "* Stock market returns: The daily returns on the stock market follow a normal distribution, with a mean of around 0 and a standard deviation of around 1-2%"
      ],
      "metadata": {
        "id": "ZG2eeDeCB6Tq"
      }
    },
    {
      "cell_type": "markdown",
      "source": [
        "###`Q5`: What is Bernaulli Distribution? Give an Example. What is the difference between BernoulliDistribution and Binomial Distribution?\n"
      ],
      "metadata": {
        "id": "jpeSBygSsBdF"
      }
    },
    {
      "cell_type": "markdown",
      "source": [
        "* The Bernoulli distribution is a discrete probability distribution that models the outcome of a single binary event. It takes a single parameter p, which represents the probability of success for the event, and outputs a probability distribution for the event's outcomes.\n",
        "\n",
        "* Example: Consider flipping a fair coin. The Bernoulli distribution models this as a binary event where the outcome is either heads or tails. If we define \"success\" as getting heads, then the probability of success is 0.5, and the probability of failure (getting tails) is also 0.5. The Bernoulli distribution would output a probability distribution where the probability of success is 0.5 and the probability of failure is 0.5.\n",
        "\n",
        "* The key difference between the Bernoulli distribution and the binomial distribution is that the Bernoulli distribution models the outcome of a single event, while the binomial distribution models the number of successes in a fixed number of independent and identical Bernoulli trials. In other words, the binomial distribution is the sum of multiple independent Bernoulli random variables."
      ],
      "metadata": {
        "id": "b0MVVSVQCeXP"
      }
    },
    {
      "cell_type": "markdown",
      "source": [
        "###`Q6`. Consider a dataset with a mean of 50 and a standard deviation of 10. If we assume that the datasetis normally distributed, what is the probability that a randomly selected observation will be greaterthan 60? Use the appropriate formula and show your calculations.\n"
      ],
      "metadata": {
        "id": "ycOnm17wsDwK"
      }
    },
    {
      "cell_type": "markdown",
      "source": [
        "* Given, Mean (μ) = 50, Standard Deviation (σ) = 10, and we want to find the probability of a randomly selected observation being greater than 60.\n",
        "\n",
        "* We can use the standard normal distribution formula to calculate this probability:\n",
        "\n",
        "  > z = (x - μ) / σ\n",
        "\n",
        "* where x is the value we want to find the probability for, μ is the mean, and σ is the standard deviation.\n",
        "\n",
        "* Substituting the values in the formula, we get:\n",
        "\n",
        "  > z = (60 - 50) / 10 = 1\n",
        "\n",
        "* We can now use a standard normal distribution table or calculator to find the probability that z is greater than 1.\n",
        "\n",
        "* Using a standard normal distribution table, we find that the probability of z being greater than 1 is 0.1587.\n",
        "\n",
        "* Therefore, the probability that a randomly selected observation from this dataset is greater than 60 is 0.1587 or 15.87%."
      ],
      "metadata": {
        "id": "9cP_RE4ECmtj"
      }
    },
    {
      "cell_type": "markdown",
      "source": [
        "###`Q7`: Explain uniform Distribution with an example.\n"
      ],
      "metadata": {
        "id": "7JxRsFQbsFI7"
      }
    },
    {
      "cell_type": "markdown",
      "source": [],
      "metadata": {
        "id": "q1xtJaihCzdU"
      }
    },
    {
      "cell_type": "markdown",
      "source": [
        "### `Q8`: What is the z score? State the importance of the z score.\n"
      ],
      "metadata": {
        "id": "tFlPq62SsHQN"
      }
    },
    {
      "cell_type": "markdown",
      "source": [
        "* Uniform distribution, also known as a rectangular distribution, is a probability distribution where all possible outcomes are equally likely to occur. It is often used in statistics to model situations where each outcome is equally likely to occur, such as rolling a fair die or picking a card from a well-shuffled deck.\n",
        "\n",
        "* Example:\n",
        "  * Rolling a fair six-sided die: When rolling the die, each face has an equal probability of showing up, which is 1/6 or approximately 0.1667. This means that any number between 1 and 6 is equally likely to be rolled, and the probability of rolling any particular number is 1/6.\n",
        "\n",
        "  * In the above examples, the probability density function of the uniform distribution is constant over the entire range of possible outcomes. That is, the probability of any particular outcome is proportional to the size of the range of possible outcomes."
      ],
      "metadata": {
        "id": "5gBDb0hhCyOc"
      }
    },
    {
      "cell_type": "markdown",
      "source": [
        "###`Q9`: What is Central Limit Theorem? State the significance of the Central Limit Theorem.\n"
      ],
      "metadata": {
        "id": "aJ7XKvzZsJIC"
      }
    },
    {
      "cell_type": "markdown",
      "source": [
        "* The Central Limit Theorem (CLT) is a fundamental concept in probability theory and statistics that states that the distribution of the sum or the average of a large number of independent and identically distributed random variables  tends to follow a normal distribution as the sample size increases.\n",
        "\n",
        "* In other words, the CLT states that if we take multiple random samples of a fixed size from a population with any distribution and calculate the mean or sum of each sample, then the distribution of these means or sums will approach a normal distribution as the sample size increases.\n",
        "\n",
        "* The significance of the CLT is that it allows us to make statistical inferences about population parameters based on samples. Specifically, it provides a way to estimate the population mean and standard deviation from a sample mean and standard deviation, respectively. Additionally, it allows us to construct confidence intervals and conduct hypothesis tests."
      ],
      "metadata": {
        "id": "YS-roPHCCxzn"
      }
    },
    {
      "cell_type": "markdown",
      "source": [
        "### `Q10`: State the assumptions of the Central Limit Theorem."
      ],
      "metadata": {
        "id": "CsucJlm1sKEz"
      }
    },
    {
      "cell_type": "markdown",
      "source": [
        "The assumptions of the Central Limit Theorem are:\n",
        "\n",
        "1. **Independence:** The observations in the sample are independent of each other, meaning that the outcome of one observation does not influence the outcome of another observation.\n",
        "2. **Sample size:** The sample size is sufficiently large. The larger the sample size, the better the approximation to the normal distribution.\n",
        "Identically distributed: The sample data comes from a population that has a \n",
        "3. **well-defined mean and variance** : The observations in the sample are identically distributed, meaning that they come from the same population.\n",
        "4. F**inite variance:** The population has a finite variance. This assumption ensures that the sample variance is also finite.\n",
        "5. Non-skewed population distribution: The population distribution is not strongly skewed. A strongly skewed population distribution can affect the validity of the Central Limit Theorem, and a larger sample size may be required to approximate a normal distribution."
      ],
      "metadata": {
        "id": "2xgUy-NRCxY-"
      }
    }
  ]
}