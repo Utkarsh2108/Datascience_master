{
  "nbformat": 4,
  "nbformat_minor": 0,
  "metadata": {
    "colab": {
      "provenance": []
    },
    "kernelspec": {
      "name": "python3",
      "display_name": "Python 3"
    },
    "language_info": {
      "name": "python"
    }
  },
  "cells": [
    {
      "cell_type": "markdown",
      "source": [
        "### `Q1`: How can you create a Bokeh plot using Python code?\n"
      ],
      "metadata": {
        "id": "KNY09yfBlbFc"
      }
    },
    {
      "cell_type": "markdown",
      "source": [
        "\n",
        "\n",
        "1. We start by importing the necessary libraries, including figure and output_file from bokeh.plotting, and show from bokeh.io."
      ],
      "metadata": {
        "id": "PJo7facdLTMo"
      }
    },
    {
      "cell_type": "code",
      "execution_count": null,
      "metadata": {
        "id": "9k3G9kL4lN-t"
      },
      "outputs": [],
      "source": [
        "import bokeh.io\n",
        "import bokeh.plotting\n",
        "bokeh.io.output_notebook()"
      ]
    },
    {
      "cell_type": "code",
      "source": [
        "from bokeh.plotting import figure, output_file, show"
      ],
      "metadata": {
        "id": "7i6lrznel0H8"
      },
      "execution_count": null,
      "outputs": []
    },
    {
      "cell_type": "markdown",
      "source": [
        "2. Next, we create some data for our plot, in this case two lists of numbers x and y."
      ],
      "metadata": {
        "id": "MXaT_jysl4ld"
      }
    },
    {
      "cell_type": "code",
      "source": [
        "x = [1, 2, 3, 4, 5]\n",
        "y = [6, 7, 2, 4, 5]"
      ],
      "metadata": {
        "id": "FK5RFmzZl2rT"
      },
      "execution_count": null,
      "outputs": []
    },
    {
      "cell_type": "markdown",
      "source": [
        "3. We then create an output file for our plot using the output_file function, specifying the name and file type of the output file."
      ],
      "metadata": {
        "id": "4pEp8-DomCUQ"
      }
    },
    {
      "cell_type": "code",
      "source": [
        "output_file(\"bokeh_plot.html\")"
      ],
      "metadata": {
        "id": "qHX5QHmUl_o9"
      },
      "execution_count": null,
      "outputs": []
    },
    {
      "cell_type": "markdown",
      "source": [
        "4. We then create a new figure object p with a title and labels for the x and y axes."
      ],
      "metadata": {
        "id": "yhWr2rP8mXJC"
      }
    },
    {
      "cell_type": "code",
      "source": [
        "p = figure(title=\"Bokeh Line Plot\", x_axis_label='x', y_axis_label='y')"
      ],
      "metadata": {
        "id": "69vk3YsqmFJm"
      },
      "execution_count": null,
      "outputs": []
    },
    {
      "cell_type": "markdown",
      "source": [
        "5. Finally, we add a line to the figure using the line method of the figure object, passing in the x and y data, a label for the legend, and specifying the line width."
      ],
      "metadata": {
        "id": "Z_BSTgddmGIm"
      }
    },
    {
      "cell_type": "code",
      "source": [
        "p.line(x, y, legend_label=\"Line 1\", line_width=2)"
      ],
      "metadata": {
        "colab": {
          "base_uri": "https://localhost:8080/",
          "height": 34
        },
        "id": "EXZrUQ_ymNht",
        "outputId": "7aa88d1c-99a2-46aa-cc09-a516e358feee"
      },
      "execution_count": null,
      "outputs": [
        {
          "output_type": "execute_result",
          "data": {
            "text/plain": [
              "GlyphRenderer(id='1039', ...)"
            ],
            "text/html": [
              "<div style=\"display: table;\"><div style=\"display: table-row;\"><div style=\"display: table-cell;\"><b title=\"bokeh.models.renderers.GlyphRenderer\">GlyphRenderer</b>(</div><div style=\"display: table-cell;\">id&nbsp;=&nbsp;'1039', <span id=\"1054\" style=\"cursor: pointer;\">&hellip;)</span></div></div><div class=\"1053\" style=\"display: none;\"><div style=\"display: table-cell;\"></div><div style=\"display: table-cell;\">coordinates&nbsp;=&nbsp;None,</div></div><div class=\"1053\" style=\"display: none;\"><div style=\"display: table-cell;\"></div><div style=\"display: table-cell;\">data_source&nbsp;=&nbsp;ColumnDataSource(id='1035', ...),</div></div><div class=\"1053\" style=\"display: none;\"><div style=\"display: table-cell;\"></div><div style=\"display: table-cell;\">glyph&nbsp;=&nbsp;Line(id='1036', ...),</div></div><div class=\"1053\" style=\"display: none;\"><div style=\"display: table-cell;\"></div><div style=\"display: table-cell;\">group&nbsp;=&nbsp;None,</div></div><div class=\"1053\" style=\"display: none;\"><div style=\"display: table-cell;\"></div><div style=\"display: table-cell;\">hover_glyph&nbsp;=&nbsp;None,</div></div><div class=\"1053\" style=\"display: none;\"><div style=\"display: table-cell;\"></div><div style=\"display: table-cell;\">js_event_callbacks&nbsp;=&nbsp;{},</div></div><div class=\"1053\" style=\"display: none;\"><div style=\"display: table-cell;\"></div><div style=\"display: table-cell;\">js_property_callbacks&nbsp;=&nbsp;{},</div></div><div class=\"1053\" style=\"display: none;\"><div style=\"display: table-cell;\"></div><div style=\"display: table-cell;\">level&nbsp;=&nbsp;'glyph',</div></div><div class=\"1053\" style=\"display: none;\"><div style=\"display: table-cell;\"></div><div style=\"display: table-cell;\">muted&nbsp;=&nbsp;False,</div></div><div class=\"1053\" style=\"display: none;\"><div style=\"display: table-cell;\"></div><div style=\"display: table-cell;\">muted_glyph&nbsp;=&nbsp;Line(id='1038', ...),</div></div><div class=\"1053\" style=\"display: none;\"><div style=\"display: table-cell;\"></div><div style=\"display: table-cell;\">name&nbsp;=&nbsp;None,</div></div><div class=\"1053\" style=\"display: none;\"><div style=\"display: table-cell;\"></div><div style=\"display: table-cell;\">nonselection_glyph&nbsp;=&nbsp;Line(id='1037', ...),</div></div><div class=\"1053\" style=\"display: none;\"><div style=\"display: table-cell;\"></div><div style=\"display: table-cell;\">selection_glyph&nbsp;=&nbsp;'auto',</div></div><div class=\"1053\" style=\"display: none;\"><div style=\"display: table-cell;\"></div><div style=\"display: table-cell;\">subscribed_events&nbsp;=&nbsp;[],</div></div><div class=\"1053\" style=\"display: none;\"><div style=\"display: table-cell;\"></div><div style=\"display: table-cell;\">syncable&nbsp;=&nbsp;True,</div></div><div class=\"1053\" style=\"display: none;\"><div style=\"display: table-cell;\"></div><div style=\"display: table-cell;\">tags&nbsp;=&nbsp;[],</div></div><div class=\"1053\" style=\"display: none;\"><div style=\"display: table-cell;\"></div><div style=\"display: table-cell;\">view&nbsp;=&nbsp;CDSView(id='1040', ...),</div></div><div class=\"1053\" style=\"display: none;\"><div style=\"display: table-cell;\"></div><div style=\"display: table-cell;\">visible&nbsp;=&nbsp;True,</div></div><div class=\"1053\" style=\"display: none;\"><div style=\"display: table-cell;\"></div><div style=\"display: table-cell;\">x_range_name&nbsp;=&nbsp;'default',</div></div><div class=\"1053\" style=\"display: none;\"><div style=\"display: table-cell;\"></div><div style=\"display: table-cell;\">y_range_name&nbsp;=&nbsp;'default')</div></div></div>\n",
              "<script>\n",
              "(function() {\n",
              "  let expanded = false;\n",
              "  const ellipsis = document.getElementById(\"1054\");\n",
              "  ellipsis.addEventListener(\"click\", function() {\n",
              "    const rows = document.getElementsByClassName(\"1053\");\n",
              "    for (let i = 0; i < rows.length; i++) {\n",
              "      const el = rows[i];\n",
              "      el.style.display = expanded ? \"none\" : \"table-row\";\n",
              "    }\n",
              "    ellipsis.innerHTML = expanded ? \"&hellip;)\" : \"&lsaquo;&lsaquo;&lsaquo;\";\n",
              "    expanded = !expanded;\n",
              "  });\n",
              "})();\n",
              "</script>\n"
            ]
          },
          "metadata": {},
          "execution_count": 6
        }
      ]
    },
    {
      "cell_type": "markdown",
      "source": [
        "6. We then show the plot using the show function."
      ],
      "metadata": {
        "id": "XesniJ4dmkW6"
      }
    },
    {
      "cell_type": "code",
      "source": [
        "show(p)"
      ],
      "metadata": {
        "colab": {
          "base_uri": "https://localhost:8080/",
          "height": 617
        },
        "id": "bzbsZY9qmdQg",
        "outputId": "1f6b950c-ca53-467b-cf57-4d659bf6d468"
      },
      "execution_count": null,
      "outputs": [
        {
          "output_type": "display_data",
          "data": {
            "application/javascript": [
              "(function(root) {\n",
              "  function now() {\n",
              "    return new Date();\n",
              "  }\n",
              "\n",
              "  const force = true;\n",
              "\n",
              "  if (typeof root._bokeh_onload_callbacks === \"undefined\" || force === true) {\n",
              "    root._bokeh_onload_callbacks = [];\n",
              "    root._bokeh_is_loading = undefined;\n",
              "  }\n",
              "\n",
              "const JS_MIME_TYPE = 'application/javascript';\n",
              "  const HTML_MIME_TYPE = 'text/html';\n",
              "  const EXEC_MIME_TYPE = 'application/vnd.bokehjs_exec.v0+json';\n",
              "  const CLASS_NAME = 'output_bokeh rendered_html';\n",
              "\n",
              "  /**\n",
              "   * Render data to the DOM node\n",
              "   */\n",
              "  function render(props, node) {\n",
              "    const script = document.createElement(\"script\");\n",
              "    node.appendChild(script);\n",
              "  }\n",
              "\n",
              "  /**\n",
              "   * Handle when an output is cleared or removed\n",
              "   */\n",
              "  function handleClearOutput(event, handle) {\n",
              "    const cell = handle.cell;\n",
              "\n",
              "    const id = cell.output_area._bokeh_element_id;\n",
              "    const server_id = cell.output_area._bokeh_server_id;\n",
              "    // Clean up Bokeh references\n",
              "    if (id != null && id in Bokeh.index) {\n",
              "      Bokeh.index[id].model.document.clear();\n",
              "      delete Bokeh.index[id];\n",
              "    }\n",
              "\n",
              "    if (server_id !== undefined) {\n",
              "      // Clean up Bokeh references\n",
              "      const cmd_clean = \"from bokeh.io.state import curstate; print(curstate().uuid_to_server['\" + server_id + \"'].get_sessions()[0].document.roots[0]._id)\";\n",
              "      cell.notebook.kernel.execute(cmd_clean, {\n",
              "        iopub: {\n",
              "          output: function(msg) {\n",
              "            const id = msg.content.text.trim();\n",
              "            if (id in Bokeh.index) {\n",
              "              Bokeh.index[id].model.document.clear();\n",
              "              delete Bokeh.index[id];\n",
              "            }\n",
              "          }\n",
              "        }\n",
              "      });\n",
              "      // Destroy server and session\n",
              "      const cmd_destroy = \"import bokeh.io.notebook as ion; ion.destroy_server('\" + server_id + \"')\";\n",
              "      cell.notebook.kernel.execute(cmd_destroy);\n",
              "    }\n",
              "  }\n",
              "\n",
              "  /**\n",
              "   * Handle when a new output is added\n",
              "   */\n",
              "  function handleAddOutput(event, handle) {\n",
              "    const output_area = handle.output_area;\n",
              "    const output = handle.output;\n",
              "\n",
              "    // limit handleAddOutput to display_data with EXEC_MIME_TYPE content only\n",
              "    if ((output.output_type != \"display_data\") || (!Object.prototype.hasOwnProperty.call(output.data, EXEC_MIME_TYPE))) {\n",
              "      return\n",
              "    }\n",
              "\n",
              "    const toinsert = output_area.element.find(\".\" + CLASS_NAME.split(' ')[0]);\n",
              "\n",
              "    if (output.metadata[EXEC_MIME_TYPE][\"id\"] !== undefined) {\n",
              "      toinsert[toinsert.length - 1].firstChild.textContent = output.data[JS_MIME_TYPE];\n",
              "      // store reference to embed id on output_area\n",
              "      output_area._bokeh_element_id = output.metadata[EXEC_MIME_TYPE][\"id\"];\n",
              "    }\n",
              "    if (output.metadata[EXEC_MIME_TYPE][\"server_id\"] !== undefined) {\n",
              "      const bk_div = document.createElement(\"div\");\n",
              "      bk_div.innerHTML = output.data[HTML_MIME_TYPE];\n",
              "      const script_attrs = bk_div.children[0].attributes;\n",
              "      for (let i = 0; i < script_attrs.length; i++) {\n",
              "        toinsert[toinsert.length - 1].firstChild.setAttribute(script_attrs[i].name, script_attrs[i].value);\n",
              "        toinsert[toinsert.length - 1].firstChild.textContent = bk_div.children[0].textContent\n",
              "      }\n",
              "      // store reference to server id on output_area\n",
              "      output_area._bokeh_server_id = output.metadata[EXEC_MIME_TYPE][\"server_id\"];\n",
              "    }\n",
              "  }\n",
              "\n",
              "  function register_renderer(events, OutputArea) {\n",
              "\n",
              "    function append_mime(data, metadata, element) {\n",
              "      // create a DOM node to render to\n",
              "      const toinsert = this.create_output_subarea(\n",
              "        metadata,\n",
              "        CLASS_NAME,\n",
              "        EXEC_MIME_TYPE\n",
              "      );\n",
              "      this.keyboard_manager.register_events(toinsert);\n",
              "      // Render to node\n",
              "      const props = {data: data, metadata: metadata[EXEC_MIME_TYPE]};\n",
              "      render(props, toinsert[toinsert.length - 1]);\n",
              "      element.append(toinsert);\n",
              "      return toinsert\n",
              "    }\n",
              "\n",
              "    /* Handle when an output is cleared or removed */\n",
              "    events.on('clear_output.CodeCell', handleClearOutput);\n",
              "    events.on('delete.Cell', handleClearOutput);\n",
              "\n",
              "    /* Handle when a new output is added */\n",
              "    events.on('output_added.OutputArea', handleAddOutput);\n",
              "\n",
              "    /**\n",
              "     * Register the mime type and append_mime function with output_area\n",
              "     */\n",
              "    OutputArea.prototype.register_mime_type(EXEC_MIME_TYPE, append_mime, {\n",
              "      /* Is output safe? */\n",
              "      safe: true,\n",
              "      /* Index of renderer in `output_area.display_order` */\n",
              "      index: 0\n",
              "    });\n",
              "  }\n",
              "\n",
              "  // register the mime type if in Jupyter Notebook environment and previously unregistered\n",
              "  if (root.Jupyter !== undefined) {\n",
              "    const events = require('base/js/events');\n",
              "    const OutputArea = require('notebook/js/outputarea').OutputArea;\n",
              "\n",
              "    if (OutputArea.prototype.mime_types().indexOf(EXEC_MIME_TYPE) == -1) {\n",
              "      register_renderer(events, OutputArea);\n",
              "    }\n",
              "  }\n",
              "  if (typeof (root._bokeh_timeout) === \"undefined\" || force === true) {\n",
              "    root._bokeh_timeout = Date.now() + 5000;\n",
              "    root._bokeh_failed_load = false;\n",
              "  }\n",
              "\n",
              "  const NB_LOAD_WARNING = {'data': {'text/html':\n",
              "     \"<div style='background-color: #fdd'>\\n\"+\n",
              "     \"<p>\\n\"+\n",
              "     \"BokehJS does not appear to have successfully loaded. If loading BokehJS from CDN, this \\n\"+\n",
              "     \"may be due to a slow or bad network connection. Possible fixes:\\n\"+\n",
              "     \"</p>\\n\"+\n",
              "     \"<ul>\\n\"+\n",
              "     \"<li>re-rerun `output_notebook()` to attempt to load from CDN again, or</li>\\n\"+\n",
              "     \"<li>use INLINE resources instead, as so:</li>\\n\"+\n",
              "     \"</ul>\\n\"+\n",
              "     \"<code>\\n\"+\n",
              "     \"from bokeh.resources import INLINE\\n\"+\n",
              "     \"output_notebook(resources=INLINE)\\n\"+\n",
              "     \"</code>\\n\"+\n",
              "     \"</div>\"}};\n",
              "\n",
              "  function display_loaded() {\n",
              "    const el = document.getElementById(null);\n",
              "    if (el != null) {\n",
              "      el.textContent = \"BokehJS is loading...\";\n",
              "    }\n",
              "    if (root.Bokeh !== undefined) {\n",
              "      if (el != null) {\n",
              "        el.textContent = \"BokehJS \" + root.Bokeh.version + \" successfully loaded.\";\n",
              "      }\n",
              "    } else if (Date.now() < root._bokeh_timeout) {\n",
              "      setTimeout(display_loaded, 100)\n",
              "    }\n",
              "  }\n",
              "\n",
              "  function run_callbacks() {\n",
              "    try {\n",
              "      root._bokeh_onload_callbacks.forEach(function(callback) {\n",
              "        if (callback != null)\n",
              "          callback();\n",
              "      });\n",
              "    } finally {\n",
              "      delete root._bokeh_onload_callbacks\n",
              "    }\n",
              "    console.debug(\"Bokeh: all callbacks have finished\");\n",
              "  }\n",
              "\n",
              "  function load_libs(css_urls, js_urls, callback) {\n",
              "    if (css_urls == null) css_urls = [];\n",
              "    if (js_urls == null) js_urls = [];\n",
              "\n",
              "    root._bokeh_onload_callbacks.push(callback);\n",
              "    if (root._bokeh_is_loading > 0) {\n",
              "      console.debug(\"Bokeh: BokehJS is being loaded, scheduling callback at\", now());\n",
              "      return null;\n",
              "    }\n",
              "    if (js_urls == null || js_urls.length === 0) {\n",
              "      run_callbacks();\n",
              "      return null;\n",
              "    }\n",
              "    console.debug(\"Bokeh: BokehJS not loaded, scheduling load and callback at\", now());\n",
              "    root._bokeh_is_loading = css_urls.length + js_urls.length;\n",
              "\n",
              "    function on_load() {\n",
              "      root._bokeh_is_loading--;\n",
              "      if (root._bokeh_is_loading === 0) {\n",
              "        console.debug(\"Bokeh: all BokehJS libraries/stylesheets loaded\");\n",
              "        run_callbacks()\n",
              "      }\n",
              "    }\n",
              "\n",
              "    function on_error(url) {\n",
              "      console.error(\"failed to load \" + url);\n",
              "    }\n",
              "\n",
              "    for (let i = 0; i < css_urls.length; i++) {\n",
              "      const url = css_urls[i];\n",
              "      const element = document.createElement(\"link\");\n",
              "      element.onload = on_load;\n",
              "      element.onerror = on_error.bind(null, url);\n",
              "      element.rel = \"stylesheet\";\n",
              "      element.type = \"text/css\";\n",
              "      element.href = url;\n",
              "      console.debug(\"Bokeh: injecting link tag for BokehJS stylesheet: \", url);\n",
              "      document.body.appendChild(element);\n",
              "    }\n",
              "\n",
              "    for (let i = 0; i < js_urls.length; i++) {\n",
              "      const url = js_urls[i];\n",
              "      const element = document.createElement('script');\n",
              "      element.onload = on_load;\n",
              "      element.onerror = on_error.bind(null, url);\n",
              "      element.async = false;\n",
              "      element.src = url;\n",
              "      console.debug(\"Bokeh: injecting script tag for BokehJS library: \", url);\n",
              "      document.head.appendChild(element);\n",
              "    }\n",
              "  };\n",
              "\n",
              "  function inject_raw_css(css) {\n",
              "    const element = document.createElement(\"style\");\n",
              "    element.appendChild(document.createTextNode(css));\n",
              "    document.body.appendChild(element);\n",
              "  }\n",
              "\n",
              "  const js_urls = [\"https://cdn.bokeh.org/bokeh/release/bokeh-2.4.3.min.js\", \"https://cdn.bokeh.org/bokeh/release/bokeh-gl-2.4.3.min.js\", \"https://cdn.bokeh.org/bokeh/release/bokeh-widgets-2.4.3.min.js\", \"https://cdn.bokeh.org/bokeh/release/bokeh-tables-2.4.3.min.js\", \"https://cdn.bokeh.org/bokeh/release/bokeh-mathjax-2.4.3.min.js\"];\n",
              "  const css_urls = [];\n",
              "\n",
              "  const inline_js = [    function(Bokeh) {\n",
              "      Bokeh.set_log_level(\"info\");\n",
              "    },\n",
              "function(Bokeh) {\n",
              "    }\n",
              "  ];\n",
              "\n",
              "  function run_inline_js() {\n",
              "    if (root.Bokeh !== undefined || force === true) {\n",
              "          for (let i = 0; i < inline_js.length; i++) {\n",
              "      inline_js[i].call(root, root.Bokeh);\n",
              "    }\n",
              "} else if (Date.now() < root._bokeh_timeout) {\n",
              "      setTimeout(run_inline_js, 100);\n",
              "    } else if (!root._bokeh_failed_load) {\n",
              "      console.log(\"Bokeh: BokehJS failed to load within specified timeout.\");\n",
              "      root._bokeh_failed_load = true;\n",
              "    } else if (force !== true) {\n",
              "      const cell = $(document.getElementById(null)).parents('.cell').data().cell;\n",
              "      cell.output_area.append_execute_result(NB_LOAD_WARNING)\n",
              "    }\n",
              "  }\n",
              "\n",
              "  if (root._bokeh_is_loading === 0) {\n",
              "    console.debug(\"Bokeh: BokehJS loaded, going straight to plotting\");\n",
              "    run_inline_js();\n",
              "  } else {\n",
              "    load_libs(css_urls, js_urls, function() {\n",
              "      console.debug(\"Bokeh: BokehJS plotting callback run at\", now());\n",
              "      run_inline_js();\n",
              "    });\n",
              "  }\n",
              "}(window));"
            ],
            "application/vnd.bokehjs_load.v0+json": "(function(root) {\n  function now() {\n    return new Date();\n  }\n\n  const force = true;\n\n  if (typeof root._bokeh_onload_callbacks === \"undefined\" || force === true) {\n    root._bokeh_onload_callbacks = [];\n    root._bokeh_is_loading = undefined;\n  }\n\n\n  if (typeof (root._bokeh_timeout) === \"undefined\" || force === true) {\n    root._bokeh_timeout = Date.now() + 5000;\n    root._bokeh_failed_load = false;\n  }\n\n  const NB_LOAD_WARNING = {'data': {'text/html':\n     \"<div style='background-color: #fdd'>\\n\"+\n     \"<p>\\n\"+\n     \"BokehJS does not appear to have successfully loaded. If loading BokehJS from CDN, this \\n\"+\n     \"may be due to a slow or bad network connection. Possible fixes:\\n\"+\n     \"</p>\\n\"+\n     \"<ul>\\n\"+\n     \"<li>re-rerun `output_notebook()` to attempt to load from CDN again, or</li>\\n\"+\n     \"<li>use INLINE resources instead, as so:</li>\\n\"+\n     \"</ul>\\n\"+\n     \"<code>\\n\"+\n     \"from bokeh.resources import INLINE\\n\"+\n     \"output_notebook(resources=INLINE)\\n\"+\n     \"</code>\\n\"+\n     \"</div>\"}};\n\n  function display_loaded() {\n    const el = document.getElementById(null);\n    if (el != null) {\n      el.textContent = \"BokehJS is loading...\";\n    }\n    if (root.Bokeh !== undefined) {\n      if (el != null) {\n        el.textContent = \"BokehJS \" + root.Bokeh.version + \" successfully loaded.\";\n      }\n    } else if (Date.now() < root._bokeh_timeout) {\n      setTimeout(display_loaded, 100)\n    }\n  }\n\n  function run_callbacks() {\n    try {\n      root._bokeh_onload_callbacks.forEach(function(callback) {\n        if (callback != null)\n          callback();\n      });\n    } finally {\n      delete root._bokeh_onload_callbacks\n    }\n    console.debug(\"Bokeh: all callbacks have finished\");\n  }\n\n  function load_libs(css_urls, js_urls, callback) {\n    if (css_urls == null) css_urls = [];\n    if (js_urls == null) js_urls = [];\n\n    root._bokeh_onload_callbacks.push(callback);\n    if (root._bokeh_is_loading > 0) {\n      console.debug(\"Bokeh: BokehJS is being loaded, scheduling callback at\", now());\n      return null;\n    }\n    if (js_urls == null || js_urls.length === 0) {\n      run_callbacks();\n      return null;\n    }\n    console.debug(\"Bokeh: BokehJS not loaded, scheduling load and callback at\", now());\n    root._bokeh_is_loading = css_urls.length + js_urls.length;\n\n    function on_load() {\n      root._bokeh_is_loading--;\n      if (root._bokeh_is_loading === 0) {\n        console.debug(\"Bokeh: all BokehJS libraries/stylesheets loaded\");\n        run_callbacks()\n      }\n    }\n\n    function on_error(url) {\n      console.error(\"failed to load \" + url);\n    }\n\n    for (let i = 0; i < css_urls.length; i++) {\n      const url = css_urls[i];\n      const element = document.createElement(\"link\");\n      element.onload = on_load;\n      element.onerror = on_error.bind(null, url);\n      element.rel = \"stylesheet\";\n      element.type = \"text/css\";\n      element.href = url;\n      console.debug(\"Bokeh: injecting link tag for BokehJS stylesheet: \", url);\n      document.body.appendChild(element);\n    }\n\n    for (let i = 0; i < js_urls.length; i++) {\n      const url = js_urls[i];\n      const element = document.createElement('script');\n      element.onload = on_load;\n      element.onerror = on_error.bind(null, url);\n      element.async = false;\n      element.src = url;\n      console.debug(\"Bokeh: injecting script tag for BokehJS library: \", url);\n      document.head.appendChild(element);\n    }\n  };\n\n  function inject_raw_css(css) {\n    const element = document.createElement(\"style\");\n    element.appendChild(document.createTextNode(css));\n    document.body.appendChild(element);\n  }\n\n  const js_urls = [\"https://cdn.bokeh.org/bokeh/release/bokeh-2.4.3.min.js\", \"https://cdn.bokeh.org/bokeh/release/bokeh-gl-2.4.3.min.js\", \"https://cdn.bokeh.org/bokeh/release/bokeh-widgets-2.4.3.min.js\", \"https://cdn.bokeh.org/bokeh/release/bokeh-tables-2.4.3.min.js\", \"https://cdn.bokeh.org/bokeh/release/bokeh-mathjax-2.4.3.min.js\"];\n  const css_urls = [];\n\n  const inline_js = [    function(Bokeh) {\n      Bokeh.set_log_level(\"info\");\n    },\nfunction(Bokeh) {\n    }\n  ];\n\n  function run_inline_js() {\n    if (root.Bokeh !== undefined || force === true) {\n          for (let i = 0; i < inline_js.length; i++) {\n      inline_js[i].call(root, root.Bokeh);\n    }\n} else if (Date.now() < root._bokeh_timeout) {\n      setTimeout(run_inline_js, 100);\n    } else if (!root._bokeh_failed_load) {\n      console.log(\"Bokeh: BokehJS failed to load within specified timeout.\");\n      root._bokeh_failed_load = true;\n    } else if (force !== true) {\n      const cell = $(document.getElementById(null)).parents('.cell').data().cell;\n      cell.output_area.append_execute_result(NB_LOAD_WARNING)\n    }\n  }\n\n  if (root._bokeh_is_loading === 0) {\n    console.debug(\"Bokeh: BokehJS loaded, going straight to plotting\");\n    run_inline_js();\n  } else {\n    load_libs(css_urls, js_urls, function() {\n      console.debug(\"Bokeh: BokehJS plotting callback run at\", now());\n      run_inline_js();\n    });\n  }\n}(window));"
          },
          "metadata": {}
        },
        {
          "output_type": "display_data",
          "data": {
            "text/html": [
              "\n",
              "  <div class=\"bk-root\" id=\"1dedda54-72f6-453d-9367-ae81024099c0\" data-root-id=\"1002\"></div>\n"
            ]
          },
          "metadata": {}
        },
        {
          "output_type": "display_data",
          "data": {
            "application/javascript": [
              "(function(root) {\n",
              "  function embed_document(root) {\n",
              "  const docs_json = {\"cfc18b49-3c26-4b5d-ab6b-e280ee3faadc\":{\"defs\":[],\"roots\":{\"references\":[{\"attributes\":{\"below\":[{\"id\":\"1013\"}],\"center\":[{\"id\":\"1016\"},{\"id\":\"1020\"},{\"id\":\"1051\"}],\"left\":[{\"id\":\"1017\"}],\"renderers\":[{\"id\":\"1039\"}],\"title\":{\"id\":\"1003\"},\"toolbar\":{\"id\":\"1028\"},\"x_range\":{\"id\":\"1005\"},\"x_scale\":{\"id\":\"1009\"},\"y_range\":{\"id\":\"1007\"},\"y_scale\":{\"id\":\"1011\"}},\"id\":\"1002\",\"subtype\":\"Figure\",\"type\":\"Plot\"},{\"attributes\":{\"source\":{\"id\":\"1035\"}},\"id\":\"1040\",\"type\":\"CDSView\"},{\"attributes\":{},\"id\":\"1009\",\"type\":\"LinearScale\"},{\"attributes\":{\"bottom_units\":\"screen\",\"coordinates\":null,\"fill_alpha\":0.5,\"fill_color\":\"lightgrey\",\"group\":null,\"left_units\":\"screen\",\"level\":\"overlay\",\"line_alpha\":1.0,\"line_color\":\"black\",\"line_dash\":[4,4],\"line_width\":2,\"right_units\":\"screen\",\"syncable\":false,\"top_units\":\"screen\"},\"id\":\"1027\",\"type\":\"BoxAnnotation\"},{\"attributes\":{},\"id\":\"1022\",\"type\":\"WheelZoomTool\"},{\"attributes\":{},\"id\":\"1048\",\"type\":\"UnionRenderers\"},{\"attributes\":{},\"id\":\"1044\",\"type\":\"AllLabels\"},{\"attributes\":{},\"id\":\"1046\",\"type\":\"BasicTickFormatter\"},{\"attributes\":{},\"id\":\"1049\",\"type\":\"Selection\"},{\"attributes\":{\"axis\":{\"id\":\"1017\"},\"coordinates\":null,\"dimension\":1,\"group\":null,\"ticker\":null},\"id\":\"1020\",\"type\":\"Grid\"},{\"attributes\":{\"axis_label\":\"x\",\"coordinates\":null,\"formatter\":{\"id\":\"1046\"},\"group\":null,\"major_label_policy\":{\"id\":\"1047\"},\"ticker\":{\"id\":\"1014\"}},\"id\":\"1013\",\"type\":\"LinearAxis\"},{\"attributes\":{\"coordinates\":null,\"group\":null,\"items\":[{\"id\":\"1052\"}]},\"id\":\"1051\",\"type\":\"Legend\"},{\"attributes\":{},\"id\":\"1047\",\"type\":\"AllLabels\"},{\"attributes\":{\"line_color\":\"#1f77b4\",\"line_width\":2,\"x\":{\"field\":\"x\"},\"y\":{\"field\":\"y\"}},\"id\":\"1036\",\"type\":\"Line\"},{\"attributes\":{},\"id\":\"1018\",\"type\":\"BasicTicker\"},{\"attributes\":{\"coordinates\":null,\"group\":null,\"text\":\"Bokeh Line Plot\"},\"id\":\"1003\",\"type\":\"Title\"},{\"attributes\":{\"line_alpha\":0.1,\"line_color\":\"#1f77b4\",\"line_width\":2,\"x\":{\"field\":\"x\"},\"y\":{\"field\":\"y\"}},\"id\":\"1037\",\"type\":\"Line\"},{\"attributes\":{},\"id\":\"1043\",\"type\":\"BasicTickFormatter\"},{\"attributes\":{\"data\":{\"x\":[1,2,3,4,5],\"y\":[6,7,2,4,5]},\"selected\":{\"id\":\"1049\"},\"selection_policy\":{\"id\":\"1048\"}},\"id\":\"1035\",\"type\":\"ColumnDataSource\"},{\"attributes\":{\"line_alpha\":0.2,\"line_color\":\"#1f77b4\",\"line_width\":2,\"x\":{\"field\":\"x\"},\"y\":{\"field\":\"y\"}},\"id\":\"1038\",\"type\":\"Line\"},{\"attributes\":{\"axis\":{\"id\":\"1013\"},\"coordinates\":null,\"group\":null,\"ticker\":null},\"id\":\"1016\",\"type\":\"Grid\"},{\"attributes\":{\"coordinates\":null,\"data_source\":{\"id\":\"1035\"},\"glyph\":{\"id\":\"1036\"},\"group\":null,\"hover_glyph\":null,\"muted_glyph\":{\"id\":\"1038\"},\"nonselection_glyph\":{\"id\":\"1037\"},\"view\":{\"id\":\"1040\"}},\"id\":\"1039\",\"type\":\"GlyphRenderer\"},{\"attributes\":{},\"id\":\"1026\",\"type\":\"HelpTool\"},{\"attributes\":{},\"id\":\"1014\",\"type\":\"BasicTicker\"},{\"attributes\":{\"label\":{\"value\":\"Line 1\"},\"renderers\":[{\"id\":\"1039\"}]},\"id\":\"1052\",\"type\":\"LegendItem\"},{\"attributes\":{\"axis_label\":\"y\",\"coordinates\":null,\"formatter\":{\"id\":\"1043\"},\"group\":null,\"major_label_policy\":{\"id\":\"1044\"},\"ticker\":{\"id\":\"1018\"}},\"id\":\"1017\",\"type\":\"LinearAxis\"},{\"attributes\":{},\"id\":\"1005\",\"type\":\"DataRange1d\"},{\"attributes\":{},\"id\":\"1011\",\"type\":\"LinearScale\"},{\"attributes\":{},\"id\":\"1007\",\"type\":\"DataRange1d\"},{\"attributes\":{},\"id\":\"1021\",\"type\":\"PanTool\"},{\"attributes\":{\"overlay\":{\"id\":\"1027\"}},\"id\":\"1023\",\"type\":\"BoxZoomTool\"},{\"attributes\":{},\"id\":\"1024\",\"type\":\"SaveTool\"},{\"attributes\":{},\"id\":\"1025\",\"type\":\"ResetTool\"},{\"attributes\":{\"tools\":[{\"id\":\"1021\"},{\"id\":\"1022\"},{\"id\":\"1023\"},{\"id\":\"1024\"},{\"id\":\"1025\"},{\"id\":\"1026\"}]},\"id\":\"1028\",\"type\":\"Toolbar\"}],\"root_ids\":[\"1002\"]},\"title\":\"Bokeh Application\",\"version\":\"2.4.3\"}};\n",
              "  const render_items = [{\"docid\":\"cfc18b49-3c26-4b5d-ab6b-e280ee3faadc\",\"root_ids\":[\"1002\"],\"roots\":{\"1002\":\"1dedda54-72f6-453d-9367-ae81024099c0\"}}];\n",
              "  root.Bokeh.embed.embed_items_notebook(docs_json, render_items);\n",
              "  }\n",
              "  if (root.Bokeh !== undefined) {\n",
              "    embed_document(root);\n",
              "  } else {\n",
              "    let attempts = 0;\n",
              "    const timer = setInterval(function(root) {\n",
              "      if (root.Bokeh !== undefined) {\n",
              "        clearInterval(timer);\n",
              "        embed_document(root);\n",
              "      } else {\n",
              "        attempts++;\n",
              "        if (attempts > 100) {\n",
              "          clearInterval(timer);\n",
              "          console.log(\"Bokeh: ERROR: Unable to run BokehJS code because BokehJS library is missing\");\n",
              "        }\n",
              "      }\n",
              "    }, 10, root)\n",
              "  }\n",
              "})(window);"
            ],
            "application/vnd.bokehjs_exec.v0+json": ""
          },
          "metadata": {
            "application/vnd.bokehjs_exec.v0+json": {
              "id": "1002"
            }
          }
        }
      ]
    },
    {
      "cell_type": "markdown",
      "source": [
        "![image.png](data:image/png;base64,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)"
      ],
      "metadata": {
        "id": "FARQ4h6qPkEF"
      }
    },
    {
      "cell_type": "markdown",
      "source": [
        "### `Q2`: What are glyphs in Bokeh, and how can you add them to a Bokeh plot? Explain with an example.\n"
      ],
      "metadata": {
        "id": "H6pGO3IRm4Wl"
      }
    },
    {
      "cell_type": "markdown",
      "source": [
        "\n",
        "* lyphs are the basic visual building blocks in Bokeh, which represent individual data points in a plot. Bokeh provides a variety of glyphs to choose from, including circles, squares, lines, bars, and many more.\n",
        "* Glyphs are added to a plot using the add_glyph() method.\n",
        "\n",
        "* Here's an example of how to add a circle glyph to a Bokeh plot:"
      ],
      "metadata": {
        "id": "5cuZnYIVLlIx"
      }
    },
    {
      "cell_type": "code",
      "source": [
        "p = figure(title=\"Bokeh Glyphs\", x_axis_label='x', y_axis_label='y')\n",
        "\n",
        "x = [1, 2, 3, 4, 5]\n",
        "y = [6, 7, 2, 4, 5]\n",
        "\n",
        "p.circle(x, y, size=10, color='red')\n",
        "\n",
        "show(p)"
      ],
      "metadata": {
        "colab": {
          "base_uri": "https://localhost:8080/",
          "height": 617
        },
        "id": "kOHX_zWxmnbd",
        "outputId": "69753f97-a8b0-43e1-c550-36850272968f"
      },
      "execution_count": null,
      "outputs": [
        {
          "output_type": "display_data",
          "data": {
            "application/javascript": [
              "(function(root) {\n",
              "  function now() {\n",
              "    return new Date();\n",
              "  }\n",
              "\n",
              "  const force = true;\n",
              "\n",
              "  if (typeof root._bokeh_onload_callbacks === \"undefined\" || force === true) {\n",
              "    root._bokeh_onload_callbacks = [];\n",
              "    root._bokeh_is_loading = undefined;\n",
              "  }\n",
              "\n",
              "const JS_MIME_TYPE = 'application/javascript';\n",
              "  const HTML_MIME_TYPE = 'text/html';\n",
              "  const EXEC_MIME_TYPE = 'application/vnd.bokehjs_exec.v0+json';\n",
              "  const CLASS_NAME = 'output_bokeh rendered_html';\n",
              "\n",
              "  /**\n",
              "   * Render data to the DOM node\n",
              "   */\n",
              "  function render(props, node) {\n",
              "    const script = document.createElement(\"script\");\n",
              "    node.appendChild(script);\n",
              "  }\n",
              "\n",
              "  /**\n",
              "   * Handle when an output is cleared or removed\n",
              "   */\n",
              "  function handleClearOutput(event, handle) {\n",
              "    const cell = handle.cell;\n",
              "\n",
              "    const id = cell.output_area._bokeh_element_id;\n",
              "    const server_id = cell.output_area._bokeh_server_id;\n",
              "    // Clean up Bokeh references\n",
              "    if (id != null && id in Bokeh.index) {\n",
              "      Bokeh.index[id].model.document.clear();\n",
              "      delete Bokeh.index[id];\n",
              "    }\n",
              "\n",
              "    if (server_id !== undefined) {\n",
              "      // Clean up Bokeh references\n",
              "      const cmd_clean = \"from bokeh.io.state import curstate; print(curstate().uuid_to_server['\" + server_id + \"'].get_sessions()[0].document.roots[0]._id)\";\n",
              "      cell.notebook.kernel.execute(cmd_clean, {\n",
              "        iopub: {\n",
              "          output: function(msg) {\n",
              "            const id = msg.content.text.trim();\n",
              "            if (id in Bokeh.index) {\n",
              "              Bokeh.index[id].model.document.clear();\n",
              "              delete Bokeh.index[id];\n",
              "            }\n",
              "          }\n",
              "        }\n",
              "      });\n",
              "      // Destroy server and session\n",
              "      const cmd_destroy = \"import bokeh.io.notebook as ion; ion.destroy_server('\" + server_id + \"')\";\n",
              "      cell.notebook.kernel.execute(cmd_destroy);\n",
              "    }\n",
              "  }\n",
              "\n",
              "  /**\n",
              "   * Handle when a new output is added\n",
              "   */\n",
              "  function handleAddOutput(event, handle) {\n",
              "    const output_area = handle.output_area;\n",
              "    const output = handle.output;\n",
              "\n",
              "    // limit handleAddOutput to display_data with EXEC_MIME_TYPE content only\n",
              "    if ((output.output_type != \"display_data\") || (!Object.prototype.hasOwnProperty.call(output.data, EXEC_MIME_TYPE))) {\n",
              "      return\n",
              "    }\n",
              "\n",
              "    const toinsert = output_area.element.find(\".\" + CLASS_NAME.split(' ')[0]);\n",
              "\n",
              "    if (output.metadata[EXEC_MIME_TYPE][\"id\"] !== undefined) {\n",
              "      toinsert[toinsert.length - 1].firstChild.textContent = output.data[JS_MIME_TYPE];\n",
              "      // store reference to embed id on output_area\n",
              "      output_area._bokeh_element_id = output.metadata[EXEC_MIME_TYPE][\"id\"];\n",
              "    }\n",
              "    if (output.metadata[EXEC_MIME_TYPE][\"server_id\"] !== undefined) {\n",
              "      const bk_div = document.createElement(\"div\");\n",
              "      bk_div.innerHTML = output.data[HTML_MIME_TYPE];\n",
              "      const script_attrs = bk_div.children[0].attributes;\n",
              "      for (let i = 0; i < script_attrs.length; i++) {\n",
              "        toinsert[toinsert.length - 1].firstChild.setAttribute(script_attrs[i].name, script_attrs[i].value);\n",
              "        toinsert[toinsert.length - 1].firstChild.textContent = bk_div.children[0].textContent\n",
              "      }\n",
              "      // store reference to server id on output_area\n",
              "      output_area._bokeh_server_id = output.metadata[EXEC_MIME_TYPE][\"server_id\"];\n",
              "    }\n",
              "  }\n",
              "\n",
              "  function register_renderer(events, OutputArea) {\n",
              "\n",
              "    function append_mime(data, metadata, element) {\n",
              "      // create a DOM node to render to\n",
              "      const toinsert = this.create_output_subarea(\n",
              "        metadata,\n",
              "        CLASS_NAME,\n",
              "        EXEC_MIME_TYPE\n",
              "      );\n",
              "      this.keyboard_manager.register_events(toinsert);\n",
              "      // Render to node\n",
              "      const props = {data: data, metadata: metadata[EXEC_MIME_TYPE]};\n",
              "      render(props, toinsert[toinsert.length - 1]);\n",
              "      element.append(toinsert);\n",
              "      return toinsert\n",
              "    }\n",
              "\n",
              "    /* Handle when an output is cleared or removed */\n",
              "    events.on('clear_output.CodeCell', handleClearOutput);\n",
              "    events.on('delete.Cell', handleClearOutput);\n",
              "\n",
              "    /* Handle when a new output is added */\n",
              "    events.on('output_added.OutputArea', handleAddOutput);\n",
              "\n",
              "    /**\n",
              "     * Register the mime type and append_mime function with output_area\n",
              "     */\n",
              "    OutputArea.prototype.register_mime_type(EXEC_MIME_TYPE, append_mime, {\n",
              "      /* Is output safe? */\n",
              "      safe: true,\n",
              "      /* Index of renderer in `output_area.display_order` */\n",
              "      index: 0\n",
              "    });\n",
              "  }\n",
              "\n",
              "  // register the mime type if in Jupyter Notebook environment and previously unregistered\n",
              "  if (root.Jupyter !== undefined) {\n",
              "    const events = require('base/js/events');\n",
              "    const OutputArea = require('notebook/js/outputarea').OutputArea;\n",
              "\n",
              "    if (OutputArea.prototype.mime_types().indexOf(EXEC_MIME_TYPE) == -1) {\n",
              "      register_renderer(events, OutputArea);\n",
              "    }\n",
              "  }\n",
              "  if (typeof (root._bokeh_timeout) === \"undefined\" || force === true) {\n",
              "    root._bokeh_timeout = Date.now() + 5000;\n",
              "    root._bokeh_failed_load = false;\n",
              "  }\n",
              "\n",
              "  const NB_LOAD_WARNING = {'data': {'text/html':\n",
              "     \"<div style='background-color: #fdd'>\\n\"+\n",
              "     \"<p>\\n\"+\n",
              "     \"BokehJS does not appear to have successfully loaded. If loading BokehJS from CDN, this \\n\"+\n",
              "     \"may be due to a slow or bad network connection. Possible fixes:\\n\"+\n",
              "     \"</p>\\n\"+\n",
              "     \"<ul>\\n\"+\n",
              "     \"<li>re-rerun `output_notebook()` to attempt to load from CDN again, or</li>\\n\"+\n",
              "     \"<li>use INLINE resources instead, as so:</li>\\n\"+\n",
              "     \"</ul>\\n\"+\n",
              "     \"<code>\\n\"+\n",
              "     \"from bokeh.resources import INLINE\\n\"+\n",
              "     \"output_notebook(resources=INLINE)\\n\"+\n",
              "     \"</code>\\n\"+\n",
              "     \"</div>\"}};\n",
              "\n",
              "  function display_loaded() {\n",
              "    const el = document.getElementById(null);\n",
              "    if (el != null) {\n",
              "      el.textContent = \"BokehJS is loading...\";\n",
              "    }\n",
              "    if (root.Bokeh !== undefined) {\n",
              "      if (el != null) {\n",
              "        el.textContent = \"BokehJS \" + root.Bokeh.version + \" successfully loaded.\";\n",
              "      }\n",
              "    } else if (Date.now() < root._bokeh_timeout) {\n",
              "      setTimeout(display_loaded, 100)\n",
              "    }\n",
              "  }\n",
              "\n",
              "  function run_callbacks() {\n",
              "    try {\n",
              "      root._bokeh_onload_callbacks.forEach(function(callback) {\n",
              "        if (callback != null)\n",
              "          callback();\n",
              "      });\n",
              "    } finally {\n",
              "      delete root._bokeh_onload_callbacks\n",
              "    }\n",
              "    console.debug(\"Bokeh: all callbacks have finished\");\n",
              "  }\n",
              "\n",
              "  function load_libs(css_urls, js_urls, callback) {\n",
              "    if (css_urls == null) css_urls = [];\n",
              "    if (js_urls == null) js_urls = [];\n",
              "\n",
              "    root._bokeh_onload_callbacks.push(callback);\n",
              "    if (root._bokeh_is_loading > 0) {\n",
              "      console.debug(\"Bokeh: BokehJS is being loaded, scheduling callback at\", now());\n",
              "      return null;\n",
              "    }\n",
              "    if (js_urls == null || js_urls.length === 0) {\n",
              "      run_callbacks();\n",
              "      return null;\n",
              "    }\n",
              "    console.debug(\"Bokeh: BokehJS not loaded, scheduling load and callback at\", now());\n",
              "    root._bokeh_is_loading = css_urls.length + js_urls.length;\n",
              "\n",
              "    function on_load() {\n",
              "      root._bokeh_is_loading--;\n",
              "      if (root._bokeh_is_loading === 0) {\n",
              "        console.debug(\"Bokeh: all BokehJS libraries/stylesheets loaded\");\n",
              "        run_callbacks()\n",
              "      }\n",
              "    }\n",
              "\n",
              "    function on_error(url) {\n",
              "      console.error(\"failed to load \" + url);\n",
              "    }\n",
              "\n",
              "    for (let i = 0; i < css_urls.length; i++) {\n",
              "      const url = css_urls[i];\n",
              "      const element = document.createElement(\"link\");\n",
              "      element.onload = on_load;\n",
              "      element.onerror = on_error.bind(null, url);\n",
              "      element.rel = \"stylesheet\";\n",
              "      element.type = \"text/css\";\n",
              "      element.href = url;\n",
              "      console.debug(\"Bokeh: injecting link tag for BokehJS stylesheet: \", url);\n",
              "      document.body.appendChild(element);\n",
              "    }\n",
              "\n",
              "    for (let i = 0; i < js_urls.length; i++) {\n",
              "      const url = js_urls[i];\n",
              "      const element = document.createElement('script');\n",
              "      element.onload = on_load;\n",
              "      element.onerror = on_error.bind(null, url);\n",
              "      element.async = false;\n",
              "      element.src = url;\n",
              "      console.debug(\"Bokeh: injecting script tag for BokehJS library: \", url);\n",
              "      document.head.appendChild(element);\n",
              "    }\n",
              "  };\n",
              "\n",
              "  function inject_raw_css(css) {\n",
              "    const element = document.createElement(\"style\");\n",
              "    element.appendChild(document.createTextNode(css));\n",
              "    document.body.appendChild(element);\n",
              "  }\n",
              "\n",
              "  const js_urls = [\"https://cdn.bokeh.org/bokeh/release/bokeh-2.4.3.min.js\", \"https://cdn.bokeh.org/bokeh/release/bokeh-gl-2.4.3.min.js\", \"https://cdn.bokeh.org/bokeh/release/bokeh-widgets-2.4.3.min.js\", \"https://cdn.bokeh.org/bokeh/release/bokeh-tables-2.4.3.min.js\", \"https://cdn.bokeh.org/bokeh/release/bokeh-mathjax-2.4.3.min.js\"];\n",
              "  const css_urls = [];\n",
              "\n",
              "  const inline_js = [    function(Bokeh) {\n",
              "      Bokeh.set_log_level(\"info\");\n",
              "    },\n",
              "function(Bokeh) {\n",
              "    }\n",
              "  ];\n",
              "\n",
              "  function run_inline_js() {\n",
              "    if (root.Bokeh !== undefined || force === true) {\n",
              "          for (let i = 0; i < inline_js.length; i++) {\n",
              "      inline_js[i].call(root, root.Bokeh);\n",
              "    }\n",
              "} else if (Date.now() < root._bokeh_timeout) {\n",
              "      setTimeout(run_inline_js, 100);\n",
              "    } else if (!root._bokeh_failed_load) {\n",
              "      console.log(\"Bokeh: BokehJS failed to load within specified timeout.\");\n",
              "      root._bokeh_failed_load = true;\n",
              "    } else if (force !== true) {\n",
              "      const cell = $(document.getElementById(null)).parents('.cell').data().cell;\n",
              "      cell.output_area.append_execute_result(NB_LOAD_WARNING)\n",
              "    }\n",
              "  }\n",
              "\n",
              "  if (root._bokeh_is_loading === 0) {\n",
              "    console.debug(\"Bokeh: BokehJS loaded, going straight to plotting\");\n",
              "    run_inline_js();\n",
              "  } else {\n",
              "    load_libs(css_urls, js_urls, function() {\n",
              "      console.debug(\"Bokeh: BokehJS plotting callback run at\", now());\n",
              "      run_inline_js();\n",
              "    });\n",
              "  }\n",
              "}(window));"
            ],
            "application/vnd.bokehjs_load.v0+json": "(function(root) {\n  function now() {\n    return new Date();\n  }\n\n  const force = true;\n\n  if (typeof root._bokeh_onload_callbacks === \"undefined\" || force === true) {\n    root._bokeh_onload_callbacks = [];\n    root._bokeh_is_loading = undefined;\n  }\n\n\n  if (typeof (root._bokeh_timeout) === \"undefined\" || force === true) {\n    root._bokeh_timeout = Date.now() + 5000;\n    root._bokeh_failed_load = false;\n  }\n\n  const NB_LOAD_WARNING = {'data': {'text/html':\n     \"<div style='background-color: #fdd'>\\n\"+\n     \"<p>\\n\"+\n     \"BokehJS does not appear to have successfully loaded. If loading BokehJS from CDN, this \\n\"+\n     \"may be due to a slow or bad network connection. Possible fixes:\\n\"+\n     \"</p>\\n\"+\n     \"<ul>\\n\"+\n     \"<li>re-rerun `output_notebook()` to attempt to load from CDN again, or</li>\\n\"+\n     \"<li>use INLINE resources instead, as so:</li>\\n\"+\n     \"</ul>\\n\"+\n     \"<code>\\n\"+\n     \"from bokeh.resources import INLINE\\n\"+\n     \"output_notebook(resources=INLINE)\\n\"+\n     \"</code>\\n\"+\n     \"</div>\"}};\n\n  function display_loaded() {\n    const el = document.getElementById(null);\n    if (el != null) {\n      el.textContent = \"BokehJS is loading...\";\n    }\n    if (root.Bokeh !== undefined) {\n      if (el != null) {\n        el.textContent = \"BokehJS \" + root.Bokeh.version + \" successfully loaded.\";\n      }\n    } else if (Date.now() < root._bokeh_timeout) {\n      setTimeout(display_loaded, 100)\n    }\n  }\n\n  function run_callbacks() {\n    try {\n      root._bokeh_onload_callbacks.forEach(function(callback) {\n        if (callback != null)\n          callback();\n      });\n    } finally {\n      delete root._bokeh_onload_callbacks\n    }\n    console.debug(\"Bokeh: all callbacks have finished\");\n  }\n\n  function load_libs(css_urls, js_urls, callback) {\n    if (css_urls == null) css_urls = [];\n    if (js_urls == null) js_urls = [];\n\n    root._bokeh_onload_callbacks.push(callback);\n    if (root._bokeh_is_loading > 0) {\n      console.debug(\"Bokeh: BokehJS is being loaded, scheduling callback at\", now());\n      return null;\n    }\n    if (js_urls == null || js_urls.length === 0) {\n      run_callbacks();\n      return null;\n    }\n    console.debug(\"Bokeh: BokehJS not loaded, scheduling load and callback at\", now());\n    root._bokeh_is_loading = css_urls.length + js_urls.length;\n\n    function on_load() {\n      root._bokeh_is_loading--;\n      if (root._bokeh_is_loading === 0) {\n        console.debug(\"Bokeh: all BokehJS libraries/stylesheets loaded\");\n        run_callbacks()\n      }\n    }\n\n    function on_error(url) {\n      console.error(\"failed to load \" + url);\n    }\n\n    for (let i = 0; i < css_urls.length; i++) {\n      const url = css_urls[i];\n      const element = document.createElement(\"link\");\n      element.onload = on_load;\n      element.onerror = on_error.bind(null, url);\n      element.rel = \"stylesheet\";\n      element.type = \"text/css\";\n      element.href = url;\n      console.debug(\"Bokeh: injecting link tag for BokehJS stylesheet: \", url);\n      document.body.appendChild(element);\n    }\n\n    for (let i = 0; i < js_urls.length; i++) {\n      const url = js_urls[i];\n      const element = document.createElement('script');\n      element.onload = on_load;\n      element.onerror = on_error.bind(null, url);\n      element.async = false;\n      element.src = url;\n      console.debug(\"Bokeh: injecting script tag for BokehJS library: \", url);\n      document.head.appendChild(element);\n    }\n  };\n\n  function inject_raw_css(css) {\n    const element = document.createElement(\"style\");\n    element.appendChild(document.createTextNode(css));\n    document.body.appendChild(element);\n  }\n\n  const js_urls = [\"https://cdn.bokeh.org/bokeh/release/bokeh-2.4.3.min.js\", \"https://cdn.bokeh.org/bokeh/release/bokeh-gl-2.4.3.min.js\", \"https://cdn.bokeh.org/bokeh/release/bokeh-widgets-2.4.3.min.js\", \"https://cdn.bokeh.org/bokeh/release/bokeh-tables-2.4.3.min.js\", \"https://cdn.bokeh.org/bokeh/release/bokeh-mathjax-2.4.3.min.js\"];\n  const css_urls = [];\n\n  const inline_js = [    function(Bokeh) {\n      Bokeh.set_log_level(\"info\");\n    },\nfunction(Bokeh) {\n    }\n  ];\n\n  function run_inline_js() {\n    if (root.Bokeh !== undefined || force === true) {\n          for (let i = 0; i < inline_js.length; i++) {\n      inline_js[i].call(root, root.Bokeh);\n    }\n} else if (Date.now() < root._bokeh_timeout) {\n      setTimeout(run_inline_js, 100);\n    } else if (!root._bokeh_failed_load) {\n      console.log(\"Bokeh: BokehJS failed to load within specified timeout.\");\n      root._bokeh_failed_load = true;\n    } else if (force !== true) {\n      const cell = $(document.getElementById(null)).parents('.cell').data().cell;\n      cell.output_area.append_execute_result(NB_LOAD_WARNING)\n    }\n  }\n\n  if (root._bokeh_is_loading === 0) {\n    console.debug(\"Bokeh: BokehJS loaded, going straight to plotting\");\n    run_inline_js();\n  } else {\n    load_libs(css_urls, js_urls, function() {\n      console.debug(\"Bokeh: BokehJS plotting callback run at\", now());\n      run_inline_js();\n    });\n  }\n}(window));"
          },
          "metadata": {}
        },
        {
          "output_type": "display_data",
          "data": {
            "text/html": [
              "\n",
              "  <div class=\"bk-root\" id=\"d6450ac4-745b-4a54-a38a-4746970f2fcd\" data-root-id=\"1236\"></div>\n"
            ]
          },
          "metadata": {}
        },
        {
          "output_type": "display_data",
          "data": {
            "application/javascript": [
              "(function(root) {\n",
              "  function embed_document(root) {\n",
              "  const docs_json = {\"0c4bc30a-fe66-45e2-b1b9-6c0970e93e76\":{\"defs\":[],\"roots\":{\"references\":[{\"attributes\":{\"below\":[{\"id\":\"1247\"}],\"center\":[{\"id\":\"1250\"},{\"id\":\"1254\"}],\"left\":[{\"id\":\"1251\"}],\"renderers\":[{\"id\":\"1273\"}],\"title\":{\"id\":\"1237\"},\"toolbar\":{\"id\":\"1262\"},\"x_range\":{\"id\":\"1239\"},\"x_scale\":{\"id\":\"1243\"},\"y_range\":{\"id\":\"1241\"},\"y_scale\":{\"id\":\"1245\"}},\"id\":\"1236\",\"subtype\":\"Figure\",\"type\":\"Plot\"},{\"attributes\":{},\"id\":\"1239\",\"type\":\"DataRange1d\"},{\"attributes\":{},\"id\":\"1255\",\"type\":\"PanTool\"},{\"attributes\":{},\"id\":\"1248\",\"type\":\"BasicTicker\"},{\"attributes\":{},\"id\":\"1290\",\"type\":\"BasicTickFormatter\"},{\"attributes\":{},\"id\":\"1291\",\"type\":\"AllLabels\"},{\"attributes\":{\"source\":{\"id\":\"1269\"}},\"id\":\"1274\",\"type\":\"CDSView\"},{\"attributes\":{\"tools\":[{\"id\":\"1255\"},{\"id\":\"1256\"},{\"id\":\"1257\"},{\"id\":\"1258\"},{\"id\":\"1259\"},{\"id\":\"1260\"}]},\"id\":\"1262\",\"type\":\"Toolbar\"},{\"attributes\":{},\"id\":\"1252\",\"type\":\"BasicTicker\"},{\"attributes\":{},\"id\":\"1241\",\"type\":\"DataRange1d\"},{\"attributes\":{},\"id\":\"1243\",\"type\":\"LinearScale\"},{\"attributes\":{},\"id\":\"1258\",\"type\":\"SaveTool\"},{\"attributes\":{},\"id\":\"1292\",\"type\":\"UnionRenderers\"},{\"attributes\":{\"axis\":{\"id\":\"1251\"},\"coordinates\":null,\"dimension\":1,\"group\":null,\"ticker\":null},\"id\":\"1254\",\"type\":\"Grid\"},{\"attributes\":{\"axis_label\":\"y\",\"coordinates\":null,\"formatter\":{\"id\":\"1287\"},\"group\":null,\"major_label_policy\":{\"id\":\"1288\"},\"ticker\":{\"id\":\"1252\"}},\"id\":\"1251\",\"type\":\"LinearAxis\"},{\"attributes\":{},\"id\":\"1293\",\"type\":\"Selection\"},{\"attributes\":{\"fill_alpha\":{\"value\":0.1},\"fill_color\":{\"value\":\"red\"},\"hatch_alpha\":{\"value\":0.1},\"hatch_color\":{\"value\":\"red\"},\"line_alpha\":{\"value\":0.1},\"line_color\":{\"value\":\"red\"},\"size\":{\"value\":10},\"x\":{\"field\":\"x\"},\"y\":{\"field\":\"y\"}},\"id\":\"1271\",\"type\":\"Circle\"},{\"attributes\":{\"fill_alpha\":{\"value\":0.2},\"fill_color\":{\"value\":\"red\"},\"hatch_alpha\":{\"value\":0.2},\"hatch_color\":{\"value\":\"red\"},\"line_alpha\":{\"value\":0.2},\"line_color\":{\"value\":\"red\"},\"size\":{\"value\":10},\"x\":{\"field\":\"x\"},\"y\":{\"field\":\"y\"}},\"id\":\"1272\",\"type\":\"Circle\"},{\"attributes\":{\"fill_color\":{\"value\":\"red\"},\"hatch_color\":{\"value\":\"red\"},\"line_color\":{\"value\":\"red\"},\"size\":{\"value\":10},\"x\":{\"field\":\"x\"},\"y\":{\"field\":\"y\"}},\"id\":\"1270\",\"type\":\"Circle\"},{\"attributes\":{\"data\":{\"x\":[1,2,3,4,5],\"y\":[6,7,2,4,5]},\"selected\":{\"id\":\"1293\"},\"selection_policy\":{\"id\":\"1292\"}},\"id\":\"1269\",\"type\":\"ColumnDataSource\"},{\"attributes\":{},\"id\":\"1288\",\"type\":\"AllLabels\"},{\"attributes\":{\"overlay\":{\"id\":\"1261\"}},\"id\":\"1257\",\"type\":\"BoxZoomTool\"},{\"attributes\":{},\"id\":\"1259\",\"type\":\"ResetTool\"},{\"attributes\":{\"bottom_units\":\"screen\",\"coordinates\":null,\"fill_alpha\":0.5,\"fill_color\":\"lightgrey\",\"group\":null,\"left_units\":\"screen\",\"level\":\"overlay\",\"line_alpha\":1.0,\"line_color\":\"black\",\"line_dash\":[4,4],\"line_width\":2,\"right_units\":\"screen\",\"syncable\":false,\"top_units\":\"screen\"},\"id\":\"1261\",\"type\":\"BoxAnnotation\"},{\"attributes\":{},\"id\":\"1287\",\"type\":\"BasicTickFormatter\"},{\"attributes\":{},\"id\":\"1260\",\"type\":\"HelpTool\"},{\"attributes\":{\"coordinates\":null,\"group\":null,\"text\":\"Bokeh Glyphs\"},\"id\":\"1237\",\"type\":\"Title\"},{\"attributes\":{\"coordinates\":null,\"data_source\":{\"id\":\"1269\"},\"glyph\":{\"id\":\"1270\"},\"group\":null,\"hover_glyph\":null,\"muted_glyph\":{\"id\":\"1272\"},\"nonselection_glyph\":{\"id\":\"1271\"},\"view\":{\"id\":\"1274\"}},\"id\":\"1273\",\"type\":\"GlyphRenderer\"},{\"attributes\":{\"axis_label\":\"x\",\"coordinates\":null,\"formatter\":{\"id\":\"1290\"},\"group\":null,\"major_label_policy\":{\"id\":\"1291\"},\"ticker\":{\"id\":\"1248\"}},\"id\":\"1247\",\"type\":\"LinearAxis\"},{\"attributes\":{},\"id\":\"1256\",\"type\":\"WheelZoomTool\"},{\"attributes\":{},\"id\":\"1245\",\"type\":\"LinearScale\"},{\"attributes\":{\"axis\":{\"id\":\"1247\"},\"coordinates\":null,\"group\":null,\"ticker\":null},\"id\":\"1250\",\"type\":\"Grid\"}],\"root_ids\":[\"1236\"]},\"title\":\"Bokeh Application\",\"version\":\"2.4.3\"}};\n",
              "  const render_items = [{\"docid\":\"0c4bc30a-fe66-45e2-b1b9-6c0970e93e76\",\"root_ids\":[\"1236\"],\"roots\":{\"1236\":\"d6450ac4-745b-4a54-a38a-4746970f2fcd\"}}];\n",
              "  root.Bokeh.embed.embed_items_notebook(docs_json, render_items);\n",
              "  }\n",
              "  if (root.Bokeh !== undefined) {\n",
              "    embed_document(root);\n",
              "  } else {\n",
              "    let attempts = 0;\n",
              "    const timer = setInterval(function(root) {\n",
              "      if (root.Bokeh !== undefined) {\n",
              "        clearInterval(timer);\n",
              "        embed_document(root);\n",
              "      } else {\n",
              "        attempts++;\n",
              "        if (attempts > 100) {\n",
              "          clearInterval(timer);\n",
              "          console.log(\"Bokeh: ERROR: Unable to run BokehJS code because BokehJS library is missing\");\n",
              "        }\n",
              "      }\n",
              "    }, 10, root)\n",
              "  }\n",
              "})(window);"
            ],
            "application/vnd.bokehjs_exec.v0+json": ""
          },
          "metadata": {
            "application/vnd.bokehjs_exec.v0+json": {
              "id": "1236"
            }
          }
        }
      ]
    },
    {
      "cell_type": "markdown",
      "source": [
        "![image.png](data:image/png;base64,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)"
      ],
      "metadata": {
        "id": "CyxggVYVPo_K"
      }
    },
    {
      "cell_type": "markdown",
      "source": [
        "### `Q3`:How can you customize the appearance of a Bokeh plot, including the axes, title, and legend?\n"
      ],
      "metadata": {
        "id": "lBdflXYXntBw"
      }
    },
    {
      "cell_type": "markdown",
      "source": [
        "\n",
        "* Bokeh provides a wide range of options for customizing the appearance of your plots. \n",
        "\n",
        "* Here are some examples of how you can customize the appearance of a Bokeh plot:"
      ],
      "metadata": {
        "id": "ykHj0ki2L41B"
      }
    },
    {
      "cell_type": "code",
      "source": [
        "from bokeh.models import Legend\n",
        "\n",
        "x = [1, 2, 3, 4, 5]\n",
        "y1 = [6, 7, 2, 4, 5]\n",
        "y2 = [3, 2, 5, 6, 4]\n",
        "\n",
        "output_file(\"bokeh_plot.html\")\n",
        "\n",
        "p = figure(title=\"Bokeh Line Plot\", x_axis_label='x', y_axis_label='y')\n",
        "\n",
        "p.line(x, y1, legend_label=\"Line 1\", line_width=2, line_color='red')\n",
        "p.line(x, y2, legend_label=\"Line 2\", line_width=2, line_color='blue')\n",
        "\n",
        "p.title.text_color = \"green\"\n",
        "p.title.text_font_size = \"25px\"\n",
        "p.xaxis.axis_label_text_color = \"orange\"\n",
        "p.yaxis.axis_label_text_color = \"orange\"\n",
        "p.xaxis.major_label_text_color = \"purple\"\n",
        "p.yaxis.major_label_text_color = \"purple\"\n",
        "p.xaxis.axis_line_width = 3\n",
        "p.yaxis.axis_line_width = 3\n",
        "p.xaxis.major_tick_line_width = 2\n",
        "p.yaxis.major_tick_line_width = 2\n",
        "p.xaxis.major_tick_line_color = \"green\"\n",
        "p.yaxis.major_tick_line_color = \"green\"\n",
        "p.legend.label_text_font_size = \"14pt\"\n",
        "p.legend.location = \"top_left\"\n",
        "\n",
        "show(p)"
      ],
      "metadata": {
        "colab": {
          "base_uri": "https://localhost:8080/",
          "height": 617
        },
        "id": "Caquy4dpneZh",
        "outputId": "1d6c89a6-6dfb-45fb-927b-cdc403e5d6b2"
      },
      "execution_count": null,
      "outputs": [
        {
          "output_type": "display_data",
          "data": {
            "application/javascript": [
              "(function(root) {\n",
              "  function now() {\n",
              "    return new Date();\n",
              "  }\n",
              "\n",
              "  const force = true;\n",
              "\n",
              "  if (typeof root._bokeh_onload_callbacks === \"undefined\" || force === true) {\n",
              "    root._bokeh_onload_callbacks = [];\n",
              "    root._bokeh_is_loading = undefined;\n",
              "  }\n",
              "\n",
              "const JS_MIME_TYPE = 'application/javascript';\n",
              "  const HTML_MIME_TYPE = 'text/html';\n",
              "  const EXEC_MIME_TYPE = 'application/vnd.bokehjs_exec.v0+json';\n",
              "  const CLASS_NAME = 'output_bokeh rendered_html';\n",
              "\n",
              "  /**\n",
              "   * Render data to the DOM node\n",
              "   */\n",
              "  function render(props, node) {\n",
              "    const script = document.createElement(\"script\");\n",
              "    node.appendChild(script);\n",
              "  }\n",
              "\n",
              "  /**\n",
              "   * Handle when an output is cleared or removed\n",
              "   */\n",
              "  function handleClearOutput(event, handle) {\n",
              "    const cell = handle.cell;\n",
              "\n",
              "    const id = cell.output_area._bokeh_element_id;\n",
              "    const server_id = cell.output_area._bokeh_server_id;\n",
              "    // Clean up Bokeh references\n",
              "    if (id != null && id in Bokeh.index) {\n",
              "      Bokeh.index[id].model.document.clear();\n",
              "      delete Bokeh.index[id];\n",
              "    }\n",
              "\n",
              "    if (server_id !== undefined) {\n",
              "      // Clean up Bokeh references\n",
              "      const cmd_clean = \"from bokeh.io.state import curstate; print(curstate().uuid_to_server['\" + server_id + \"'].get_sessions()[0].document.roots[0]._id)\";\n",
              "      cell.notebook.kernel.execute(cmd_clean, {\n",
              "        iopub: {\n",
              "          output: function(msg) {\n",
              "            const id = msg.content.text.trim();\n",
              "            if (id in Bokeh.index) {\n",
              "              Bokeh.index[id].model.document.clear();\n",
              "              delete Bokeh.index[id];\n",
              "            }\n",
              "          }\n",
              "        }\n",
              "      });\n",
              "      // Destroy server and session\n",
              "      const cmd_destroy = \"import bokeh.io.notebook as ion; ion.destroy_server('\" + server_id + \"')\";\n",
              "      cell.notebook.kernel.execute(cmd_destroy);\n",
              "    }\n",
              "  }\n",
              "\n",
              "  /**\n",
              "   * Handle when a new output is added\n",
              "   */\n",
              "  function handleAddOutput(event, handle) {\n",
              "    const output_area = handle.output_area;\n",
              "    const output = handle.output;\n",
              "\n",
              "    // limit handleAddOutput to display_data with EXEC_MIME_TYPE content only\n",
              "    if ((output.output_type != \"display_data\") || (!Object.prototype.hasOwnProperty.call(output.data, EXEC_MIME_TYPE))) {\n",
              "      return\n",
              "    }\n",
              "\n",
              "    const toinsert = output_area.element.find(\".\" + CLASS_NAME.split(' ')[0]);\n",
              "\n",
              "    if (output.metadata[EXEC_MIME_TYPE][\"id\"] !== undefined) {\n",
              "      toinsert[toinsert.length - 1].firstChild.textContent = output.data[JS_MIME_TYPE];\n",
              "      // store reference to embed id on output_area\n",
              "      output_area._bokeh_element_id = output.metadata[EXEC_MIME_TYPE][\"id\"];\n",
              "    }\n",
              "    if (output.metadata[EXEC_MIME_TYPE][\"server_id\"] !== undefined) {\n",
              "      const bk_div = document.createElement(\"div\");\n",
              "      bk_div.innerHTML = output.data[HTML_MIME_TYPE];\n",
              "      const script_attrs = bk_div.children[0].attributes;\n",
              "      for (let i = 0; i < script_attrs.length; i++) {\n",
              "        toinsert[toinsert.length - 1].firstChild.setAttribute(script_attrs[i].name, script_attrs[i].value);\n",
              "        toinsert[toinsert.length - 1].firstChild.textContent = bk_div.children[0].textContent\n",
              "      }\n",
              "      // store reference to server id on output_area\n",
              "      output_area._bokeh_server_id = output.metadata[EXEC_MIME_TYPE][\"server_id\"];\n",
              "    }\n",
              "  }\n",
              "\n",
              "  function register_renderer(events, OutputArea) {\n",
              "\n",
              "    function append_mime(data, metadata, element) {\n",
              "      // create a DOM node to render to\n",
              "      const toinsert = this.create_output_subarea(\n",
              "        metadata,\n",
              "        CLASS_NAME,\n",
              "        EXEC_MIME_TYPE\n",
              "      );\n",
              "      this.keyboard_manager.register_events(toinsert);\n",
              "      // Render to node\n",
              "      const props = {data: data, metadata: metadata[EXEC_MIME_TYPE]};\n",
              "      render(props, toinsert[toinsert.length - 1]);\n",
              "      element.append(toinsert);\n",
              "      return toinsert\n",
              "    }\n",
              "\n",
              "    /* Handle when an output is cleared or removed */\n",
              "    events.on('clear_output.CodeCell', handleClearOutput);\n",
              "    events.on('delete.Cell', handleClearOutput);\n",
              "\n",
              "    /* Handle when a new output is added */\n",
              "    events.on('output_added.OutputArea', handleAddOutput);\n",
              "\n",
              "    /**\n",
              "     * Register the mime type and append_mime function with output_area\n",
              "     */\n",
              "    OutputArea.prototype.register_mime_type(EXEC_MIME_TYPE, append_mime, {\n",
              "      /* Is output safe? */\n",
              "      safe: true,\n",
              "      /* Index of renderer in `output_area.display_order` */\n",
              "      index: 0\n",
              "    });\n",
              "  }\n",
              "\n",
              "  // register the mime type if in Jupyter Notebook environment and previously unregistered\n",
              "  if (root.Jupyter !== undefined) {\n",
              "    const events = require('base/js/events');\n",
              "    const OutputArea = require('notebook/js/outputarea').OutputArea;\n",
              "\n",
              "    if (OutputArea.prototype.mime_types().indexOf(EXEC_MIME_TYPE) == -1) {\n",
              "      register_renderer(events, OutputArea);\n",
              "    }\n",
              "  }\n",
              "  if (typeof (root._bokeh_timeout) === \"undefined\" || force === true) {\n",
              "    root._bokeh_timeout = Date.now() + 5000;\n",
              "    root._bokeh_failed_load = false;\n",
              "  }\n",
              "\n",
              "  const NB_LOAD_WARNING = {'data': {'text/html':\n",
              "     \"<div style='background-color: #fdd'>\\n\"+\n",
              "     \"<p>\\n\"+\n",
              "     \"BokehJS does not appear to have successfully loaded. If loading BokehJS from CDN, this \\n\"+\n",
              "     \"may be due to a slow or bad network connection. Possible fixes:\\n\"+\n",
              "     \"</p>\\n\"+\n",
              "     \"<ul>\\n\"+\n",
              "     \"<li>re-rerun `output_notebook()` to attempt to load from CDN again, or</li>\\n\"+\n",
              "     \"<li>use INLINE resources instead, as so:</li>\\n\"+\n",
              "     \"</ul>\\n\"+\n",
              "     \"<code>\\n\"+\n",
              "     \"from bokeh.resources import INLINE\\n\"+\n",
              "     \"output_notebook(resources=INLINE)\\n\"+\n",
              "     \"</code>\\n\"+\n",
              "     \"</div>\"}};\n",
              "\n",
              "  function display_loaded() {\n",
              "    const el = document.getElementById(null);\n",
              "    if (el != null) {\n",
              "      el.textContent = \"BokehJS is loading...\";\n",
              "    }\n",
              "    if (root.Bokeh !== undefined) {\n",
              "      if (el != null) {\n",
              "        el.textContent = \"BokehJS \" + root.Bokeh.version + \" successfully loaded.\";\n",
              "      }\n",
              "    } else if (Date.now() < root._bokeh_timeout) {\n",
              "      setTimeout(display_loaded, 100)\n",
              "    }\n",
              "  }\n",
              "\n",
              "  function run_callbacks() {\n",
              "    try {\n",
              "      root._bokeh_onload_callbacks.forEach(function(callback) {\n",
              "        if (callback != null)\n",
              "          callback();\n",
              "      });\n",
              "    } finally {\n",
              "      delete root._bokeh_onload_callbacks\n",
              "    }\n",
              "    console.debug(\"Bokeh: all callbacks have finished\");\n",
              "  }\n",
              "\n",
              "  function load_libs(css_urls, js_urls, callback) {\n",
              "    if (css_urls == null) css_urls = [];\n",
              "    if (js_urls == null) js_urls = [];\n",
              "\n",
              "    root._bokeh_onload_callbacks.push(callback);\n",
              "    if (root._bokeh_is_loading > 0) {\n",
              "      console.debug(\"Bokeh: BokehJS is being loaded, scheduling callback at\", now());\n",
              "      return null;\n",
              "    }\n",
              "    if (js_urls == null || js_urls.length === 0) {\n",
              "      run_callbacks();\n",
              "      return null;\n",
              "    }\n",
              "    console.debug(\"Bokeh: BokehJS not loaded, scheduling load and callback at\", now());\n",
              "    root._bokeh_is_loading = css_urls.length + js_urls.length;\n",
              "\n",
              "    function on_load() {\n",
              "      root._bokeh_is_loading--;\n",
              "      if (root._bokeh_is_loading === 0) {\n",
              "        console.debug(\"Bokeh: all BokehJS libraries/stylesheets loaded\");\n",
              "        run_callbacks()\n",
              "      }\n",
              "    }\n",
              "\n",
              "    function on_error(url) {\n",
              "      console.error(\"failed to load \" + url);\n",
              "    }\n",
              "\n",
              "    for (let i = 0; i < css_urls.length; i++) {\n",
              "      const url = css_urls[i];\n",
              "      const element = document.createElement(\"link\");\n",
              "      element.onload = on_load;\n",
              "      element.onerror = on_error.bind(null, url);\n",
              "      element.rel = \"stylesheet\";\n",
              "      element.type = \"text/css\";\n",
              "      element.href = url;\n",
              "      console.debug(\"Bokeh: injecting link tag for BokehJS stylesheet: \", url);\n",
              "      document.body.appendChild(element);\n",
              "    }\n",
              "\n",
              "    for (let i = 0; i < js_urls.length; i++) {\n",
              "      const url = js_urls[i];\n",
              "      const element = document.createElement('script');\n",
              "      element.onload = on_load;\n",
              "      element.onerror = on_error.bind(null, url);\n",
              "      element.async = false;\n",
              "      element.src = url;\n",
              "      console.debug(\"Bokeh: injecting script tag for BokehJS library: \", url);\n",
              "      document.head.appendChild(element);\n",
              "    }\n",
              "  };\n",
              "\n",
              "  function inject_raw_css(css) {\n",
              "    const element = document.createElement(\"style\");\n",
              "    element.appendChild(document.createTextNode(css));\n",
              "    document.body.appendChild(element);\n",
              "  }\n",
              "\n",
              "  const js_urls = [\"https://cdn.bokeh.org/bokeh/release/bokeh-2.4.3.min.js\", \"https://cdn.bokeh.org/bokeh/release/bokeh-gl-2.4.3.min.js\", \"https://cdn.bokeh.org/bokeh/release/bokeh-widgets-2.4.3.min.js\", \"https://cdn.bokeh.org/bokeh/release/bokeh-tables-2.4.3.min.js\", \"https://cdn.bokeh.org/bokeh/release/bokeh-mathjax-2.4.3.min.js\"];\n",
              "  const css_urls = [];\n",
              "\n",
              "  const inline_js = [    function(Bokeh) {\n",
              "      Bokeh.set_log_level(\"info\");\n",
              "    },\n",
              "function(Bokeh) {\n",
              "    }\n",
              "  ];\n",
              "\n",
              "  function run_inline_js() {\n",
              "    if (root.Bokeh !== undefined || force === true) {\n",
              "          for (let i = 0; i < inline_js.length; i++) {\n",
              "      inline_js[i].call(root, root.Bokeh);\n",
              "    }\n",
              "} else if (Date.now() < root._bokeh_timeout) {\n",
              "      setTimeout(run_inline_js, 100);\n",
              "    } else if (!root._bokeh_failed_load) {\n",
              "      console.log(\"Bokeh: BokehJS failed to load within specified timeout.\");\n",
              "      root._bokeh_failed_load = true;\n",
              "    } else if (force !== true) {\n",
              "      const cell = $(document.getElementById(null)).parents('.cell').data().cell;\n",
              "      cell.output_area.append_execute_result(NB_LOAD_WARNING)\n",
              "    }\n",
              "  }\n",
              "\n",
              "  if (root._bokeh_is_loading === 0) {\n",
              "    console.debug(\"Bokeh: BokehJS loaded, going straight to plotting\");\n",
              "    run_inline_js();\n",
              "  } else {\n",
              "    load_libs(css_urls, js_urls, function() {\n",
              "      console.debug(\"Bokeh: BokehJS plotting callback run at\", now());\n",
              "      run_inline_js();\n",
              "    });\n",
              "  }\n",
              "}(window));"
            ],
            "application/vnd.bokehjs_load.v0+json": "(function(root) {\n  function now() {\n    return new Date();\n  }\n\n  const force = true;\n\n  if (typeof root._bokeh_onload_callbacks === \"undefined\" || force === true) {\n    root._bokeh_onload_callbacks = [];\n    root._bokeh_is_loading = undefined;\n  }\n\n\n  if (typeof (root._bokeh_timeout) === \"undefined\" || force === true) {\n    root._bokeh_timeout = Date.now() + 5000;\n    root._bokeh_failed_load = false;\n  }\n\n  const NB_LOAD_WARNING = {'data': {'text/html':\n     \"<div style='background-color: #fdd'>\\n\"+\n     \"<p>\\n\"+\n     \"BokehJS does not appear to have successfully loaded. If loading BokehJS from CDN, this \\n\"+\n     \"may be due to a slow or bad network connection. Possible fixes:\\n\"+\n     \"</p>\\n\"+\n     \"<ul>\\n\"+\n     \"<li>re-rerun `output_notebook()` to attempt to load from CDN again, or</li>\\n\"+\n     \"<li>use INLINE resources instead, as so:</li>\\n\"+\n     \"</ul>\\n\"+\n     \"<code>\\n\"+\n     \"from bokeh.resources import INLINE\\n\"+\n     \"output_notebook(resources=INLINE)\\n\"+\n     \"</code>\\n\"+\n     \"</div>\"}};\n\n  function display_loaded() {\n    const el = document.getElementById(null);\n    if (el != null) {\n      el.textContent = \"BokehJS is loading...\";\n    }\n    if (root.Bokeh !== undefined) {\n      if (el != null) {\n        el.textContent = \"BokehJS \" + root.Bokeh.version + \" successfully loaded.\";\n      }\n    } else if (Date.now() < root._bokeh_timeout) {\n      setTimeout(display_loaded, 100)\n    }\n  }\n\n  function run_callbacks() {\n    try {\n      root._bokeh_onload_callbacks.forEach(function(callback) {\n        if (callback != null)\n          callback();\n      });\n    } finally {\n      delete root._bokeh_onload_callbacks\n    }\n    console.debug(\"Bokeh: all callbacks have finished\");\n  }\n\n  function load_libs(css_urls, js_urls, callback) {\n    if (css_urls == null) css_urls = [];\n    if (js_urls == null) js_urls = [];\n\n    root._bokeh_onload_callbacks.push(callback);\n    if (root._bokeh_is_loading > 0) {\n      console.debug(\"Bokeh: BokehJS is being loaded, scheduling callback at\", now());\n      return null;\n    }\n    if (js_urls == null || js_urls.length === 0) {\n      run_callbacks();\n      return null;\n    }\n    console.debug(\"Bokeh: BokehJS not loaded, scheduling load and callback at\", now());\n    root._bokeh_is_loading = css_urls.length + js_urls.length;\n\n    function on_load() {\n      root._bokeh_is_loading--;\n      if (root._bokeh_is_loading === 0) {\n        console.debug(\"Bokeh: all BokehJS libraries/stylesheets loaded\");\n        run_callbacks()\n      }\n    }\n\n    function on_error(url) {\n      console.error(\"failed to load \" + url);\n    }\n\n    for (let i = 0; i < css_urls.length; i++) {\n      const url = css_urls[i];\n      const element = document.createElement(\"link\");\n      element.onload = on_load;\n      element.onerror = on_error.bind(null, url);\n      element.rel = \"stylesheet\";\n      element.type = \"text/css\";\n      element.href = url;\n      console.debug(\"Bokeh: injecting link tag for BokehJS stylesheet: \", url);\n      document.body.appendChild(element);\n    }\n\n    for (let i = 0; i < js_urls.length; i++) {\n      const url = js_urls[i];\n      const element = document.createElement('script');\n      element.onload = on_load;\n      element.onerror = on_error.bind(null, url);\n      element.async = false;\n      element.src = url;\n      console.debug(\"Bokeh: injecting script tag for BokehJS library: \", url);\n      document.head.appendChild(element);\n    }\n  };\n\n  function inject_raw_css(css) {\n    const element = document.createElement(\"style\");\n    element.appendChild(document.createTextNode(css));\n    document.body.appendChild(element);\n  }\n\n  const js_urls = [\"https://cdn.bokeh.org/bokeh/release/bokeh-2.4.3.min.js\", \"https://cdn.bokeh.org/bokeh/release/bokeh-gl-2.4.3.min.js\", \"https://cdn.bokeh.org/bokeh/release/bokeh-widgets-2.4.3.min.js\", \"https://cdn.bokeh.org/bokeh/release/bokeh-tables-2.4.3.min.js\", \"https://cdn.bokeh.org/bokeh/release/bokeh-mathjax-2.4.3.min.js\"];\n  const css_urls = [];\n\n  const inline_js = [    function(Bokeh) {\n      Bokeh.set_log_level(\"info\");\n    },\nfunction(Bokeh) {\n    }\n  ];\n\n  function run_inline_js() {\n    if (root.Bokeh !== undefined || force === true) {\n          for (let i = 0; i < inline_js.length; i++) {\n      inline_js[i].call(root, root.Bokeh);\n    }\n} else if (Date.now() < root._bokeh_timeout) {\n      setTimeout(run_inline_js, 100);\n    } else if (!root._bokeh_failed_load) {\n      console.log(\"Bokeh: BokehJS failed to load within specified timeout.\");\n      root._bokeh_failed_load = true;\n    } else if (force !== true) {\n      const cell = $(document.getElementById(null)).parents('.cell').data().cell;\n      cell.output_area.append_execute_result(NB_LOAD_WARNING)\n    }\n  }\n\n  if (root._bokeh_is_loading === 0) {\n    console.debug(\"Bokeh: BokehJS loaded, going straight to plotting\");\n    run_inline_js();\n  } else {\n    load_libs(css_urls, js_urls, function() {\n      console.debug(\"Bokeh: BokehJS plotting callback run at\", now());\n      run_inline_js();\n    });\n  }\n}(window));"
          },
          "metadata": {}
        },
        {
          "output_type": "display_data",
          "data": {
            "text/html": [
              "\n",
              "  <div class=\"bk-root\" id=\"68d132d2-0f76-4b64-96f2-efcb775d2316\" data-root-id=\"1486\"></div>\n"
            ]
          },
          "metadata": {}
        },
        {
          "output_type": "display_data",
          "data": {
            "application/javascript": [
              "(function(root) {\n",
              "  function embed_document(root) {\n",
              "  const docs_json = {\"b176e022-d444-4824-9563-93b7ebf67fbe\":{\"defs\":[],\"roots\":{\"references\":[{\"attributes\":{\"below\":[{\"id\":\"1497\"}],\"center\":[{\"id\":\"1500\"},{\"id\":\"1504\"},{\"id\":\"1535\"}],\"left\":[{\"id\":\"1501\"}],\"renderers\":[{\"id\":\"1523\"},{\"id\":\"1541\"}],\"title\":{\"id\":\"1487\"},\"toolbar\":{\"id\":\"1512\"},\"x_range\":{\"id\":\"1489\"},\"x_scale\":{\"id\":\"1493\"},\"y_range\":{\"id\":\"1491\"},\"y_scale\":{\"id\":\"1495\"}},\"id\":\"1486\",\"subtype\":\"Figure\",\"type\":\"Plot\"},{\"attributes\":{},\"id\":\"1527\",\"type\":\"BasicTickFormatter\"},{\"attributes\":{\"axis_label\":\"x\",\"axis_label_text_color\":\"orange\",\"axis_line_width\":3,\"coordinates\":null,\"formatter\":{\"id\":\"1530\"},\"group\":null,\"major_label_policy\":{\"id\":\"1531\"},\"major_label_text_color\":\"purple\",\"major_tick_line_color\":\"green\",\"major_tick_line_width\":2,\"ticker\":{\"id\":\"1498\"}},\"id\":\"1497\",\"type\":\"LinearAxis\"},{\"attributes\":{},\"id\":\"1502\",\"type\":\"BasicTicker\"},{\"attributes\":{\"axis\":{\"id\":\"1501\"},\"coordinates\":null,\"dimension\":1,\"group\":null,\"ticker\":null},\"id\":\"1504\",\"type\":\"Grid\"},{\"attributes\":{\"label\":{\"value\":\"Line 1\"},\"renderers\":[{\"id\":\"1523\"}]},\"id\":\"1536\",\"type\":\"LegendItem\"},{\"attributes\":{},\"id\":\"1493\",\"type\":\"LinearScale\"},{\"attributes\":{\"axis_label\":\"y\",\"axis_label_text_color\":\"orange\",\"axis_line_width\":3,\"coordinates\":null,\"formatter\":{\"id\":\"1527\"},\"group\":null,\"major_label_policy\":{\"id\":\"1528\"},\"major_label_text_color\":\"purple\",\"major_tick_line_color\":\"green\",\"major_tick_line_width\":2,\"ticker\":{\"id\":\"1502\"}},\"id\":\"1501\",\"type\":\"LinearAxis\"},{\"attributes\":{},\"id\":\"1528\",\"type\":\"AllLabels\"},{\"attributes\":{},\"id\":\"1491\",\"type\":\"DataRange1d\"},{\"attributes\":{\"data\":{\"x\":[1,2,3,4,5],\"y\":[6,7,2,4,5]},\"selected\":{\"id\":\"1533\"},\"selection_policy\":{\"id\":\"1532\"}},\"id\":\"1519\",\"type\":\"ColumnDataSource\"},{\"attributes\":{},\"id\":\"1530\",\"type\":\"BasicTickFormatter\"},{\"attributes\":{},\"id\":\"1498\",\"type\":\"BasicTicker\"},{\"attributes\":{},\"id\":\"1495\",\"type\":\"LinearScale\"},{\"attributes\":{},\"id\":\"1531\",\"type\":\"AllLabels\"},{\"attributes\":{\"data\":{\"x\":[1,2,3,4,5],\"y\":[3,2,5,6,4]},\"selected\":{\"id\":\"1553\"},\"selection_policy\":{\"id\":\"1552\"}},\"id\":\"1537\",\"type\":\"ColumnDataSource\"},{\"attributes\":{},\"id\":\"1489\",\"type\":\"DataRange1d\"},{\"attributes\":{\"line_alpha\":0.1,\"line_color\":\"red\",\"line_width\":2,\"x\":{\"field\":\"x\"},\"y\":{\"field\":\"y\"}},\"id\":\"1521\",\"type\":\"Line\"},{\"attributes\":{\"axis\":{\"id\":\"1497\"},\"coordinates\":null,\"group\":null,\"ticker\":null},\"id\":\"1500\",\"type\":\"Grid\"},{\"attributes\":{\"line_alpha\":0.2,\"line_color\":\"red\",\"line_width\":2,\"x\":{\"field\":\"x\"},\"y\":{\"field\":\"y\"}},\"id\":\"1522\",\"type\":\"Line\"},{\"attributes\":{\"coordinates\":null,\"group\":null,\"text\":\"Bokeh Line Plot\",\"text_color\":\"green\",\"text_font_size\":\"25px\"},\"id\":\"1487\",\"type\":\"Title\"},{\"attributes\":{\"line_color\":\"blue\",\"line_width\":2,\"x\":{\"field\":\"x\"},\"y\":{\"field\":\"y\"}},\"id\":\"1538\",\"type\":\"Line\"},{\"attributes\":{\"source\":{\"id\":\"1537\"}},\"id\":\"1542\",\"type\":\"CDSView\"},{\"attributes\":{},\"id\":\"1532\",\"type\":\"UnionRenderers\"},{\"attributes\":{\"source\":{\"id\":\"1519\"}},\"id\":\"1524\",\"type\":\"CDSView\"},{\"attributes\":{},\"id\":\"1510\",\"type\":\"HelpTool\"},{\"attributes\":{},\"id\":\"1509\",\"type\":\"ResetTool\"},{\"attributes\":{},\"id\":\"1533\",\"type\":\"Selection\"},{\"attributes\":{},\"id\":\"1508\",\"type\":\"SaveTool\"},{\"attributes\":{\"overlay\":{\"id\":\"1511\"}},\"id\":\"1507\",\"type\":\"BoxZoomTool\"},{\"attributes\":{\"label\":{\"value\":\"Line 2\"},\"renderers\":[{\"id\":\"1541\"}]},\"id\":\"1555\",\"type\":\"LegendItem\"},{\"attributes\":{},\"id\":\"1553\",\"type\":\"Selection\"},{\"attributes\":{\"bottom_units\":\"screen\",\"coordinates\":null,\"fill_alpha\":0.5,\"fill_color\":\"lightgrey\",\"group\":null,\"left_units\":\"screen\",\"level\":\"overlay\",\"line_alpha\":1.0,\"line_color\":\"black\",\"line_dash\":[4,4],\"line_width\":2,\"right_units\":\"screen\",\"syncable\":false,\"top_units\":\"screen\"},\"id\":\"1511\",\"type\":\"BoxAnnotation\"},{\"attributes\":{\"line_color\":\"red\",\"line_width\":2,\"x\":{\"field\":\"x\"},\"y\":{\"field\":\"y\"}},\"id\":\"1520\",\"type\":\"Line\"},{\"attributes\":{},\"id\":\"1552\",\"type\":\"UnionRenderers\"},{\"attributes\":{},\"id\":\"1505\",\"type\":\"PanTool\"},{\"attributes\":{\"coordinates\":null,\"group\":null,\"items\":[{\"id\":\"1536\"},{\"id\":\"1555\"}],\"label_text_font_size\":\"14pt\",\"location\":\"top_left\"},\"id\":\"1535\",\"type\":\"Legend\"},{\"attributes\":{\"coordinates\":null,\"data_source\":{\"id\":\"1519\"},\"glyph\":{\"id\":\"1520\"},\"group\":null,\"hover_glyph\":null,\"muted_glyph\":{\"id\":\"1522\"},\"nonselection_glyph\":{\"id\":\"1521\"},\"view\":{\"id\":\"1524\"}},\"id\":\"1523\",\"type\":\"GlyphRenderer\"},{\"attributes\":{},\"id\":\"1506\",\"type\":\"WheelZoomTool\"},{\"attributes\":{\"coordinates\":null,\"data_source\":{\"id\":\"1537\"},\"glyph\":{\"id\":\"1538\"},\"group\":null,\"hover_glyph\":null,\"muted_glyph\":{\"id\":\"1540\"},\"nonselection_glyph\":{\"id\":\"1539\"},\"view\":{\"id\":\"1542\"}},\"id\":\"1541\",\"type\":\"GlyphRenderer\"},{\"attributes\":{\"line_alpha\":0.2,\"line_color\":\"blue\",\"line_width\":2,\"x\":{\"field\":\"x\"},\"y\":{\"field\":\"y\"}},\"id\":\"1540\",\"type\":\"Line\"},{\"attributes\":{\"line_alpha\":0.1,\"line_color\":\"blue\",\"line_width\":2,\"x\":{\"field\":\"x\"},\"y\":{\"field\":\"y\"}},\"id\":\"1539\",\"type\":\"Line\"},{\"attributes\":{\"tools\":[{\"id\":\"1505\"},{\"id\":\"1506\"},{\"id\":\"1507\"},{\"id\":\"1508\"},{\"id\":\"1509\"},{\"id\":\"1510\"}]},\"id\":\"1512\",\"type\":\"Toolbar\"}],\"root_ids\":[\"1486\"]},\"title\":\"Bokeh Application\",\"version\":\"2.4.3\"}};\n",
              "  const render_items = [{\"docid\":\"b176e022-d444-4824-9563-93b7ebf67fbe\",\"root_ids\":[\"1486\"],\"roots\":{\"1486\":\"68d132d2-0f76-4b64-96f2-efcb775d2316\"}}];\n",
              "  root.Bokeh.embed.embed_items_notebook(docs_json, render_items);\n",
              "  }\n",
              "  if (root.Bokeh !== undefined) {\n",
              "    embed_document(root);\n",
              "  } else {\n",
              "    let attempts = 0;\n",
              "    const timer = setInterval(function(root) {\n",
              "      if (root.Bokeh !== undefined) {\n",
              "        clearInterval(timer);\n",
              "        embed_document(root);\n",
              "      } else {\n",
              "        attempts++;\n",
              "        if (attempts > 100) {\n",
              "          clearInterval(timer);\n",
              "          console.log(\"Bokeh: ERROR: Unable to run BokehJS code because BokehJS library is missing\");\n",
              "        }\n",
              "      }\n",
              "    }, 10, root)\n",
              "  }\n",
              "})(window);"
            ],
            "application/vnd.bokehjs_exec.v0+json": ""
          },
          "metadata": {
            "application/vnd.bokehjs_exec.v0+json": {
              "id": "1486"
            }
          }
        }
      ]
    },
    {
      "cell_type": "markdown",
      "source": [
        "![image.png](data:image/png;base64,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)"
      ],
      "metadata": {
        "id": "PcsXQ_e3Prtz"
      }
    },
    {
      "cell_type": "markdown",
      "source": [
        "### `Q4`:What is a Bokeh server, and how can you use it to create interactive plots that can be updated in real time?\n",
        "\n"
      ],
      "metadata": {
        "id": "wSE4QL__omuH"
      }
    },
    {
      "cell_type": "markdown",
      "source": [
        "\n",
        "* A Bokeh server is a Python process that runs a Bokeh application, which is a collection of Bokeh plots and widgets that can be updated in real-time in response to user interaction or data updates.\n",
        "\n",
        "* To use the Bokeh server, we can create a Python script that defines your Bokeh application, then start the server using the bokeh serve command. \n",
        "\n",
        "* Here's an example of a simple Bokeh application that updates a line plot in response to a slider widget:"
      ],
      "metadata": {
        "id": "e1-J7KXAMFWS"
      }
    },
    {
      "cell_type": "code",
      "source": [
        "from bokeh.plotting import figure, curdoc\n",
        "from bokeh.models import Slider\n",
        "\n",
        "x = [1, 2, 3, 4, 5]\n",
        "y = [6, 7, 2, 4, 5]\n",
        "\n",
        "p = figure(title=\"Bokeh Line Plot\", x_axis_label='x', y_axis_label='y')\n",
        "line = p.line(x, y, line_width=2)\n",
        "\n",
        "slider = Slider(start=1, end=10, step=0.1, value=1, title=\"Multiplier\")\n",
        "\n",
        "def update_plot(attrname, old, new):\n",
        "    line.data_source.data['y'] = [i * slider.value for i in y]\n",
        "\n",
        "slider.on_change('value', update_plot)\n",
        "\n",
        "curdoc().add_root(p)\n",
        "curdoc().add_root(slider)\n"
      ],
      "metadata": {
        "id": "K8PaNNz4oPPW"
      },
      "execution_count": null,
      "outputs": []
    },
    {
      "cell_type": "markdown",
      "source": [
        "To run this Bokeh application as a server, we can save the code in a file called app.py, then start the Bokeh server by running the following command in your terminal:"
      ],
      "metadata": {
        "id": "06QPkQZEpJZu"
      }
    },
    {
      "cell_type": "code",
      "source": [
        "bokeh serve app.py"
      ],
      "metadata": {
        "id": "CSB6wdeKMa72"
      },
      "execution_count": null,
      "outputs": []
    },
    {
      "cell_type": "markdown",
      "source": [
        "We can then access the application by navigating to http://localhost:5006/app in your web browser."
      ],
      "metadata": {
        "id": "aBItP1eEpNhV"
      }
    },
    {
      "cell_type": "markdown",
      "source": [
        "### `Q5`: How can you embed a Bokeh plot into a web page or dashboard using Flask or Django?\n",
        "* To embed a Bokeh plot into a web page or dashboard using Flask or Django, you can use the Bokeh components function, which generates the JavaScript and HTML code needed to display a Bokeh plot in a web page.\n",
        "\n",
        "* Here's an example of how to embed a Bokeh plot into a Flask web application:"
      ],
      "metadata": {
        "id": "u3QkeToRpfnc"
      }
    },
    {
      "cell_type": "code",
      "source": [
        "from flask import Flask, render_template\n",
        "from bokeh.plotting import figure\n",
        "from bokeh.embed import components\n",
        "\n",
        "app = Flask(__name__)\n",
        "\n",
        "x = [1, 2, 3, 4, 5]\n",
        "y = [6, 7, 2, 4, 5]\n",
        "\n",
        "p = figure(title=\"Flask Bokeh Plot\", x_axis_label='x', y_axis_label='y')\n",
        "p.line(x, y, line_width=2)\n",
        "\n",
        "@app.route('/')\n",
        "def index():\n",
        "    # generating the JavaScript and HTML components\n",
        "    script, div = components(p)\n",
        "    # rendering the template with the components\n",
        "    return render_template('index.html', script=script, div=div)\n",
        "\n",
        "if __name__ == '__main__':\n",
        "    app.run(debug=True)\n"
      ],
      "metadata": {
        "id": "NrbcufORpYtU",
        "colab": {
          "base_uri": "https://localhost:8080/"
        },
        "outputId": "ce1c4cac-d4e8-445d-d524-d4ee56f8ac0b"
      },
      "execution_count": null,
      "outputs": [
        {
          "output_type": "stream",
          "name": "stdout",
          "text": [
            " * Serving Flask app '__main__'\n",
            " * Debug mode: on\n"
          ]
        },
        {
          "output_type": "stream",
          "name": "stderr",
          "text": [
            "INFO:werkzeug:\u001b[31m\u001b[1mWARNING: This is a development server. Do not use it in a production deployment. Use a production WSGI server instead.\u001b[0m\n",
            " * Running on http://127.0.0.1:5000\n",
            "INFO:werkzeug:\u001b[33mPress CTRL+C to quit\u001b[0m\n",
            "INFO:werkzeug: * Restarting with stat\n"
          ]
        }
      ]
    }
  ]
}